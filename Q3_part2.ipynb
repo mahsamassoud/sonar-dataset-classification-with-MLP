{
 "cells": [
  {
   "cell_type": "markdown",
   "metadata": {
    "id": "8TS1n018gcgB"
   },
   "source": [
    "Mahsa Massoud - 810196635 \n",
    "HW2 - Q3 part 2"
   ]
  },
  {
   "cell_type": "code",
   "execution_count": 1,
   "metadata": {
    "id": "ix8ffLEZ4N8a"
   },
   "outputs": [],
   "source": [
    "from google.colab import drive\n",
    "import numpy as np\n",
    "import pandas as pd\n",
    "from sklearn import preprocessing\n",
    "from sklearn.model_selection import train_test_split\n",
    "from keras.utils import np_utils\n",
    "import itertools\n",
    "from sklearn.metrics import confusion_matrix , classification_report\n",
    "from keras.models import Sequential\n",
    "from keras.utils import np_utils\n",
    "from keras.layers.core import Dense\n",
    "import matplotlib.pyplot as plt\n",
    "from sklearn.decomposition import PCA\n",
    "import time"
   ]
  },
  {
   "cell_type": "code",
   "execution_count": 2,
   "metadata": {
    "colab": {
     "base_uri": "https://localhost:8080/"
    },
    "id": "r2a-NVYi4bFL",
    "outputId": "947387fb-2b29-456a-f2a1-3f8d82138dd1"
   },
   "outputs": [
    {
     "name": "stdout",
     "output_type": "stream",
     "text": [
      "Drive already mounted at /content/drive/; to attempt to forcibly remount, call drive.mount(\"/content/drive/\", force_remount=True).\n"
     ]
    }
   ],
   "source": [
    "drive.mount('/content/drive/')"
   ]
  },
  {
   "cell_type": "code",
   "execution_count": 3,
   "metadata": {
    "id": "WCj0RZgR4dcj"
   },
   "outputs": [],
   "source": [
    "dataframe = pd.read_csv('/content/drive/My Drive/sonar.all-data-2.csv')"
   ]
  },
  {
   "cell_type": "code",
   "execution_count": 4,
   "metadata": {
    "id": "uz7rJfNs4jFN"
   },
   "outputs": [],
   "source": [
    "x = dataframe.drop('class', inplace=False, axis=1).values\n",
    "min_max_scaler = preprocessing.MinMaxScaler()\n",
    "x_scaled = min_max_scaler.fit_transform(x)\n",
    "dataframe2 = pd.DataFrame(x_scaled)\n",
    "dataframe2['class'] = dataframe['class']\n",
    "dataframe = dataframe2"
   ]
  },
  {
   "cell_type": "code",
   "execution_count": 5,
   "metadata": {
    "id": "7J9t-0VQ4qfz"
   },
   "outputs": [],
   "source": [
    "X = dataframe.drop('class', inplace = False, axis = 1)\n",
    "y = dataframe['class']\n",
    "temp = []\n",
    "for i in range(len(y)):\n",
    "    if y[i] == 'R':\n",
    "        temp.append(1)\n",
    "    else:\n",
    "        temp.append(0)\n",
    "y = temp\n",
    "y = pd.Series(y)"
   ]
  },
  {
   "cell_type": "code",
   "execution_count": 6,
   "metadata": {
    "colab": {
     "base_uri": "https://localhost:8080/"
    },
    "id": "D1oRuLRD4qiP",
    "outputId": "23148e3b-5539-44fb-b0d9-08e7e3c269b1"
   },
   "outputs": [
    {
     "name": "stdout",
     "output_type": "stream",
     "text": [
      "Training data shape :  (166, 60) (166,)\n",
      "Testing data shape :  (42, 60) (42,)\n"
     ]
    }
   ],
   "source": [
    "X_train, X_test, y_train, y_test = train_test_split(X, y, test_size = 0.20, random_state = 7)\n",
    "print('Training data shape : ', X_train.shape, y_train.shape)\n",
    "print('Testing data shape : ', X_test.shape, y_test.shape)"
   ]
  },
  {
   "cell_type": "code",
   "execution_count": 7,
   "metadata": {
    "id": "1nb-xVAO4jHz"
   },
   "outputs": [],
   "source": [
    "t = time.time()\n",
    "Y_train = np_utils.to_categorical(y_train)\n",
    "Y_test = np_utils.to_categorical(y_test)"
   ]
  },
  {
   "cell_type": "code",
   "execution_count": 8,
   "metadata": {
    "colab": {
     "base_uri": "https://localhost:8080/"
    },
    "id": "sM5J9Q3i4jMd",
    "outputId": "25e70f9e-5af5-4331-8e25-0b8d3514f9e0"
   },
   "outputs": [
    {
     "name": "stdout",
     "output_type": "stream",
     "text": [
      "Model: \"sequential\"\n",
      "_________________________________________________________________\n",
      "Layer (type)                 Output Shape              Param #   \n",
      "=================================================================\n",
      "dense (Dense)                (None, 200)               12200     \n",
      "_________________________________________________________________\n",
      "dense_1 (Dense)              (None, 450)               90450     \n",
      "_________________________________________________________________\n",
      "dense_2 (Dense)              (None, 400)               180400    \n",
      "_________________________________________________________________\n",
      "dense_3 (Dense)              (None, 100)               40100     \n",
      "_________________________________________________________________\n",
      "dense_4 (Dense)              (None, 2)                 202       \n",
      "=================================================================\n",
      "Total params: 323,352\n",
      "Trainable params: 323,352\n",
      "Non-trainable params: 0\n",
      "_________________________________________________________________\n",
      "Epoch 1/30\n",
      "5/5 [==============================] - 1s 125ms/step - loss: 0.6946 - accuracy: 0.5406 - val_loss: 0.6656 - val_accuracy: 0.5294\n",
      "Epoch 2/30\n",
      "5/5 [==============================] - 0s 11ms/step - loss: 0.6268 - accuracy: 0.6365 - val_loss: 0.6012 - val_accuracy: 0.8235\n",
      "Epoch 3/30\n",
      "5/5 [==============================] - 0s 10ms/step - loss: 0.5633 - accuracy: 0.8338 - val_loss: 0.5549 - val_accuracy: 0.7059\n",
      "Epoch 4/30\n",
      "5/5 [==============================] - 0s 10ms/step - loss: 0.5165 - accuracy: 0.6913 - val_loss: 0.4506 - val_accuracy: 0.8824\n",
      "Epoch 5/30\n",
      "5/5 [==============================] - 0s 10ms/step - loss: 0.4370 - accuracy: 0.8127 - val_loss: 0.4237 - val_accuracy: 0.8529\n",
      "Epoch 6/30\n",
      "5/5 [==============================] - 0s 10ms/step - loss: 0.3500 - accuracy: 0.8424 - val_loss: 0.4241 - val_accuracy: 0.8529\n",
      "Epoch 7/30\n",
      "5/5 [==============================] - 0s 10ms/step - loss: 0.2944 - accuracy: 0.9155 - val_loss: 0.4401 - val_accuracy: 0.8529\n",
      "Epoch 8/30\n",
      "5/5 [==============================] - 0s 10ms/step - loss: 0.2958 - accuracy: 0.8541 - val_loss: 0.4285 - val_accuracy: 0.7941\n",
      "Epoch 9/30\n",
      "5/5 [==============================] - 0s 11ms/step - loss: 0.2325 - accuracy: 0.9303 - val_loss: 0.4445 - val_accuracy: 0.7647\n",
      "Epoch 10/30\n",
      "5/5 [==============================] - 0s 10ms/step - loss: 0.2632 - accuracy: 0.8854 - val_loss: 0.6726 - val_accuracy: 0.7941\n",
      "Epoch 11/30\n",
      "5/5 [==============================] - 0s 9ms/step - loss: 0.2183 - accuracy: 0.9135 - val_loss: 0.3948 - val_accuracy: 0.8235\n",
      "Epoch 12/30\n",
      "5/5 [==============================] - 0s 10ms/step - loss: 0.1201 - accuracy: 0.9713 - val_loss: 0.6240 - val_accuracy: 0.8235\n",
      "Epoch 13/30\n",
      "5/5 [==============================] - 0s 10ms/step - loss: 0.1696 - accuracy: 0.9234 - val_loss: 0.4236 - val_accuracy: 0.7647\n",
      "Epoch 14/30\n",
      "5/5 [==============================] - 0s 9ms/step - loss: 0.1585 - accuracy: 0.9001 - val_loss: 0.6083 - val_accuracy: 0.8529\n",
      "Epoch 15/30\n",
      "5/5 [==============================] - 0s 9ms/step - loss: 0.1095 - accuracy: 0.9545 - val_loss: 0.6190 - val_accuracy: 0.7941\n",
      "Epoch 16/30\n",
      "5/5 [==============================] - 0s 10ms/step - loss: 0.0878 - accuracy: 0.9755 - val_loss: 0.3336 - val_accuracy: 0.9118\n",
      "Epoch 17/30\n",
      "5/5 [==============================] - 0s 12ms/step - loss: 0.0488 - accuracy: 0.9863 - val_loss: 0.6979 - val_accuracy: 0.8529\n",
      "Epoch 18/30\n",
      "5/5 [==============================] - 0s 10ms/step - loss: 0.2257 - accuracy: 0.8804 - val_loss: 0.6696 - val_accuracy: 0.7647\n",
      "Epoch 19/30\n",
      "5/5 [==============================] - 0s 10ms/step - loss: 0.3075 - accuracy: 0.8935 - val_loss: 1.2138 - val_accuracy: 0.7059\n",
      "Epoch 20/30\n",
      "5/5 [==============================] - 0s 10ms/step - loss: 0.3230 - accuracy: 0.8633 - val_loss: 0.2816 - val_accuracy: 0.9118\n",
      "Epoch 21/30\n",
      "5/5 [==============================] - 0s 10ms/step - loss: 0.1561 - accuracy: 0.9268 - val_loss: 0.2896 - val_accuracy: 0.9412\n",
      "Epoch 22/30\n",
      "5/5 [==============================] - 0s 9ms/step - loss: 0.0652 - accuracy: 0.9837 - val_loss: 0.6193 - val_accuracy: 0.8529\n",
      "Epoch 23/30\n",
      "5/5 [==============================] - 0s 10ms/step - loss: 0.0610 - accuracy: 1.0000 - val_loss: 0.4830 - val_accuracy: 0.8529\n",
      "Epoch 24/30\n",
      "5/5 [==============================] - 0s 9ms/step - loss: 0.0312 - accuracy: 1.0000 - val_loss: 0.4568 - val_accuracy: 0.8824\n",
      "Epoch 25/30\n",
      "5/5 [==============================] - 0s 10ms/step - loss: 0.0230 - accuracy: 1.0000 - val_loss: 0.5557 - val_accuracy: 0.8529\n",
      "Epoch 26/30\n",
      "5/5 [==============================] - 0s 10ms/step - loss: 0.0139 - accuracy: 1.0000 - val_loss: 0.5528 - val_accuracy: 0.8824\n",
      "Epoch 27/30\n",
      "5/5 [==============================] - 0s 10ms/step - loss: 0.0088 - accuracy: 1.0000 - val_loss: 0.4669 - val_accuracy: 0.8824\n",
      "Epoch 28/30\n",
      "5/5 [==============================] - 0s 10ms/step - loss: 0.0070 - accuracy: 1.0000 - val_loss: 0.5196 - val_accuracy: 0.8824\n",
      "Epoch 29/30\n",
      "5/5 [==============================] - 0s 10ms/step - loss: 0.0029 - accuracy: 1.0000 - val_loss: 0.6227 - val_accuracy: 0.8824\n",
      "Epoch 30/30\n",
      "5/5 [==============================] - 0s 9ms/step - loss: 0.0034 - accuracy: 1.0000 - val_loss: 0.6619 - val_accuracy: 0.8824\n"
     ]
    }
   ],
   "source": [
    "model = Sequential()\n",
    "model.add(Dense(200, activation = 'relu', input_shape = (60,)))\n",
    "model.add(Dense(450, activation = 'relu'))\n",
    "model.add(Dense(400, activation = 'relu'))\n",
    "model.add(Dense(100, activation = 'relu'))\n",
    "model.add(Dense(2, activation = 'softmax'))\n",
    "model.summary()\n",
    "model.compile(loss = 'categorical_crossentropy', optimizer = 'adam', metrics = ['accuracy'])\n",
    "history = model.fit(X_train, Y_train, epochs = 30, batch_size = 32, validation_split = 0.2)"
   ]
  },
  {
   "cell_type": "code",
   "execution_count": 9,
   "metadata": {
    "colab": {
     "base_uri": "https://localhost:8080/"
    },
    "id": "TlsqVdAv8jUk",
    "outputId": "2adbc8ac-def0-4139-d4e7-5effcec50fa5"
   },
   "outputs": [
    {
     "name": "stdout",
     "output_type": "stream",
     "text": [
      "Total Time :  3.5816500186920166\n"
     ]
    }
   ],
   "source": [
    "elapsed = time.time() - t\n",
    "print('Total Time : ', elapsed)"
   ]
  },
  {
   "cell_type": "code",
   "execution_count": 10,
   "metadata": {
    "colab": {
     "base_uri": "https://localhost:8080/",
     "height": 313
    },
    "id": "M5FH_Ev-5dbV",
    "outputId": "6a64b448-58b8-483f-b74c-96c03a7cb416"
   },
   "outputs": [
    {
     "data": {
      "text/plain": [
       "<matplotlib.legend.Legend at 0x7f8fb4673e50>"
      ]
     },
     "execution_count": 10,
     "metadata": {
      "tags": []
     },
     "output_type": "execute_result"
    },
    {
     "data": {
      "image/png": "[encoded data removed]",
      "text/plain": [
       "<Figure size 432x288 with 1 Axes>"
      ]
     },
     "metadata": {
      "needs_background": "light",
      "tags": []
     },
     "output_type": "display_data"
    }
   ],
   "source": [
    "\n",
    "plt.plot(history.history['accuracy'])\n",
    "plt.plot(history.history['val_accuracy'])\n",
    "plt.title('Accuracy')\n",
    "plt.ylabel('accuracy')\n",
    "plt.xlabel('epoch')\n",
    "plt.legend(['train', 'validation'], loc='lower right')"
   ]
  },
  {
   "cell_type": "code",
   "execution_count": 11,
   "metadata": {
    "colab": {
     "base_uri": "https://localhost:8080/",
     "height": 313
    },
    "id": "zZ2-b-lw5dd3",
    "outputId": "228b3c8d-1c45-4795-d2f8-42d103db75cb"
   },
   "outputs": [
    {
     "data": {
      "text/plain": [
       "<matplotlib.legend.Legend at 0x7f8fb45b8e10>"
      ]
     },
     "execution_count": 11,
     "metadata": {
      "tags": []
     },
     "output_type": "execute_result"
    },
    {
     "data": {
      "image/png": "[encoded data removed]",
      "text/plain": [
       "<Figure size 432x288 with 1 Axes>"
      ]
     },
     "metadata": {
      "needs_background": "light",
      "tags": []
     },
     "output_type": "display_data"
    }
   ],
   "source": [
    "plt.plot(history.history['loss'])\n",
    "plt.plot(history.history['val_loss'])\n",
    "plt.title('Loss')\n",
    "plt.ylabel('loss')\n",
    "plt.xlabel('epoch')\n",
    "plt.legend(['train', 'validation'], loc = 'upper right')"
   ]
  },
  {
   "cell_type": "code",
   "execution_count": 12,
   "metadata": {
    "colab": {
     "base_uri": "https://localhost:8080/"
    },
    "id": "U8Raa7WQ5dgV",
    "outputId": "e1aed201-3e1c-4367-8895-dad6ea2e8efa"
   },
   "outputs": [
    {
     "name": "stdout",
     "output_type": "stream",
     "text": [
      "2/2 [==============================] - 0s 5ms/step - loss: 0.4349 - accuracy: 0.8333\n",
      "Test Loss 0.43485504388809204\n",
      "Test Accuracy 0.8333333134651184\n",
      "confusion matrix=\n",
      " [[24  3]\n",
      " [ 4 11]]\n"
     ]
    }
   ],
   "source": [
    "Y_pred = model.predict(X_test)\n",
    "y_pred = np.argmax(Y_pred, axis = 1)\n",
    "[test_loss, test_acc] = model.evaluate(X_test, Y_test)\n",
    "print(\"Test Loss\", test_loss)\n",
    "print(\"Test Accuracy\", test_acc)\n",
    "class_names = [0, 1]\n",
    "confusion_mtx = confusion_matrix(y_test, y_pred)\n",
    "print(\"confusion matrix=\\n\", confusion_mtx)"
   ]
  },
  {
   "cell_type": "code",
   "execution_count": 13,
   "metadata": {
    "id": "a-AW3zxE5diY"
   },
   "outputs": [],
   "source": [
    "# second model pca\n",
    "X_train, X_test, y_train, y_test = train_test_split(X, y, test_size = 0.20, random_state = 7)\n",
    "t = time.time()\n",
    "Y_train = np_utils.to_categorical(y_train)\n",
    "Y_test = np_utils.to_categorical(y_test)"
   ]
  },
  {
   "cell_type": "code",
   "execution_count": 14,
   "metadata": {
    "colab": {
     "base_uri": "https://localhost:8080/"
    },
    "id": "sj5-tleP5dl4",
    "outputId": "96254dc9-f011-458e-b204-40ccdd13cf67"
   },
   "outputs": [
    {
     "data": {
      "text/plain": [
       "27"
      ]
     },
     "execution_count": 14,
     "metadata": {
      "tags": []
     },
     "output_type": "execute_result"
    }
   ],
   "source": [
    "pca = PCA(.95)\n",
    "pca.fit(X_train)\n",
    "pca.n_components_"
   ]
  },
  {
   "cell_type": "code",
   "execution_count": 15,
   "metadata": {
    "id": "vcHUINAn4jO8"
   },
   "outputs": [],
   "source": [
    "X_train = pca.transform(X_train)\n",
    "X_test = pca.transform(X_test)"
   ]
  },
  {
   "cell_type": "code",
   "execution_count": 16,
   "metadata": {
    "colab": {
     "base_uri": "https://localhost:8080/"
    },
    "id": "nFGWXqpl6VDK",
    "outputId": "7dc39285-65a7-4d87-bf6c-0af687ecee0e"
   },
   "outputs": [
    {
     "name": "stdout",
     "output_type": "stream",
     "text": [
      "Model: \"sequential_1\"\n",
      "_________________________________________________________________\n",
      "Layer (type)                 Output Shape              Param #   \n",
      "=================================================================\n",
      "dense_5 (Dense)              (None, 200)               5600      \n",
      "_________________________________________________________________\n",
      "dense_6 (Dense)              (None, 450)               90450     \n",
      "_________________________________________________________________\n",
      "dense_7 (Dense)              (None, 400)               180400    \n",
      "_________________________________________________________________\n",
      "dense_8 (Dense)              (None, 100)               40100     \n",
      "_________________________________________________________________\n",
      "dense_9 (Dense)              (None, 2)                 202       \n",
      "=================================================================\n",
      "Total params: 316,752\n",
      "Trainable params: 316,752\n",
      "Non-trainable params: 0\n",
      "_________________________________________________________________\n",
      "Epoch 1/10\n",
      "5/5 [==============================] - 1s 43ms/step - loss: 0.6679 - accuracy: 0.5930 - val_loss: 0.5810 - val_accuracy: 0.7941\n",
      "Epoch 2/10\n",
      "5/5 [==============================] - 0s 10ms/step - loss: 0.5308 - accuracy: 0.8017 - val_loss: 0.4714 - val_accuracy: 0.8235\n",
      "Epoch 3/10\n",
      "5/5 [==============================] - 0s 9ms/step - loss: 0.3820 - accuracy: 0.9085 - val_loss: 0.4144 - val_accuracy: 0.7941\n",
      "Epoch 4/10\n",
      "5/5 [==============================] - 0s 9ms/step - loss: 0.2364 - accuracy: 0.9378 - val_loss: 0.4488 - val_accuracy: 0.7647\n",
      "Epoch 5/10\n",
      "5/5 [==============================] - 0s 9ms/step - loss: 0.1870 - accuracy: 0.9268 - val_loss: 0.4734 - val_accuracy: 0.7941\n",
      "Epoch 6/10\n",
      "5/5 [==============================] - 0s 10ms/step - loss: 0.1086 - accuracy: 0.9567 - val_loss: 0.7682 - val_accuracy: 0.8235\n",
      "Epoch 7/10\n",
      "5/5 [==============================] - 0s 10ms/step - loss: 0.0976 - accuracy: 0.9694 - val_loss: 0.7773 - val_accuracy: 0.8235\n",
      "Epoch 8/10\n",
      "5/5 [==============================] - 0s 10ms/step - loss: 0.0415 - accuracy: 0.9923 - val_loss: 0.6858 - val_accuracy: 0.7941\n",
      "Epoch 9/10\n",
      "5/5 [==============================] - 0s 9ms/step - loss: 0.0449 - accuracy: 0.9732 - val_loss: 0.8379 - val_accuracy: 0.8529\n",
      "Epoch 10/10\n",
      "5/5 [==============================] - 0s 9ms/step - loss: 0.0304 - accuracy: 0.9866 - val_loss: 0.7855 - val_accuracy: 0.8824\n"
     ]
    }
   ],
   "source": [
    "model = Sequential()\n",
    "model.add(Dense(200, activation = 'relu', input_shape = (27,)))\n",
    "model.add(Dense(450, activation = 'relu'))\n",
    "model.add(Dense(400, activation = 'relu'))\n",
    "model.add(Dense(100, activation = 'relu'))\n",
    "model.add(Dense(2, activation = 'softmax'))\n",
    "model.summary()\n",
    "model.compile(loss = 'categorical_crossentropy', optimizer = 'adam', metrics = ['accuracy'])\n",
    "history = model.fit(X_train, Y_train, epochs = 10, batch_size = 32, validation_split = 0.2)"
   ]
  },
  {
   "cell_type": "code",
   "execution_count": 17,
   "metadata": {
    "id": "l5n63lkz6VFY"
   },
   "outputs": [],
   "source": [
    "elapsed = time.time() - t"
   ]
  },
  {
   "cell_type": "code",
   "execution_count": 18,
   "metadata": {
    "colab": {
     "base_uri": "https://localhost:8080/"
    },
    "id": "W7stj6KM6VH7",
    "outputId": "e994251f-8e5d-4776-8afc-fde7064fb7b8"
   },
   "outputs": [
    {
     "name": "stdout",
     "output_type": "stream",
     "text": [
      "Total Time :  1.1135821342468262\n"
     ]
    }
   ],
   "source": [
    "print('Total Time : ', elapsed)"
   ]
  },
  {
   "cell_type": "code",
   "execution_count": 19,
   "metadata": {
    "colab": {
     "base_uri": "https://localhost:8080/",
     "height": 313
    },
    "id": "v9jfSJcs6VJ7",
    "outputId": "e8435227-7aa1-4d1e-a69e-de76a31da35e"
   },
   "outputs": [
    {
     "data": {
      "text/plain": [
       "<matplotlib.legend.Legend at 0x7f9013734750>"
      ]
     },
     "execution_count": 19,
     "metadata": {
      "tags": []
     },
     "output_type": "execute_result"
    },
    {
     "data": {
      "image/png": "[encoded data removed]",
      "text/plain": [
       "<Figure size 432x288 with 1 Axes>"
      ]
     },
     "metadata": {
      "needs_background": "light",
      "tags": []
     },
     "output_type": "display_data"
    }
   ],
   "source": [
    "plt.plot(history.history['accuracy'])\n",
    "plt.plot(history.history['val_accuracy'])\n",
    "plt.title('Accuracy')\n",
    "plt.ylabel('accuracy')\n",
    "plt.xlabel('epoch')\n",
    "plt.legend(['train', 'validation'], loc='lower right')\n",
    "\n",
    "\n"
   ]
  },
  {
   "cell_type": "code",
   "execution_count": 20,
   "metadata": {
    "colab": {
     "base_uri": "https://localhost:8080/",
     "height": 313
    },
    "id": "F8UzTK9_6VNZ",
    "outputId": "cb082e01-db05-40af-e0e8-9af35990ff3f"
   },
   "outputs": [
    {
     "data": {
      "text/plain": [
       "<matplotlib.legend.Legend at 0x7f8fae7bd150>"
      ]
     },
     "execution_count": 20,
     "metadata": {
      "tags": []
     },
     "output_type": "execute_result"
    },
    {
     "data": {
      "image/png": "[encoded data removed]",
      "text/plain": [
       "<Figure size 432x288 with 1 Axes>"
      ]
     },
     "metadata": {
      "needs_background": "light",
      "tags": []
     },
     "output_type": "display_data"
    }
   ],
   "source": [
    "plt.plot(history.history['loss'])\n",
    "plt.plot(history.history['val_loss'])\n",
    "plt.title('Loss')\n",
    "plt.ylabel('loss')\n",
    "plt.xlabel('epoch')\n",
    "plt.legend(['train', 'validation'], loc = 'upper right')"
   ]
  },
  {
   "cell_type": "code",
   "execution_count": 21,
   "metadata": {
    "colab": {
     "base_uri": "https://localhost:8080/"
    },
    "id": "H88ywK2w6rWW",
    "outputId": "657287cf-e206-4c05-bbf1-384144b40b31"
   },
   "outputs": [
    {
     "name": "stdout",
     "output_type": "stream",
     "text": [
      "2/2 [==============================] - 0s 6ms/step - loss: 0.6178 - accuracy: 0.8571\n",
      "Test Loss 0.6178253293037415\n",
      "Test Accuracy 0.8571428656578064\n",
      "confusion matrix=\n",
      " [[25  2]\n",
      " [ 4 11]]\n"
     ]
    }
   ],
   "source": [
    "Y_pred = model.predict(X_test)\n",
    "y_pred = np.argmax(Y_pred, axis = 1)\n",
    "[test_loss, test_acc] = model.evaluate(X_test, Y_test)\n",
    "print(\"Test Loss\", test_loss)\n",
    "print(\"Test Accuracy\", test_acc)\n",
    "class_names = [0, 1]\n",
    "confusion_mtx = confusion_matrix(y_test, y_pred)\n",
    "print(\"confusion matrix=\\n\", confusion_mtx)"
   ]
  },
  {
   "cell_type": "code",
   "execution_count": 22,
   "metadata": {
    "id": "pXeWq0Q36rYw"
   },
   "outputs": [],
   "source": [
    "#autoencoder\n",
    "from sklearn.datasets import make_classification\n",
    "from sklearn.preprocessing import MinMaxScaler\n",
    "from sklearn.model_selection import train_test_split\n",
    "from tensorflow.keras.models import Model\n",
    "from tensorflow.keras.layers import Input\n",
    "from tensorflow.keras.layers import Dense\n",
    "from tensorflow.keras.layers import LeakyReLU\n",
    "from tensorflow.keras.layers import BatchNormalization\n",
    "from tensorflow.keras.utils import plot_model\n",
    "from matplotlib import pyplot\n",
    "X_train, X_test, y_train, y_test = train_test_split(X, y, test_size = 0.20, random_state = 7)\n"
   ]
  },
  {
   "cell_type": "code",
   "execution_count": 23,
   "metadata": {
    "id": "y7eZ10e76rbG"
   },
   "outputs": [],
   "source": [
    "t = time.time()"
   ]
  },
  {
   "cell_type": "code",
   "execution_count": 24,
   "metadata": {
    "id": "o4hL19PB6rec"
   },
   "outputs": [],
   "source": [
    "Y_train = np_utils.to_categorical(y_train)\n",
    "Y_test = np_utils.to_categorical(y_test)"
   ]
  },
  {
   "cell_type": "code",
   "execution_count": 25,
   "metadata": {
    "id": "BDXgdUSP6rhC"
   },
   "outputs": [],
   "source": [
    "n_inputs = 60\n",
    "# define encoder\n",
    "visible = Input(shape=(n_inputs,))\n",
    "# encoder level 1\n",
    "e = Dense(n_inputs*2)(visible)\n",
    "e = BatchNormalization()(e)\n",
    "e = LeakyReLU()(e)\n",
    "# encoder level 2\n",
    "e = Dense(n_inputs)(e)\n",
    "e = BatchNormalization()(e)\n",
    "e = LeakyReLU()(e)\n",
    "# bottleneck\n",
    "n_bottleneck = round(float(n_inputs) / 6.0)\n",
    "bottleneck = Dense(n_bottleneck)(e)"
   ]
  },
  {
   "cell_type": "code",
   "execution_count": 26,
   "metadata": {
    "id": "F1IVMS8R6rj-"
   },
   "outputs": [],
   "source": [
    "# define decoder, level 1\n",
    "d = Dense(n_inputs)(bottleneck)\n",
    "d = BatchNormalization()(d)\n",
    "d = LeakyReLU()(d)\n",
    "# decoder level 2\n",
    "d = Dense(n_inputs*2)(d)\n",
    "d = BatchNormalization()(d)\n",
    "d = LeakyReLU()(d)\n",
    "# output layer\n",
    "output = Dense(n_inputs, activation='linear')(d)\n",
    "# define autoencoder model\n",
    "model = Model(inputs=visible, outputs=output)"
   ]
  },
  {
   "cell_type": "code",
   "execution_count": 27,
   "metadata": {
    "colab": {
     "base_uri": "https://localhost:8080/"
    },
    "id": "CVN5L5e26rmD",
    "outputId": "5d810651-c4d2-4488-8c69-edda5a5633e8"
   },
   "outputs": [
    {
     "name": "stdout",
     "output_type": "stream",
     "text": [
      "Epoch 1/100\n",
      "11/11 - 1s - loss: 0.6770 - val_loss: 0.1772\n",
      "Epoch 2/100\n",
      "11/11 - 0s - loss: 0.2487 - val_loss: 0.1549\n",
      "Epoch 3/100\n",
      "11/11 - 0s - loss: 0.1159 - val_loss: 0.1321\n",
      "Epoch 4/100\n",
      "11/11 - 0s - loss: 0.0742 - val_loss: 0.1150\n",
      "Epoch 5/100\n",
      "11/11 - 0s - loss: 0.0599 - val_loss: 0.1056\n",
      "Epoch 6/100\n",
      "11/11 - 0s - loss: 0.0480 - val_loss: 0.0994\n",
      "Epoch 7/100\n",
      "11/11 - 0s - loss: 0.0426 - val_loss: 0.0911\n",
      "Epoch 8/100\n",
      "11/11 - 0s - loss: 0.0379 - val_loss: 0.0839\n",
      "Epoch 9/100\n",
      "11/11 - 0s - loss: 0.0346 - val_loss: 0.0761\n",
      "Epoch 10/100\n",
      "11/11 - 0s - loss: 0.0339 - val_loss: 0.0684\n",
      "Epoch 11/100\n",
      "11/11 - 0s - loss: 0.0336 - val_loss: 0.0624\n",
      "Epoch 12/100\n",
      "11/11 - 0s - loss: 0.0312 - val_loss: 0.0577\n",
      "Epoch 13/100\n",
      "11/11 - 0s - loss: 0.0319 - val_loss: 0.0524\n",
      "Epoch 14/100\n",
      "11/11 - 0s - loss: 0.0307 - val_loss: 0.0489\n",
      "Epoch 15/100\n",
      "11/11 - 0s - loss: 0.0301 - val_loss: 0.0468\n",
      "Epoch 16/100\n",
      "11/11 - 0s - loss: 0.0284 - val_loss: 0.0416\n",
      "Epoch 17/100\n",
      "11/11 - 0s - loss: 0.0276 - val_loss: 0.0395\n",
      "Epoch 18/100\n",
      "11/11 - 0s - loss: 0.0272 - val_loss: 0.0371\n",
      "Epoch 19/100\n",
      "11/11 - 0s - loss: 0.0275 - val_loss: 0.0345\n",
      "Epoch 20/100\n",
      "11/11 - 0s - loss: 0.0264 - val_loss: 0.0327\n",
      "Epoch 21/100\n",
      "11/11 - 0s - loss: 0.0253 - val_loss: 0.0325\n",
      "Epoch 22/100\n",
      "11/11 - 0s - loss: 0.0253 - val_loss: 0.0303\n",
      "Epoch 23/100\n",
      "11/11 - 0s - loss: 0.0257 - val_loss: 0.0299\n",
      "Epoch 24/100\n",
      "11/11 - 0s - loss: 0.0258 - val_loss: 0.0280\n",
      "Epoch 25/100\n",
      "11/11 - 0s - loss: 0.0246 - val_loss: 0.0268\n",
      "Epoch 26/100\n",
      "11/11 - 0s - loss: 0.0255 - val_loss: 0.0261\n",
      "Epoch 27/100\n",
      "11/11 - 0s - loss: 0.0238 - val_loss: 0.0258\n",
      "Epoch 28/100\n",
      "11/11 - 0s - loss: 0.0241 - val_loss: 0.0258\n",
      "Epoch 29/100\n",
      "11/11 - 0s - loss: 0.0224 - val_loss: 0.0250\n",
      "Epoch 30/100\n",
      "11/11 - 0s - loss: 0.0219 - val_loss: 0.0243\n",
      "Epoch 31/100\n",
      "11/11 - 0s - loss: 0.0222 - val_loss: 0.0237\n",
      "Epoch 32/100\n",
      "11/11 - 0s - loss: 0.0222 - val_loss: 0.0244\n",
      "Epoch 33/100\n",
      "11/11 - 0s - loss: 0.0217 - val_loss: 0.0238\n",
      "Epoch 34/100\n",
      "11/11 - 0s - loss: 0.0226 - val_loss: 0.0238\n",
      "Epoch 35/100\n",
      "11/11 - 0s - loss: 0.0215 - val_loss: 0.0233\n",
      "Epoch 36/100\n",
      "11/11 - 0s - loss: 0.0221 - val_loss: 0.0231\n",
      "Epoch 37/100\n",
      "11/11 - 0s - loss: 0.0206 - val_loss: 0.0226\n",
      "Epoch 38/100\n",
      "11/11 - 0s - loss: 0.0213 - val_loss: 0.0224\n",
      "Epoch 39/100\n",
      "11/11 - 0s - loss: 0.0219 - val_loss: 0.0230\n",
      "Epoch 40/100\n",
      "11/11 - 0s - loss: 0.0204 - val_loss: 0.0218\n",
      "Epoch 41/100\n",
      "11/11 - 0s - loss: 0.0220 - val_loss: 0.0223\n",
      "Epoch 42/100\n",
      "11/11 - 0s - loss: 0.0215 - val_loss: 0.0221\n",
      "Epoch 43/100\n",
      "11/11 - 0s - loss: 0.0217 - val_loss: 0.0227\n",
      "Epoch 44/100\n",
      "11/11 - 0s - loss: 0.0203 - val_loss: 0.0213\n",
      "Epoch 45/100\n",
      "11/11 - 0s - loss: 0.0204 - val_loss: 0.0210\n",
      "Epoch 46/100\n",
      "11/11 - 0s - loss: 0.0211 - val_loss: 0.0215\n",
      "Epoch 47/100\n",
      "11/11 - 0s - loss: 0.0207 - val_loss: 0.0213\n",
      "Epoch 48/100\n",
      "11/11 - 0s - loss: 0.0206 - val_loss: 0.0209\n",
      "Epoch 49/100\n",
      "11/11 - 0s - loss: 0.0189 - val_loss: 0.0202\n",
      "Epoch 50/100\n",
      "11/11 - 0s - loss: 0.0200 - val_loss: 0.0201\n",
      "Epoch 51/100\n",
      "11/11 - 0s - loss: 0.0188 - val_loss: 0.0203\n",
      "Epoch 52/100\n",
      "11/11 - 0s - loss: 0.0190 - val_loss: 0.0204\n",
      "Epoch 53/100\n",
      "11/11 - 0s - loss: 0.0189 - val_loss: 0.0196\n",
      "Epoch 54/100\n",
      "11/11 - 0s - loss: 0.0187 - val_loss: 0.0200\n",
      "Epoch 55/100\n",
      "11/11 - 0s - loss: 0.0198 - val_loss: 0.0199\n",
      "Epoch 56/100\n",
      "11/11 - 0s - loss: 0.0175 - val_loss: 0.0199\n",
      "Epoch 57/100\n",
      "11/11 - 0s - loss: 0.0207 - val_loss: 0.0196\n",
      "Epoch 58/100\n",
      "11/11 - 0s - loss: 0.0193 - val_loss: 0.0197\n",
      "Epoch 59/100\n",
      "11/11 - 0s - loss: 0.0201 - val_loss: 0.0202\n",
      "Epoch 60/100\n",
      "11/11 - 0s - loss: 0.0190 - val_loss: 0.0191\n",
      "Epoch 61/100\n",
      "11/11 - 0s - loss: 0.0177 - val_loss: 0.0189\n",
      "Epoch 62/100\n",
      "11/11 - 0s - loss: 0.0190 - val_loss: 0.0188\n",
      "Epoch 63/100\n",
      "11/11 - 0s - loss: 0.0180 - val_loss: 0.0185\n",
      "Epoch 64/100\n",
      "11/11 - 0s - loss: 0.0179 - val_loss: 0.0191\n",
      "Epoch 65/100\n",
      "11/11 - 0s - loss: 0.0175 - val_loss: 0.0192\n",
      "Epoch 66/100\n",
      "11/11 - 0s - loss: 0.0172 - val_loss: 0.0188\n",
      "Epoch 67/100\n",
      "11/11 - 0s - loss: 0.0171 - val_loss: 0.0187\n",
      "Epoch 68/100\n",
      "11/11 - 0s - loss: 0.0172 - val_loss: 0.0182\n",
      "Epoch 69/100\n",
      "11/11 - 0s - loss: 0.0190 - val_loss: 0.0194\n",
      "Epoch 70/100\n",
      "11/11 - 0s - loss: 0.0180 - val_loss: 0.0199\n",
      "Epoch 71/100\n",
      "11/11 - 0s - loss: 0.0183 - val_loss: 0.0194\n",
      "Epoch 72/100\n",
      "11/11 - 0s - loss: 0.0185 - val_loss: 0.0187\n",
      "Epoch 73/100\n",
      "11/11 - 0s - loss: 0.0169 - val_loss: 0.0184\n",
      "Epoch 74/100\n",
      "11/11 - 0s - loss: 0.0170 - val_loss: 0.0185\n",
      "Epoch 75/100\n",
      "11/11 - 0s - loss: 0.0173 - val_loss: 0.0184\n",
      "Epoch 76/100\n",
      "11/11 - 0s - loss: 0.0185 - val_loss: 0.0190\n",
      "Epoch 77/100\n",
      "11/11 - 0s - loss: 0.0178 - val_loss: 0.0181\n",
      "Epoch 78/100\n",
      "11/11 - 0s - loss: 0.0174 - val_loss: 0.0182\n",
      "Epoch 79/100\n",
      "11/11 - 0s - loss: 0.0167 - val_loss: 0.0177\n",
      "Epoch 80/100\n",
      "11/11 - 0s - loss: 0.0171 - val_loss: 0.0179\n",
      "Epoch 81/100\n",
      "11/11 - 0s - loss: 0.0177 - val_loss: 0.0179\n",
      "Epoch 82/100\n",
      "11/11 - 0s - loss: 0.0165 - val_loss: 0.0176\n",
      "Epoch 83/100\n",
      "11/11 - 0s - loss: 0.0167 - val_loss: 0.0176\n",
      "Epoch 84/100\n",
      "11/11 - 0s - loss: 0.0169 - val_loss: 0.0170\n",
      "Epoch 85/100\n",
      "11/11 - 0s - loss: 0.0171 - val_loss: 0.0176\n",
      "Epoch 86/100\n",
      "11/11 - 0s - loss: 0.0169 - val_loss: 0.0175\n",
      "Epoch 87/100\n",
      "11/11 - 0s - loss: 0.0159 - val_loss: 0.0171\n",
      "Epoch 88/100\n",
      "11/11 - 0s - loss: 0.0151 - val_loss: 0.0166\n",
      "Epoch 89/100\n",
      "11/11 - 0s - loss: 0.0153 - val_loss: 0.0169\n",
      "Epoch 90/100\n",
      "11/11 - 0s - loss: 0.0154 - val_loss: 0.0166\n",
      "Epoch 91/100\n",
      "11/11 - 0s - loss: 0.0165 - val_loss: 0.0168\n",
      "Epoch 92/100\n",
      "11/11 - 0s - loss: 0.0154 - val_loss: 0.0170\n",
      "Epoch 93/100\n",
      "11/11 - 0s - loss: 0.0161 - val_loss: 0.0163\n",
      "Epoch 94/100\n",
      "11/11 - 0s - loss: 0.0163 - val_loss: 0.0168\n",
      "Epoch 95/100\n",
      "11/11 - 0s - loss: 0.0168 - val_loss: 0.0163\n",
      "Epoch 96/100\n",
      "11/11 - 0s - loss: 0.0152 - val_loss: 0.0168\n",
      "Epoch 97/100\n",
      "11/11 - 0s - loss: 0.0168 - val_loss: 0.0169\n",
      "Epoch 98/100\n",
      "11/11 - 0s - loss: 0.0162 - val_loss: 0.0171\n",
      "Epoch 99/100\n",
      "11/11 - 0s - loss: 0.0159 - val_loss: 0.0168\n",
      "Epoch 100/100\n",
      "11/11 - 0s - loss: 0.0151 - val_loss: 0.0165\n"
     ]
    }
   ],
   "source": [
    "model.compile(optimizer='adam', loss='mse')\n",
    "history = model.fit(X_train, X_train, epochs=100, batch_size=16, verbose=2, validation_data=(X_test,X_test))"
   ]
  },
  {
   "cell_type": "code",
   "execution_count": 28,
   "metadata": {
    "colab": {
     "base_uri": "https://localhost:8080/",
     "height": 266
    },
    "id": "_zr89aU77Osz",
    "outputId": "0cb1f4d0-aed5-4e2d-b6e4-b9bf0d8c740f"
   },
   "outputs": [
    {
     "data": {
      "image/png": "[encoded data removed]",
      "text/plain": [
       "<Figure size 432x288 with 1 Axes>"
      ]
     },
     "metadata": {
      "needs_background": "light",
      "tags": []
     },
     "output_type": "display_data"
    }
   ],
   "source": [
    "pyplot.plot(history.history['loss'], label='train')\n",
    "pyplot.plot(history.history['val_loss'], label='test')\n",
    "pyplot.legend()\n",
    "pyplot.show()"
   ]
  },
  {
   "cell_type": "code",
   "execution_count": 29,
   "metadata": {
    "id": "gq18Qguc7OvV"
   },
   "outputs": [],
   "source": [
    "encoder = Model(inputs=visible, outputs=bottleneck)\n"
   ]
  },
  {
   "cell_type": "code",
   "execution_count": 30,
   "metadata": {
    "id": "Pm1zs7nL7Oxr"
   },
   "outputs": [],
   "source": [
    "# encode the train data\n",
    "X_train_encoded = encoder.predict(X_train)\n",
    "# encode the test data\n",
    "X_test_encoded = encoder.predict(X_test)"
   ]
  },
  {
   "cell_type": "code",
   "execution_count": 31,
   "metadata": {
    "colab": {
     "base_uri": "https://localhost:8080/"
    },
    "id": "2xbJpN0H7O0O",
    "outputId": "437cccb7-b767-494b-a834-2c98e573ef23"
   },
   "outputs": [
    {
     "name": "stdout",
     "output_type": "stream",
     "text": [
      "Model: \"sequential_2\"\n",
      "_________________________________________________________________\n",
      "Layer (type)                 Output Shape              Param #   \n",
      "=================================================================\n",
      "dense_16 (Dense)             (None, 200)               2200      \n",
      "_________________________________________________________________\n",
      "dense_17 (Dense)             (None, 450)               90450     \n",
      "_________________________________________________________________\n",
      "dense_18 (Dense)             (None, 400)               180400    \n",
      "_________________________________________________________________\n",
      "dense_19 (Dense)             (None, 100)               40100     \n",
      "_________________________________________________________________\n",
      "dense_20 (Dense)             (None, 2)                 202       \n",
      "=================================================================\n",
      "Total params: 313,352\n",
      "Trainable params: 313,352\n",
      "Non-trainable params: 0\n",
      "_________________________________________________________________\n",
      "Epoch 1/20\n",
      "5/5 [==============================] - 1s 43ms/step - loss: 0.7421 - accuracy: 0.4630 - val_loss: 0.6288 - val_accuracy: 0.5588\n",
      "Epoch 2/20\n",
      "5/5 [==============================] - 0s 14ms/step - loss: 0.6243 - accuracy: 0.6759 - val_loss: 0.6289 - val_accuracy: 0.5588\n",
      "Epoch 3/20\n",
      "5/5 [==============================] - 0s 11ms/step - loss: 0.5415 - accuracy: 0.7217 - val_loss: 0.5943 - val_accuracy: 0.7059\n",
      "Epoch 4/20\n",
      "5/5 [==============================] - 0s 11ms/step - loss: 0.4857 - accuracy: 0.7521 - val_loss: 0.4330 - val_accuracy: 0.7941\n",
      "Epoch 5/20\n",
      "5/5 [==============================] - 0s 10ms/step - loss: 0.4296 - accuracy: 0.8483 - val_loss: 0.6226 - val_accuracy: 0.7059\n",
      "Epoch 6/20\n",
      "5/5 [==============================] - 0s 10ms/step - loss: 0.4117 - accuracy: 0.7918 - val_loss: 0.5549 - val_accuracy: 0.7059\n",
      "Epoch 7/20\n",
      "5/5 [==============================] - 0s 10ms/step - loss: 0.3165 - accuracy: 0.8716 - val_loss: 0.5046 - val_accuracy: 0.7353\n",
      "Epoch 8/20\n",
      "5/5 [==============================] - 0s 10ms/step - loss: 0.2486 - accuracy: 0.9275 - val_loss: 0.5023 - val_accuracy: 0.7647\n",
      "Epoch 9/20\n",
      "5/5 [==============================] - 0s 10ms/step - loss: 0.2002 - accuracy: 0.9227 - val_loss: 0.5990 - val_accuracy: 0.7647\n",
      "Epoch 10/20\n",
      "5/5 [==============================] - 0s 11ms/step - loss: 0.1686 - accuracy: 0.9348 - val_loss: 0.4852 - val_accuracy: 0.8235\n",
      "Epoch 11/20\n",
      "5/5 [==============================] - 0s 10ms/step - loss: 0.1465 - accuracy: 0.9253 - val_loss: 0.5328 - val_accuracy: 0.7647\n",
      "Epoch 12/20\n",
      "5/5 [==============================] - 0s 10ms/step - loss: 0.1245 - accuracy: 0.9459 - val_loss: 0.7343 - val_accuracy: 0.7647\n",
      "Epoch 13/20\n",
      "5/5 [==============================] - 0s 9ms/step - loss: 0.1196 - accuracy: 0.9557 - val_loss: 0.6452 - val_accuracy: 0.7941\n",
      "Epoch 14/20\n",
      "5/5 [==============================] - 0s 10ms/step - loss: 0.0938 - accuracy: 0.9868 - val_loss: 0.5875 - val_accuracy: 0.7941\n",
      "Epoch 15/20\n",
      "5/5 [==============================] - 0s 10ms/step - loss: 0.0708 - accuracy: 0.9812 - val_loss: 0.7932 - val_accuracy: 0.8235\n",
      "Epoch 16/20\n",
      "5/5 [==============================] - 0s 9ms/step - loss: 0.0913 - accuracy: 0.9519 - val_loss: 0.7434 - val_accuracy: 0.7941\n",
      "Epoch 17/20\n",
      "5/5 [==============================] - 0s 10ms/step - loss: 0.1773 - accuracy: 0.9426 - val_loss: 0.7904 - val_accuracy: 0.7353\n",
      "Epoch 18/20\n",
      "5/5 [==============================] - 0s 10ms/step - loss: 0.1419 - accuracy: 0.9451 - val_loss: 0.9826 - val_accuracy: 0.7647\n",
      "Epoch 19/20\n",
      "5/5 [==============================] - 0s 9ms/step - loss: 0.1096 - accuracy: 0.9557 - val_loss: 0.6906 - val_accuracy: 0.7941\n",
      "Epoch 20/20\n",
      "5/5 [==============================] - 0s 10ms/step - loss: 0.0777 - accuracy: 0.9743 - val_loss: 0.7931 - val_accuracy: 0.8235\n"
     ]
    }
   ],
   "source": [
    "model = Sequential()\n",
    "model.add(Dense(200, activation = 'relu', input_shape = (10,)))\n",
    "model.add(Dense(450, activation = 'relu'))\n",
    "model.add(Dense(400, activation = 'relu'))\n",
    "model.add(Dense(100, activation = 'relu'))\n",
    "model.add(Dense(2, activation = 'softmax'))\n",
    "model.summary()\n",
    "model.compile(loss = 'categorical_crossentropy', optimizer = 'adam', metrics = ['accuracy'])\n",
    "history = model.fit(X_train_encoded, Y_train, epochs = 20, batch_size = 32, validation_split = 0.2)"
   ]
  },
  {
   "cell_type": "code",
   "execution_count": 32,
   "metadata": {
    "id": "glbqN-IY7X9c"
   },
   "outputs": [],
   "source": [
    "elapsed = time.time() - t"
   ]
  },
  {
   "cell_type": "code",
   "execution_count": 33,
   "metadata": {
    "colab": {
     "base_uri": "https://localhost:8080/"
    },
    "id": "h8THUAqD7X_4",
    "outputId": "9171fd81-479e-4f6d-e249-42fe9fbede9e"
   },
   "outputs": [
    {
     "name": "stdout",
     "output_type": "stream",
     "text": [
      "Total Time :  10.565760850906372\n"
     ]
    }
   ],
   "source": [
    "print('Total Time : ', elapsed)"
   ]
  },
  {
   "cell_type": "code",
   "execution_count": 34,
   "metadata": {
    "colab": {
     "base_uri": "https://localhost:8080/",
     "height": 313
    },
    "id": "I_3eVyrC7YCd",
    "outputId": "21ff9b28-26a9-4f89-9f2a-5b80796b87df"
   },
   "outputs": [
    {
     "data": {
      "text/plain": [
       "<matplotlib.legend.Legend at 0x7f8f96e040d0>"
      ]
     },
     "execution_count": 34,
     "metadata": {
      "tags": []
     },
     "output_type": "execute_result"
    },
    {
     "data": {
      "image/png": "[encoded data removed]",
      "text/plain": [
       "<Figure size 432x288 with 1 Axes>"
      ]
     },
     "metadata": {
      "needs_background": "light",
      "tags": []
     },
     "output_type": "display_data"
    }
   ],
   "source": [
    "plt.plot(history.history['accuracy'])\n",
    "plt.plot(history.history['val_accuracy'])\n",
    "plt.title('Accuracy')\n",
    "plt.ylabel('accuracy')\n",
    "plt.xlabel('epoch')\n",
    "plt.legend(['train', 'validation'], loc='lower right')\n"
   ]
  },
  {
   "cell_type": "code",
   "execution_count": 35,
   "metadata": {
    "colab": {
     "base_uri": "https://localhost:8080/",
     "height": 313
    },
    "id": "S4HmNWnm7YFk",
    "outputId": "e450f4f7-93e5-4c92-cc9a-976bb2b982bd"
   },
   "outputs": [
    {
     "data": {
      "text/plain": [
       "<matplotlib.legend.Legend at 0x7f8f95d96210>"
      ]
     },
     "execution_count": 35,
     "metadata": {
      "tags": []
     },
     "output_type": "execute_result"
    },
    {
     "data": {
      "image/png": "[encoded data removed]",
      "text/plain": [
       "<Figure size 432x288 with 1 Axes>"
      ]
     },
     "metadata": {
      "needs_background": "light",
      "tags": []
     },
     "output_type": "display_data"
    }
   ],
   "source": [
    "plt.plot(history.history['loss'])\n",
    "plt.plot(history.history['val_loss'])\n",
    "plt.title('Loss')\n",
    "plt.ylabel('loss')\n",
    "plt.xlabel('epoch')\n",
    "plt.legend(['train', 'validation'], loc = 'upper right')"
   ]
  },
  {
   "cell_type": "code",
   "execution_count": 37,
   "metadata": {
    "colab": {
     "base_uri": "https://localhost:8080/"
    },
    "id": "bJ1YgJ8X7YIT",
    "outputId": "b7b48dd6-e662-43bd-a860-26c7ac303a08"
   },
   "outputs": [
    {
     "name": "stdout",
     "output_type": "stream",
     "text": [
      "2/2 [==============================] - 0s 6ms/step - loss: 0.7816 - accuracy: 0.8333\n",
      "Test Loss 0.7815537452697754\n",
      "Test Accuracy 0.8333333134651184\n",
      "confusion matrix=\n",
      " [[23  4]\n",
      " [ 3 12]]\n"
     ]
    }
   ],
   "source": [
    "Y_pred = model.predict(X_test_encoded)\n",
    "y_pred = np.argmax(Y_pred, axis = 1)\n",
    "[test_loss, test_acc] = model.evaluate(X_test_encoded, Y_test)\n",
    "print(\"Test Loss\", test_loss)\n",
    "print(\"Test Accuracy\", test_acc)\n",
    "\n",
    "class_names = [0, 1]\n",
    "confusion_mtx = confusion_matrix(y_test, y_pred)\n",
    "print(\"confusion matrix=\\n\", confusion_mtx)"
   ]
  },
  {
   "cell_type": "code",
   "execution_count": null,
   "metadata": {
    "id": "Z__VXDjL7YLE"
   },
   "outputs": [],
   "source": []
  },
  {
   "cell_type": "code",
   "execution_count": null,
   "metadata": {
    "id": "_NMxwPZL7YNX"
   },
   "outputs": [],
   "source": []
  },
  {
   "cell_type": "code",
   "execution_count": null,
   "metadata": {
    "id": "n8rfHeKr7O4H"
   },
   "outputs": [],
   "source": []
  }
 ],
 "metadata": {
  "accelerator": "GPU",
  "colab": {
   "collapsed_sections": [],
   "name": "Q3 - part2.ipynb",
   "provenance": []
  },
  "kernelspec": {
   "display_name": "Python 3",
   "language": "python",
   "name": "python3"
  },
  "language_info": {
   "codemirror_mode": {
    "name": "ipython",
    "version": 3
   },
   "file_extension": ".py",
   "mimetype": "text/x-python",
   "name": "python",
   "nbconvert_exporter": "python",
   "pygments_lexer": "ipython3",
   "version": "3.8.3"
  }
 },
 "nbformat": 4,
 "nbformat_minor": 1
}
