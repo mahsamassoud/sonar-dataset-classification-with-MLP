{
  "nbformat": 4,
  "nbformat_minor": 0,
  "metadata": {
    "colab": {
      "name": "Q2.ipynb",
      "provenance": [],
      "collapsed_sections": []
    },
    "kernelspec": {
      "name": "python3",
      "display_name": "Python 3"
    },
    "language_info": {
      "name": "python"
    },
    "accelerator": "GPU"
  },
  "cells": [
    {
      "cell_type": "markdown",
      "metadata": {
        "id": "MtZxsqEPgOtt"
      },
      "source": [
        "Mahsa Mssoud - 810196635\n",
        "Q2 - hw2"
      ]
    },
    {
      "cell_type": "code",
      "metadata": {
        "colab": {
          "base_uri": "https://localhost:8080/"
        },
        "id": "ibCROs6UVgeb",
        "outputId": "9f95e8fc-39d8-474b-dced-a4a86adbb3ff"
      },
      "source": [
        "from google.colab import drive\n",
        "import numpy as np\n",
        "import pandas as pd\n",
        "from sklearn import preprocessing\n",
        "from sklearn.model_selection import train_test_split\n",
        "from keras.utils import np_utils\n",
        "import itertools\n",
        "from sklearn.metrics import confusion_matrix , classification_report\n",
        "from keras.models import Sequential\n",
        "from keras.utils import np_utils\n",
        "from keras.layers.core import Dense\n",
        "import matplotlib.pyplot as plt\n",
        "\n",
        "drive.mount('/content/drive/')\n"
      ],
      "execution_count": null,
      "outputs": [
        {
          "output_type": "stream",
          "text": [
            "Mounted at /content/drive/\n"
          ],
          "name": "stdout"
        }
      ]
    },
    {
      "cell_type": "code",
      "metadata": {
        "id": "D7icD5zdWp5d"
      },
      "source": [
        "df = pd.read_csv('/content/drive/My Drive/sonar.all-data-2.csv')"
      ],
      "execution_count": null,
      "outputs": []
    },
    {
      "cell_type": "code",
      "metadata": {
        "colab": {
          "base_uri": "https://localhost:8080/",
          "height": 222
        },
        "id": "ISlwiZa4Wp-C",
        "outputId": "c252ff5c-cfec-4b8a-828e-e57bd743908f"
      },
      "source": [
        "df.head()"
      ],
      "execution_count": null,
      "outputs": [
        {
          "output_type": "execute_result",
          "data": {
            "text/html": [
              "<div>\n",
              "<style scoped>\n",
              "    .dataframe tbody tr th:only-of-type {\n",
              "        vertical-align: middle;\n",
              "    }\n",
              "\n",
              "    .dataframe tbody tr th {\n",
              "        vertical-align: top;\n",
              "    }\n",
              "\n",
              "    .dataframe thead th {\n",
              "        text-align: right;\n",
              "    }\n",
              "</style>\n",
              "<table border=\"1\" class=\"dataframe\">\n",
              "  <thead>\n",
              "    <tr style=\"text-align: right;\">\n",
              "      <th></th>\n",
              "      <th>1</th>\n",
              "      <th>2</th>\n",
              "      <th>3</th>\n",
              "      <th>4</th>\n",
              "      <th>5</th>\n",
              "      <th>6</th>\n",
              "      <th>7</th>\n",
              "      <th>8</th>\n",
              "      <th>9</th>\n",
              "      <th>10</th>\n",
              "      <th>11</th>\n",
              "      <th>12</th>\n",
              "      <th>13</th>\n",
              "      <th>14</th>\n",
              "      <th>15</th>\n",
              "      <th>16</th>\n",
              "      <th>17</th>\n",
              "      <th>18</th>\n",
              "      <th>19</th>\n",
              "      <th>20</th>\n",
              "      <th>21</th>\n",
              "      <th>22</th>\n",
              "      <th>23</th>\n",
              "      <th>24</th>\n",
              "      <th>25</th>\n",
              "      <th>26</th>\n",
              "      <th>27</th>\n",
              "      <th>28</th>\n",
              "      <th>29</th>\n",
              "      <th>30</th>\n",
              "      <th>31</th>\n",
              "      <th>32</th>\n",
              "      <th>33</th>\n",
              "      <th>34</th>\n",
              "      <th>35</th>\n",
              "      <th>36</th>\n",
              "      <th>37</th>\n",
              "      <th>38</th>\n",
              "      <th>39</th>\n",
              "      <th>40</th>\n",
              "      <th>41</th>\n",
              "      <th>42</th>\n",
              "      <th>43</th>\n",
              "      <th>44</th>\n",
              "      <th>45</th>\n",
              "      <th>46</th>\n",
              "      <th>47</th>\n",
              "      <th>48</th>\n",
              "      <th>49</th>\n",
              "      <th>50</th>\n",
              "      <th>51</th>\n",
              "      <th>52</th>\n",
              "      <th>53</th>\n",
              "      <th>54</th>\n",
              "      <th>55</th>\n",
              "      <th>56</th>\n",
              "      <th>57</th>\n",
              "      <th>58</th>\n",
              "      <th>59</th>\n",
              "      <th>60</th>\n",
              "      <th>class</th>\n",
              "    </tr>\n",
              "  </thead>\n",
              "  <tbody>\n",
              "    <tr>\n",
              "      <th>0</th>\n",
              "      <td>0.0200</td>\n",
              "      <td>0.0371</td>\n",
              "      <td>0.0428</td>\n",
              "      <td>0.0207</td>\n",
              "      <td>0.0954</td>\n",
              "      <td>0.0986</td>\n",
              "      <td>0.1539</td>\n",
              "      <td>0.1601</td>\n",
              "      <td>0.3109</td>\n",
              "      <td>0.2111</td>\n",
              "      <td>0.1609</td>\n",
              "      <td>0.1582</td>\n",
              "      <td>0.2238</td>\n",
              "      <td>0.0645</td>\n",
              "      <td>0.0660</td>\n",
              "      <td>0.2273</td>\n",
              "      <td>0.3100</td>\n",
              "      <td>0.2999</td>\n",
              "      <td>0.5078</td>\n",
              "      <td>0.4797</td>\n",
              "      <td>0.5783</td>\n",
              "      <td>0.5071</td>\n",
              "      <td>0.4328</td>\n",
              "      <td>0.5550</td>\n",
              "      <td>0.6711</td>\n",
              "      <td>0.6415</td>\n",
              "      <td>0.7104</td>\n",
              "      <td>0.8080</td>\n",
              "      <td>0.6791</td>\n",
              "      <td>0.3857</td>\n",
              "      <td>0.1307</td>\n",
              "      <td>0.2604</td>\n",
              "      <td>0.5121</td>\n",
              "      <td>0.7547</td>\n",
              "      <td>0.8537</td>\n",
              "      <td>0.8507</td>\n",
              "      <td>0.6692</td>\n",
              "      <td>0.6097</td>\n",
              "      <td>0.4943</td>\n",
              "      <td>0.2744</td>\n",
              "      <td>0.0510</td>\n",
              "      <td>0.2834</td>\n",
              "      <td>0.2825</td>\n",
              "      <td>0.4256</td>\n",
              "      <td>0.2641</td>\n",
              "      <td>0.1386</td>\n",
              "      <td>0.1051</td>\n",
              "      <td>0.1343</td>\n",
              "      <td>0.0383</td>\n",
              "      <td>0.0324</td>\n",
              "      <td>0.0232</td>\n",
              "      <td>0.0027</td>\n",
              "      <td>0.0065</td>\n",
              "      <td>0.0159</td>\n",
              "      <td>0.0072</td>\n",
              "      <td>0.0167</td>\n",
              "      <td>0.0180</td>\n",
              "      <td>0.0084</td>\n",
              "      <td>0.0090</td>\n",
              "      <td>0.0032</td>\n",
              "      <td>R</td>\n",
              "    </tr>\n",
              "    <tr>\n",
              "      <th>1</th>\n",
              "      <td>0.0453</td>\n",
              "      <td>0.0523</td>\n",
              "      <td>0.0843</td>\n",
              "      <td>0.0689</td>\n",
              "      <td>0.1183</td>\n",
              "      <td>0.2583</td>\n",
              "      <td>0.2156</td>\n",
              "      <td>0.3481</td>\n",
              "      <td>0.3337</td>\n",
              "      <td>0.2872</td>\n",
              "      <td>0.4918</td>\n",
              "      <td>0.6552</td>\n",
              "      <td>0.6919</td>\n",
              "      <td>0.7797</td>\n",
              "      <td>0.7464</td>\n",
              "      <td>0.9444</td>\n",
              "      <td>1.0000</td>\n",
              "      <td>0.8874</td>\n",
              "      <td>0.8024</td>\n",
              "      <td>0.7818</td>\n",
              "      <td>0.5212</td>\n",
              "      <td>0.4052</td>\n",
              "      <td>0.3957</td>\n",
              "      <td>0.3914</td>\n",
              "      <td>0.3250</td>\n",
              "      <td>0.3200</td>\n",
              "      <td>0.3271</td>\n",
              "      <td>0.2767</td>\n",
              "      <td>0.4423</td>\n",
              "      <td>0.2028</td>\n",
              "      <td>0.3788</td>\n",
              "      <td>0.2947</td>\n",
              "      <td>0.1984</td>\n",
              "      <td>0.2341</td>\n",
              "      <td>0.1306</td>\n",
              "      <td>0.4182</td>\n",
              "      <td>0.3835</td>\n",
              "      <td>0.1057</td>\n",
              "      <td>0.1840</td>\n",
              "      <td>0.1970</td>\n",
              "      <td>0.1674</td>\n",
              "      <td>0.0583</td>\n",
              "      <td>0.1401</td>\n",
              "      <td>0.1628</td>\n",
              "      <td>0.0621</td>\n",
              "      <td>0.0203</td>\n",
              "      <td>0.0530</td>\n",
              "      <td>0.0742</td>\n",
              "      <td>0.0409</td>\n",
              "      <td>0.0061</td>\n",
              "      <td>0.0125</td>\n",
              "      <td>0.0084</td>\n",
              "      <td>0.0089</td>\n",
              "      <td>0.0048</td>\n",
              "      <td>0.0094</td>\n",
              "      <td>0.0191</td>\n",
              "      <td>0.0140</td>\n",
              "      <td>0.0049</td>\n",
              "      <td>0.0052</td>\n",
              "      <td>0.0044</td>\n",
              "      <td>R</td>\n",
              "    </tr>\n",
              "    <tr>\n",
              "      <th>2</th>\n",
              "      <td>0.0262</td>\n",
              "      <td>0.0582</td>\n",
              "      <td>0.1099</td>\n",
              "      <td>0.1083</td>\n",
              "      <td>0.0974</td>\n",
              "      <td>0.2280</td>\n",
              "      <td>0.2431</td>\n",
              "      <td>0.3771</td>\n",
              "      <td>0.5598</td>\n",
              "      <td>0.6194</td>\n",
              "      <td>0.6333</td>\n",
              "      <td>0.7060</td>\n",
              "      <td>0.5544</td>\n",
              "      <td>0.5320</td>\n",
              "      <td>0.6479</td>\n",
              "      <td>0.6931</td>\n",
              "      <td>0.6759</td>\n",
              "      <td>0.7551</td>\n",
              "      <td>0.8929</td>\n",
              "      <td>0.8619</td>\n",
              "      <td>0.7974</td>\n",
              "      <td>0.6737</td>\n",
              "      <td>0.4293</td>\n",
              "      <td>0.3648</td>\n",
              "      <td>0.5331</td>\n",
              "      <td>0.2413</td>\n",
              "      <td>0.5070</td>\n",
              "      <td>0.8533</td>\n",
              "      <td>0.6036</td>\n",
              "      <td>0.8514</td>\n",
              "      <td>0.8512</td>\n",
              "      <td>0.5045</td>\n",
              "      <td>0.1862</td>\n",
              "      <td>0.2709</td>\n",
              "      <td>0.4232</td>\n",
              "      <td>0.3043</td>\n",
              "      <td>0.6116</td>\n",
              "      <td>0.6756</td>\n",
              "      <td>0.5375</td>\n",
              "      <td>0.4719</td>\n",
              "      <td>0.4647</td>\n",
              "      <td>0.2587</td>\n",
              "      <td>0.2129</td>\n",
              "      <td>0.2222</td>\n",
              "      <td>0.2111</td>\n",
              "      <td>0.0176</td>\n",
              "      <td>0.1348</td>\n",
              "      <td>0.0744</td>\n",
              "      <td>0.0130</td>\n",
              "      <td>0.0106</td>\n",
              "      <td>0.0033</td>\n",
              "      <td>0.0232</td>\n",
              "      <td>0.0166</td>\n",
              "      <td>0.0095</td>\n",
              "      <td>0.0180</td>\n",
              "      <td>0.0244</td>\n",
              "      <td>0.0316</td>\n",
              "      <td>0.0164</td>\n",
              "      <td>0.0095</td>\n",
              "      <td>0.0078</td>\n",
              "      <td>R</td>\n",
              "    </tr>\n",
              "    <tr>\n",
              "      <th>3</th>\n",
              "      <td>0.0100</td>\n",
              "      <td>0.0171</td>\n",
              "      <td>0.0623</td>\n",
              "      <td>0.0205</td>\n",
              "      <td>0.0205</td>\n",
              "      <td>0.0368</td>\n",
              "      <td>0.1098</td>\n",
              "      <td>0.1276</td>\n",
              "      <td>0.0598</td>\n",
              "      <td>0.1264</td>\n",
              "      <td>0.0881</td>\n",
              "      <td>0.1992</td>\n",
              "      <td>0.0184</td>\n",
              "      <td>0.2261</td>\n",
              "      <td>0.1729</td>\n",
              "      <td>0.2131</td>\n",
              "      <td>0.0693</td>\n",
              "      <td>0.2281</td>\n",
              "      <td>0.4060</td>\n",
              "      <td>0.3973</td>\n",
              "      <td>0.2741</td>\n",
              "      <td>0.3690</td>\n",
              "      <td>0.5556</td>\n",
              "      <td>0.4846</td>\n",
              "      <td>0.3140</td>\n",
              "      <td>0.5334</td>\n",
              "      <td>0.5256</td>\n",
              "      <td>0.2520</td>\n",
              "      <td>0.2090</td>\n",
              "      <td>0.3559</td>\n",
              "      <td>0.6260</td>\n",
              "      <td>0.7340</td>\n",
              "      <td>0.6120</td>\n",
              "      <td>0.3497</td>\n",
              "      <td>0.3953</td>\n",
              "      <td>0.3012</td>\n",
              "      <td>0.5408</td>\n",
              "      <td>0.8814</td>\n",
              "      <td>0.9857</td>\n",
              "      <td>0.9167</td>\n",
              "      <td>0.6121</td>\n",
              "      <td>0.5006</td>\n",
              "      <td>0.3210</td>\n",
              "      <td>0.3202</td>\n",
              "      <td>0.4295</td>\n",
              "      <td>0.3654</td>\n",
              "      <td>0.2655</td>\n",
              "      <td>0.1576</td>\n",
              "      <td>0.0681</td>\n",
              "      <td>0.0294</td>\n",
              "      <td>0.0241</td>\n",
              "      <td>0.0121</td>\n",
              "      <td>0.0036</td>\n",
              "      <td>0.0150</td>\n",
              "      <td>0.0085</td>\n",
              "      <td>0.0073</td>\n",
              "      <td>0.0050</td>\n",
              "      <td>0.0044</td>\n",
              "      <td>0.0040</td>\n",
              "      <td>0.0117</td>\n",
              "      <td>R</td>\n",
              "    </tr>\n",
              "    <tr>\n",
              "      <th>4</th>\n",
              "      <td>0.0762</td>\n",
              "      <td>0.0666</td>\n",
              "      <td>0.0481</td>\n",
              "      <td>0.0394</td>\n",
              "      <td>0.0590</td>\n",
              "      <td>0.0649</td>\n",
              "      <td>0.1209</td>\n",
              "      <td>0.2467</td>\n",
              "      <td>0.3564</td>\n",
              "      <td>0.4459</td>\n",
              "      <td>0.4152</td>\n",
              "      <td>0.3952</td>\n",
              "      <td>0.4256</td>\n",
              "      <td>0.4135</td>\n",
              "      <td>0.4528</td>\n",
              "      <td>0.5326</td>\n",
              "      <td>0.7306</td>\n",
              "      <td>0.6193</td>\n",
              "      <td>0.2032</td>\n",
              "      <td>0.4636</td>\n",
              "      <td>0.4148</td>\n",
              "      <td>0.4292</td>\n",
              "      <td>0.5730</td>\n",
              "      <td>0.5399</td>\n",
              "      <td>0.3161</td>\n",
              "      <td>0.2285</td>\n",
              "      <td>0.6995</td>\n",
              "      <td>1.0000</td>\n",
              "      <td>0.7262</td>\n",
              "      <td>0.4724</td>\n",
              "      <td>0.5103</td>\n",
              "      <td>0.5459</td>\n",
              "      <td>0.2881</td>\n",
              "      <td>0.0981</td>\n",
              "      <td>0.1951</td>\n",
              "      <td>0.4181</td>\n",
              "      <td>0.4604</td>\n",
              "      <td>0.3217</td>\n",
              "      <td>0.2828</td>\n",
              "      <td>0.2430</td>\n",
              "      <td>0.1979</td>\n",
              "      <td>0.2444</td>\n",
              "      <td>0.1847</td>\n",
              "      <td>0.0841</td>\n",
              "      <td>0.0692</td>\n",
              "      <td>0.0528</td>\n",
              "      <td>0.0357</td>\n",
              "      <td>0.0085</td>\n",
              "      <td>0.0230</td>\n",
              "      <td>0.0046</td>\n",
              "      <td>0.0156</td>\n",
              "      <td>0.0031</td>\n",
              "      <td>0.0054</td>\n",
              "      <td>0.0105</td>\n",
              "      <td>0.0110</td>\n",
              "      <td>0.0015</td>\n",
              "      <td>0.0072</td>\n",
              "      <td>0.0048</td>\n",
              "      <td>0.0107</td>\n",
              "      <td>0.0094</td>\n",
              "      <td>R</td>\n",
              "    </tr>\n",
              "  </tbody>\n",
              "</table>\n",
              "</div>"
            ],
            "text/plain": [
              "        1       2       3       4       5  ...      57      58      59      60  class\n",
              "0  0.0200  0.0371  0.0428  0.0207  0.0954  ...  0.0180  0.0084  0.0090  0.0032      R\n",
              "1  0.0453  0.0523  0.0843  0.0689  0.1183  ...  0.0140  0.0049  0.0052  0.0044      R\n",
              "2  0.0262  0.0582  0.1099  0.1083  0.0974  ...  0.0316  0.0164  0.0095  0.0078      R\n",
              "3  0.0100  0.0171  0.0623  0.0205  0.0205  ...  0.0050  0.0044  0.0040  0.0117      R\n",
              "4  0.0762  0.0666  0.0481  0.0394  0.0590  ...  0.0072  0.0048  0.0107  0.0094      R\n",
              "\n",
              "[5 rows x 61 columns]"
            ]
          },
          "metadata": {
            "tags": []
          },
          "execution_count": 3
        }
      ]
    },
    {
      "cell_type": "code",
      "metadata": {
        "colab": {
          "base_uri": "https://localhost:8080/"
        },
        "id": "dMDSQ4WKWqBu",
        "outputId": "e37576ee-9dbb-4fad-8b84-c0f5d1f67db3"
      },
      "source": [
        "df.info()"
      ],
      "execution_count": null,
      "outputs": [
        {
          "output_type": "stream",
          "text": [
            "<class 'pandas.core.frame.DataFrame'>\n",
            "RangeIndex: 208 entries, 0 to 207\n",
            "Data columns (total 61 columns):\n",
            " #   Column  Non-Null Count  Dtype  \n",
            "---  ------  --------------  -----  \n",
            " 0   1       208 non-null    float64\n",
            " 1   2       208 non-null    float64\n",
            " 2   3       208 non-null    float64\n",
            " 3   4       208 non-null    float64\n",
            " 4   5       208 non-null    float64\n",
            " 5   6       208 non-null    float64\n",
            " 6   7       208 non-null    float64\n",
            " 7   8       208 non-null    float64\n",
            " 8   9       208 non-null    float64\n",
            " 9   10      208 non-null    float64\n",
            " 10  11      208 non-null    float64\n",
            " 11  12      208 non-null    float64\n",
            " 12  13      208 non-null    float64\n",
            " 13  14      208 non-null    float64\n",
            " 14  15      208 non-null    float64\n",
            " 15  16      208 non-null    float64\n",
            " 16  17      208 non-null    float64\n",
            " 17  18      208 non-null    float64\n",
            " 18  19      208 non-null    float64\n",
            " 19  20      208 non-null    float64\n",
            " 20  21      208 non-null    float64\n",
            " 21  22      208 non-null    float64\n",
            " 22  23      208 non-null    float64\n",
            " 23  24      208 non-null    float64\n",
            " 24  25      208 non-null    float64\n",
            " 25  26      208 non-null    float64\n",
            " 26  27      208 non-null    float64\n",
            " 27  28      208 non-null    float64\n",
            " 28  29      208 non-null    float64\n",
            " 29  30      208 non-null    float64\n",
            " 30  31      208 non-null    float64\n",
            " 31  32      208 non-null    float64\n",
            " 32  33      208 non-null    float64\n",
            " 33  34      208 non-null    float64\n",
            " 34  35      208 non-null    float64\n",
            " 35  36      208 non-null    float64\n",
            " 36  37      208 non-null    float64\n",
            " 37  38      208 non-null    float64\n",
            " 38  39      208 non-null    float64\n",
            " 39  40      208 non-null    float64\n",
            " 40  41      208 non-null    float64\n",
            " 41  42      208 non-null    float64\n",
            " 42  43      208 non-null    float64\n",
            " 43  44      208 non-null    float64\n",
            " 44  45      208 non-null    float64\n",
            " 45  46      208 non-null    float64\n",
            " 46  47      208 non-null    float64\n",
            " 47  48      208 non-null    float64\n",
            " 48  49      208 non-null    float64\n",
            " 49  50      208 non-null    float64\n",
            " 50  51      208 non-null    float64\n",
            " 51  52      208 non-null    float64\n",
            " 52  53      208 non-null    float64\n",
            " 53  54      208 non-null    float64\n",
            " 54  55      208 non-null    float64\n",
            " 55  56      208 non-null    float64\n",
            " 56  57      208 non-null    float64\n",
            " 57  58      208 non-null    float64\n",
            " 58  59      208 non-null    float64\n",
            " 59  60      208 non-null    float64\n",
            " 60  class   208 non-null    object \n",
            "dtypes: float64(60), object(1)\n",
            "memory usage: 99.2+ KB\n"
          ],
          "name": "stdout"
        }
      ]
    },
    {
      "cell_type": "code",
      "metadata": {
        "colab": {
          "base_uri": "https://localhost:8080/",
          "height": 314
        },
        "id": "xsDX-FzfWqFm",
        "outputId": "7615ca02-032a-4b57-c0d9-1558a4663223"
      },
      "source": [
        "df.describe()"
      ],
      "execution_count": null,
      "outputs": [
        {
          "output_type": "execute_result",
          "data": {
            "text/html": [
              "<div>\n",
              "<style scoped>\n",
              "    .dataframe tbody tr th:only-of-type {\n",
              "        vertical-align: middle;\n",
              "    }\n",
              "\n",
              "    .dataframe tbody tr th {\n",
              "        vertical-align: top;\n",
              "    }\n",
              "\n",
              "    .dataframe thead th {\n",
              "        text-align: right;\n",
              "    }\n",
              "</style>\n",
              "<table border=\"1\" class=\"dataframe\">\n",
              "  <thead>\n",
              "    <tr style=\"text-align: right;\">\n",
              "      <th></th>\n",
              "      <th>1</th>\n",
              "      <th>2</th>\n",
              "      <th>3</th>\n",
              "      <th>4</th>\n",
              "      <th>5</th>\n",
              "      <th>6</th>\n",
              "      <th>7</th>\n",
              "      <th>8</th>\n",
              "      <th>9</th>\n",
              "      <th>10</th>\n",
              "      <th>11</th>\n",
              "      <th>12</th>\n",
              "      <th>13</th>\n",
              "      <th>14</th>\n",
              "      <th>15</th>\n",
              "      <th>16</th>\n",
              "      <th>17</th>\n",
              "      <th>18</th>\n",
              "      <th>19</th>\n",
              "      <th>20</th>\n",
              "      <th>21</th>\n",
              "      <th>22</th>\n",
              "      <th>23</th>\n",
              "      <th>24</th>\n",
              "      <th>25</th>\n",
              "      <th>26</th>\n",
              "      <th>27</th>\n",
              "      <th>28</th>\n",
              "      <th>29</th>\n",
              "      <th>30</th>\n",
              "      <th>31</th>\n",
              "      <th>32</th>\n",
              "      <th>33</th>\n",
              "      <th>34</th>\n",
              "      <th>35</th>\n",
              "      <th>36</th>\n",
              "      <th>37</th>\n",
              "      <th>38</th>\n",
              "      <th>39</th>\n",
              "      <th>40</th>\n",
              "      <th>41</th>\n",
              "      <th>42</th>\n",
              "      <th>43</th>\n",
              "      <th>44</th>\n",
              "      <th>45</th>\n",
              "      <th>46</th>\n",
              "      <th>47</th>\n",
              "      <th>48</th>\n",
              "      <th>49</th>\n",
              "      <th>50</th>\n",
              "      <th>51</th>\n",
              "      <th>52</th>\n",
              "      <th>53</th>\n",
              "      <th>54</th>\n",
              "      <th>55</th>\n",
              "      <th>56</th>\n",
              "      <th>57</th>\n",
              "      <th>58</th>\n",
              "      <th>59</th>\n",
              "      <th>60</th>\n",
              "    </tr>\n",
              "  </thead>\n",
              "  <tbody>\n",
              "    <tr>\n",
              "      <th>count</th>\n",
              "      <td>208.000000</td>\n",
              "      <td>208.000000</td>\n",
              "      <td>208.000000</td>\n",
              "      <td>208.000000</td>\n",
              "      <td>208.000000</td>\n",
              "      <td>208.000000</td>\n",
              "      <td>208.000000</td>\n",
              "      <td>208.000000</td>\n",
              "      <td>208.000000</td>\n",
              "      <td>208.000000</td>\n",
              "      <td>208.000000</td>\n",
              "      <td>208.000000</td>\n",
              "      <td>208.000000</td>\n",
              "      <td>208.000000</td>\n",
              "      <td>208.000000</td>\n",
              "      <td>208.000000</td>\n",
              "      <td>208.000000</td>\n",
              "      <td>208.000000</td>\n",
              "      <td>208.000000</td>\n",
              "      <td>208.000000</td>\n",
              "      <td>208.000000</td>\n",
              "      <td>208.000000</td>\n",
              "      <td>208.000000</td>\n",
              "      <td>208.000000</td>\n",
              "      <td>208.000000</td>\n",
              "      <td>208.000000</td>\n",
              "      <td>208.000000</td>\n",
              "      <td>208.000000</td>\n",
              "      <td>208.000000</td>\n",
              "      <td>208.000000</td>\n",
              "      <td>208.000000</td>\n",
              "      <td>208.000000</td>\n",
              "      <td>208.000000</td>\n",
              "      <td>208.000000</td>\n",
              "      <td>208.000000</td>\n",
              "      <td>208.000000</td>\n",
              "      <td>208.000000</td>\n",
              "      <td>208.000000</td>\n",
              "      <td>208.000000</td>\n",
              "      <td>208.000000</td>\n",
              "      <td>208.000000</td>\n",
              "      <td>208.000000</td>\n",
              "      <td>208.000000</td>\n",
              "      <td>208.000000</td>\n",
              "      <td>208.000000</td>\n",
              "      <td>208.000000</td>\n",
              "      <td>208.000000</td>\n",
              "      <td>208.000000</td>\n",
              "      <td>208.000000</td>\n",
              "      <td>208.000000</td>\n",
              "      <td>208.000000</td>\n",
              "      <td>208.000000</td>\n",
              "      <td>208.000000</td>\n",
              "      <td>208.000000</td>\n",
              "      <td>208.000000</td>\n",
              "      <td>208.000000</td>\n",
              "      <td>208.000000</td>\n",
              "      <td>208.000000</td>\n",
              "      <td>208.000000</td>\n",
              "      <td>208.000000</td>\n",
              "    </tr>\n",
              "    <tr>\n",
              "      <th>mean</th>\n",
              "      <td>0.029164</td>\n",
              "      <td>0.038437</td>\n",
              "      <td>0.043832</td>\n",
              "      <td>0.053892</td>\n",
              "      <td>0.075202</td>\n",
              "      <td>0.104570</td>\n",
              "      <td>0.121747</td>\n",
              "      <td>0.134799</td>\n",
              "      <td>0.178003</td>\n",
              "      <td>0.208259</td>\n",
              "      <td>0.236013</td>\n",
              "      <td>0.250221</td>\n",
              "      <td>0.273305</td>\n",
              "      <td>0.296568</td>\n",
              "      <td>0.320201</td>\n",
              "      <td>0.378487</td>\n",
              "      <td>0.415983</td>\n",
              "      <td>0.452318</td>\n",
              "      <td>0.504812</td>\n",
              "      <td>0.563047</td>\n",
              "      <td>0.609060</td>\n",
              "      <td>0.624275</td>\n",
              "      <td>0.646975</td>\n",
              "      <td>0.672654</td>\n",
              "      <td>0.675424</td>\n",
              "      <td>0.699866</td>\n",
              "      <td>0.702155</td>\n",
              "      <td>0.694024</td>\n",
              "      <td>0.642074</td>\n",
              "      <td>0.580928</td>\n",
              "      <td>0.504475</td>\n",
              "      <td>0.439040</td>\n",
              "      <td>0.417220</td>\n",
              "      <td>0.403233</td>\n",
              "      <td>0.392571</td>\n",
              "      <td>0.384848</td>\n",
              "      <td>0.363807</td>\n",
              "      <td>0.339657</td>\n",
              "      <td>0.325800</td>\n",
              "      <td>0.311207</td>\n",
              "      <td>0.289252</td>\n",
              "      <td>0.278293</td>\n",
              "      <td>0.246542</td>\n",
              "      <td>0.214075</td>\n",
              "      <td>0.197232</td>\n",
              "      <td>0.160631</td>\n",
              "      <td>0.122453</td>\n",
              "      <td>0.091424</td>\n",
              "      <td>0.051929</td>\n",
              "      <td>0.020424</td>\n",
              "      <td>0.016069</td>\n",
              "      <td>0.013420</td>\n",
              "      <td>0.010709</td>\n",
              "      <td>0.010941</td>\n",
              "      <td>0.009290</td>\n",
              "      <td>0.008222</td>\n",
              "      <td>0.007820</td>\n",
              "      <td>0.007949</td>\n",
              "      <td>0.007941</td>\n",
              "      <td>0.006507</td>\n",
              "    </tr>\n",
              "    <tr>\n",
              "      <th>std</th>\n",
              "      <td>0.022991</td>\n",
              "      <td>0.032960</td>\n",
              "      <td>0.038428</td>\n",
              "      <td>0.046528</td>\n",
              "      <td>0.055552</td>\n",
              "      <td>0.059105</td>\n",
              "      <td>0.061788</td>\n",
              "      <td>0.085152</td>\n",
              "      <td>0.118387</td>\n",
              "      <td>0.134416</td>\n",
              "      <td>0.132705</td>\n",
              "      <td>0.140072</td>\n",
              "      <td>0.140962</td>\n",
              "      <td>0.164474</td>\n",
              "      <td>0.205427</td>\n",
              "      <td>0.232650</td>\n",
              "      <td>0.263677</td>\n",
              "      <td>0.261529</td>\n",
              "      <td>0.257988</td>\n",
              "      <td>0.262653</td>\n",
              "      <td>0.257818</td>\n",
              "      <td>0.255883</td>\n",
              "      <td>0.250175</td>\n",
              "      <td>0.239116</td>\n",
              "      <td>0.244926</td>\n",
              "      <td>0.237228</td>\n",
              "      <td>0.245657</td>\n",
              "      <td>0.237189</td>\n",
              "      <td>0.240250</td>\n",
              "      <td>0.220749</td>\n",
              "      <td>0.213992</td>\n",
              "      <td>0.213237</td>\n",
              "      <td>0.206513</td>\n",
              "      <td>0.231242</td>\n",
              "      <td>0.259132</td>\n",
              "      <td>0.264121</td>\n",
              "      <td>0.239912</td>\n",
              "      <td>0.212973</td>\n",
              "      <td>0.199075</td>\n",
              "      <td>0.178662</td>\n",
              "      <td>0.171111</td>\n",
              "      <td>0.168728</td>\n",
              "      <td>0.138993</td>\n",
              "      <td>0.133291</td>\n",
              "      <td>0.151628</td>\n",
              "      <td>0.133938</td>\n",
              "      <td>0.086953</td>\n",
              "      <td>0.062417</td>\n",
              "      <td>0.035954</td>\n",
              "      <td>0.013665</td>\n",
              "      <td>0.012008</td>\n",
              "      <td>0.009634</td>\n",
              "      <td>0.007060</td>\n",
              "      <td>0.007301</td>\n",
              "      <td>0.007088</td>\n",
              "      <td>0.005736</td>\n",
              "      <td>0.005785</td>\n",
              "      <td>0.006470</td>\n",
              "      <td>0.006181</td>\n",
              "      <td>0.005031</td>\n",
              "    </tr>\n",
              "    <tr>\n",
              "      <th>min</th>\n",
              "      <td>0.001500</td>\n",
              "      <td>0.000600</td>\n",
              "      <td>0.001500</td>\n",
              "      <td>0.005800</td>\n",
              "      <td>0.006700</td>\n",
              "      <td>0.010200</td>\n",
              "      <td>0.003300</td>\n",
              "      <td>0.005500</td>\n",
              "      <td>0.007500</td>\n",
              "      <td>0.011300</td>\n",
              "      <td>0.028900</td>\n",
              "      <td>0.023600</td>\n",
              "      <td>0.018400</td>\n",
              "      <td>0.027300</td>\n",
              "      <td>0.003100</td>\n",
              "      <td>0.016200</td>\n",
              "      <td>0.034900</td>\n",
              "      <td>0.037500</td>\n",
              "      <td>0.049400</td>\n",
              "      <td>0.065600</td>\n",
              "      <td>0.051200</td>\n",
              "      <td>0.021900</td>\n",
              "      <td>0.056300</td>\n",
              "      <td>0.023900</td>\n",
              "      <td>0.024000</td>\n",
              "      <td>0.092100</td>\n",
              "      <td>0.048100</td>\n",
              "      <td>0.028400</td>\n",
              "      <td>0.014400</td>\n",
              "      <td>0.061300</td>\n",
              "      <td>0.048200</td>\n",
              "      <td>0.040400</td>\n",
              "      <td>0.047700</td>\n",
              "      <td>0.021200</td>\n",
              "      <td>0.022300</td>\n",
              "      <td>0.008000</td>\n",
              "      <td>0.035100</td>\n",
              "      <td>0.038300</td>\n",
              "      <td>0.037100</td>\n",
              "      <td>0.011700</td>\n",
              "      <td>0.036000</td>\n",
              "      <td>0.005600</td>\n",
              "      <td>0.000000</td>\n",
              "      <td>0.000000</td>\n",
              "      <td>0.000000</td>\n",
              "      <td>0.000000</td>\n",
              "      <td>0.000000</td>\n",
              "      <td>0.000000</td>\n",
              "      <td>0.000000</td>\n",
              "      <td>0.000000</td>\n",
              "      <td>0.000000</td>\n",
              "      <td>0.000800</td>\n",
              "      <td>0.000500</td>\n",
              "      <td>0.001000</td>\n",
              "      <td>0.000600</td>\n",
              "      <td>0.000400</td>\n",
              "      <td>0.000300</td>\n",
              "      <td>0.000300</td>\n",
              "      <td>0.000100</td>\n",
              "      <td>0.000600</td>\n",
              "    </tr>\n",
              "    <tr>\n",
              "      <th>25%</th>\n",
              "      <td>0.013350</td>\n",
              "      <td>0.016450</td>\n",
              "      <td>0.018950</td>\n",
              "      <td>0.024375</td>\n",
              "      <td>0.038050</td>\n",
              "      <td>0.067025</td>\n",
              "      <td>0.080900</td>\n",
              "      <td>0.080425</td>\n",
              "      <td>0.097025</td>\n",
              "      <td>0.111275</td>\n",
              "      <td>0.129250</td>\n",
              "      <td>0.133475</td>\n",
              "      <td>0.166125</td>\n",
              "      <td>0.175175</td>\n",
              "      <td>0.164625</td>\n",
              "      <td>0.196300</td>\n",
              "      <td>0.205850</td>\n",
              "      <td>0.242075</td>\n",
              "      <td>0.299075</td>\n",
              "      <td>0.350625</td>\n",
              "      <td>0.399725</td>\n",
              "      <td>0.406925</td>\n",
              "      <td>0.450225</td>\n",
              "      <td>0.540725</td>\n",
              "      <td>0.525800</td>\n",
              "      <td>0.544175</td>\n",
              "      <td>0.531900</td>\n",
              "      <td>0.534775</td>\n",
              "      <td>0.463700</td>\n",
              "      <td>0.411400</td>\n",
              "      <td>0.345550</td>\n",
              "      <td>0.281400</td>\n",
              "      <td>0.257875</td>\n",
              "      <td>0.217575</td>\n",
              "      <td>0.179375</td>\n",
              "      <td>0.154350</td>\n",
              "      <td>0.160100</td>\n",
              "      <td>0.174275</td>\n",
              "      <td>0.173975</td>\n",
              "      <td>0.186450</td>\n",
              "      <td>0.163100</td>\n",
              "      <td>0.158900</td>\n",
              "      <td>0.155200</td>\n",
              "      <td>0.126875</td>\n",
              "      <td>0.094475</td>\n",
              "      <td>0.068550</td>\n",
              "      <td>0.064250</td>\n",
              "      <td>0.045125</td>\n",
              "      <td>0.026350</td>\n",
              "      <td>0.011550</td>\n",
              "      <td>0.008425</td>\n",
              "      <td>0.007275</td>\n",
              "      <td>0.005075</td>\n",
              "      <td>0.005375</td>\n",
              "      <td>0.004150</td>\n",
              "      <td>0.004400</td>\n",
              "      <td>0.003700</td>\n",
              "      <td>0.003600</td>\n",
              "      <td>0.003675</td>\n",
              "      <td>0.003100</td>\n",
              "    </tr>\n",
              "    <tr>\n",
              "      <th>50%</th>\n",
              "      <td>0.022800</td>\n",
              "      <td>0.030800</td>\n",
              "      <td>0.034300</td>\n",
              "      <td>0.044050</td>\n",
              "      <td>0.062500</td>\n",
              "      <td>0.092150</td>\n",
              "      <td>0.106950</td>\n",
              "      <td>0.112100</td>\n",
              "      <td>0.152250</td>\n",
              "      <td>0.182400</td>\n",
              "      <td>0.224800</td>\n",
              "      <td>0.249050</td>\n",
              "      <td>0.263950</td>\n",
              "      <td>0.281100</td>\n",
              "      <td>0.281700</td>\n",
              "      <td>0.304700</td>\n",
              "      <td>0.308400</td>\n",
              "      <td>0.368300</td>\n",
              "      <td>0.434950</td>\n",
              "      <td>0.542500</td>\n",
              "      <td>0.617700</td>\n",
              "      <td>0.664900</td>\n",
              "      <td>0.699700</td>\n",
              "      <td>0.698500</td>\n",
              "      <td>0.721100</td>\n",
              "      <td>0.754500</td>\n",
              "      <td>0.745600</td>\n",
              "      <td>0.731900</td>\n",
              "      <td>0.680800</td>\n",
              "      <td>0.607150</td>\n",
              "      <td>0.490350</td>\n",
              "      <td>0.429600</td>\n",
              "      <td>0.391200</td>\n",
              "      <td>0.351050</td>\n",
              "      <td>0.312750</td>\n",
              "      <td>0.321150</td>\n",
              "      <td>0.306300</td>\n",
              "      <td>0.312700</td>\n",
              "      <td>0.283500</td>\n",
              "      <td>0.278050</td>\n",
              "      <td>0.259500</td>\n",
              "      <td>0.245100</td>\n",
              "      <td>0.222550</td>\n",
              "      <td>0.177700</td>\n",
              "      <td>0.148000</td>\n",
              "      <td>0.121350</td>\n",
              "      <td>0.101650</td>\n",
              "      <td>0.078100</td>\n",
              "      <td>0.044700</td>\n",
              "      <td>0.017900</td>\n",
              "      <td>0.013900</td>\n",
              "      <td>0.011400</td>\n",
              "      <td>0.009550</td>\n",
              "      <td>0.009300</td>\n",
              "      <td>0.007500</td>\n",
              "      <td>0.006850</td>\n",
              "      <td>0.005950</td>\n",
              "      <td>0.005800</td>\n",
              "      <td>0.006400</td>\n",
              "      <td>0.005300</td>\n",
              "    </tr>\n",
              "    <tr>\n",
              "      <th>75%</th>\n",
              "      <td>0.035550</td>\n",
              "      <td>0.047950</td>\n",
              "      <td>0.057950</td>\n",
              "      <td>0.064500</td>\n",
              "      <td>0.100275</td>\n",
              "      <td>0.134125</td>\n",
              "      <td>0.154000</td>\n",
              "      <td>0.169600</td>\n",
              "      <td>0.233425</td>\n",
              "      <td>0.268700</td>\n",
              "      <td>0.301650</td>\n",
              "      <td>0.331250</td>\n",
              "      <td>0.351250</td>\n",
              "      <td>0.386175</td>\n",
              "      <td>0.452925</td>\n",
              "      <td>0.535725</td>\n",
              "      <td>0.659425</td>\n",
              "      <td>0.679050</td>\n",
              "      <td>0.731400</td>\n",
              "      <td>0.809325</td>\n",
              "      <td>0.816975</td>\n",
              "      <td>0.831975</td>\n",
              "      <td>0.848575</td>\n",
              "      <td>0.872175</td>\n",
              "      <td>0.873725</td>\n",
              "      <td>0.893800</td>\n",
              "      <td>0.917100</td>\n",
              "      <td>0.900275</td>\n",
              "      <td>0.852125</td>\n",
              "      <td>0.735175</td>\n",
              "      <td>0.641950</td>\n",
              "      <td>0.580300</td>\n",
              "      <td>0.556125</td>\n",
              "      <td>0.596125</td>\n",
              "      <td>0.593350</td>\n",
              "      <td>0.556525</td>\n",
              "      <td>0.518900</td>\n",
              "      <td>0.440550</td>\n",
              "      <td>0.434900</td>\n",
              "      <td>0.424350</td>\n",
              "      <td>0.387525</td>\n",
              "      <td>0.384250</td>\n",
              "      <td>0.324525</td>\n",
              "      <td>0.271750</td>\n",
              "      <td>0.231550</td>\n",
              "      <td>0.200375</td>\n",
              "      <td>0.154425</td>\n",
              "      <td>0.120100</td>\n",
              "      <td>0.068525</td>\n",
              "      <td>0.025275</td>\n",
              "      <td>0.020825</td>\n",
              "      <td>0.016725</td>\n",
              "      <td>0.014900</td>\n",
              "      <td>0.014500</td>\n",
              "      <td>0.012100</td>\n",
              "      <td>0.010575</td>\n",
              "      <td>0.010425</td>\n",
              "      <td>0.010350</td>\n",
              "      <td>0.010325</td>\n",
              "      <td>0.008525</td>\n",
              "    </tr>\n",
              "    <tr>\n",
              "      <th>max</th>\n",
              "      <td>0.137100</td>\n",
              "      <td>0.233900</td>\n",
              "      <td>0.305900</td>\n",
              "      <td>0.426400</td>\n",
              "      <td>0.401000</td>\n",
              "      <td>0.382300</td>\n",
              "      <td>0.372900</td>\n",
              "      <td>0.459000</td>\n",
              "      <td>0.682800</td>\n",
              "      <td>0.710600</td>\n",
              "      <td>0.734200</td>\n",
              "      <td>0.706000</td>\n",
              "      <td>0.713100</td>\n",
              "      <td>0.997000</td>\n",
              "      <td>1.000000</td>\n",
              "      <td>0.998800</td>\n",
              "      <td>1.000000</td>\n",
              "      <td>1.000000</td>\n",
              "      <td>1.000000</td>\n",
              "      <td>1.000000</td>\n",
              "      <td>1.000000</td>\n",
              "      <td>1.000000</td>\n",
              "      <td>1.000000</td>\n",
              "      <td>1.000000</td>\n",
              "      <td>1.000000</td>\n",
              "      <td>1.000000</td>\n",
              "      <td>1.000000</td>\n",
              "      <td>1.000000</td>\n",
              "      <td>1.000000</td>\n",
              "      <td>1.000000</td>\n",
              "      <td>0.965700</td>\n",
              "      <td>0.930600</td>\n",
              "      <td>1.000000</td>\n",
              "      <td>0.964700</td>\n",
              "      <td>1.000000</td>\n",
              "      <td>1.000000</td>\n",
              "      <td>0.949700</td>\n",
              "      <td>1.000000</td>\n",
              "      <td>0.985700</td>\n",
              "      <td>0.929700</td>\n",
              "      <td>0.899500</td>\n",
              "      <td>0.824600</td>\n",
              "      <td>0.773300</td>\n",
              "      <td>0.776200</td>\n",
              "      <td>0.703400</td>\n",
              "      <td>0.729200</td>\n",
              "      <td>0.552200</td>\n",
              "      <td>0.333900</td>\n",
              "      <td>0.198100</td>\n",
              "      <td>0.082500</td>\n",
              "      <td>0.100400</td>\n",
              "      <td>0.070900</td>\n",
              "      <td>0.039000</td>\n",
              "      <td>0.035200</td>\n",
              "      <td>0.044700</td>\n",
              "      <td>0.039400</td>\n",
              "      <td>0.035500</td>\n",
              "      <td>0.044000</td>\n",
              "      <td>0.036400</td>\n",
              "      <td>0.043900</td>\n",
              "    </tr>\n",
              "  </tbody>\n",
              "</table>\n",
              "</div>"
            ],
            "text/plain": [
              "                1           2           3  ...          58          59          60\n",
              "count  208.000000  208.000000  208.000000  ...  208.000000  208.000000  208.000000\n",
              "mean     0.029164    0.038437    0.043832  ...    0.007949    0.007941    0.006507\n",
              "std      0.022991    0.032960    0.038428  ...    0.006470    0.006181    0.005031\n",
              "min      0.001500    0.000600    0.001500  ...    0.000300    0.000100    0.000600\n",
              "25%      0.013350    0.016450    0.018950  ...    0.003600    0.003675    0.003100\n",
              "50%      0.022800    0.030800    0.034300  ...    0.005800    0.006400    0.005300\n",
              "75%      0.035550    0.047950    0.057950  ...    0.010350    0.010325    0.008525\n",
              "max      0.137100    0.233900    0.305900  ...    0.044000    0.036400    0.043900\n",
              "\n",
              "[8 rows x 60 columns]"
            ]
          },
          "metadata": {
            "tags": []
          },
          "execution_count": 5
        }
      ]
    },
    {
      "cell_type": "code",
      "metadata": {
        "colab": {
          "base_uri": "https://localhost:8080/"
        },
        "id": "FwwJ44JecWU-",
        "outputId": "98cd59e2-4823-40b2-fd89-a4d8b1fd13dc"
      },
      "source": [
        "df['class']"
      ],
      "execution_count": null,
      "outputs": [
        {
          "output_type": "execute_result",
          "data": {
            "text/plain": [
              "0      R\n",
              "1      R\n",
              "2      R\n",
              "3      R\n",
              "4      R\n",
              "      ..\n",
              "203    M\n",
              "204    M\n",
              "205    M\n",
              "206    M\n",
              "207    M\n",
              "Name: class, Length: 208, dtype: object"
            ]
          },
          "metadata": {
            "tags": []
          },
          "execution_count": 6
        }
      ]
    },
    {
      "cell_type": "code",
      "metadata": {
        "id": "277LEZzLWqIo"
      },
      "source": [
        "x = df.drop('class', inplace=False, axis=1).values\n",
        "\n",
        "# df = pd.DataFrame(x_scaled)\n",
        "# df2['class'] = df['class']"
      ],
      "execution_count": null,
      "outputs": []
    },
    {
      "cell_type": "code",
      "metadata": {
        "id": "I7viaAVwWqMS"
      },
      "source": [
        "df['class']\n",
        "min_max_scaler = preprocessing.MinMaxScaler()\n",
        "x_scaled = min_max_scaler.fit_transform(x)"
      ],
      "execution_count": null,
      "outputs": []
    },
    {
      "cell_type": "code",
      "metadata": {
        "id": "CVwAsRs2hU1v"
      },
      "source": [
        "df2 = pd.DataFrame(x_scaled)\n",
        "df2['class'] = df['class']"
      ],
      "execution_count": null,
      "outputs": []
    },
    {
      "cell_type": "code",
      "metadata": {
        "id": "t_c910achpIV"
      },
      "source": [
        "df = df2\n",
        "X = df.drop('class', inplace = False, axis = 1)\n",
        "y = df['class']\n",
        "ll = []\n",
        "for i in range(len(y)):\n",
        "    if y[i] == 'R':\n",
        "        ll.append(1)\n",
        "    else:\n",
        "        ll.append(0)\n",
        "y = ll\n",
        "y = pd.Series(y)"
      ],
      "execution_count": null,
      "outputs": []
    },
    {
      "cell_type": "code",
      "metadata": {
        "colab": {
          "base_uri": "https://localhost:8080/"
        },
        "id": "ZR2fOFnqhpK_",
        "outputId": "52651275-8dc3-4379-d3ec-f91c2ba75c3b"
      },
      "source": [
        "X_train, X_test, y_train, y_test = train_test_split(X, y, test_size = 0.2, random_state = 7)\n",
        "print('Training data shape : ', X_train.shape, y_train.shape)\n",
        "print('Testing data shape : ', X_test.shape, y_test.shape)\n",
        "Y_train = np_utils.to_categorical(y_train)\n",
        "Y_test = np_utils.to_categorical(y_test)"
      ],
      "execution_count": null,
      "outputs": [
        {
          "output_type": "stream",
          "text": [
            "Training data shape :  (166, 60) (166,)\n",
            "Testing data shape :  (42, 60) (42,)\n"
          ],
          "name": "stdout"
        }
      ]
    },
    {
      "cell_type": "code",
      "metadata": {
        "id": "YjEhO20jhpNz"
      },
      "source": [
        "# model = Sequential()\n",
        "# model.add(Dense(512, activation = 'relu', input_shape = (60,)))\t\n",
        "# model.add(Dense(512, activation = 'relu'))\t\n",
        "# model.add(Dense(2, activation = 'softmax')) \n",
        "# model.summary()\n",
        "\n",
        "# model.compile(loss = 'categorical_crossentropy', optimizer = 'adam', metrics = ['accuracy'])\n",
        "# history = model.fit(X_train, Y_train, epochs = 100, batch_size = 32, validation_split = 0.2) \t"
      ],
      "execution_count": null,
      "outputs": []
    },
    {
      "cell_type": "code",
      "metadata": {
        "colab": {
          "base_uri": "https://localhost:8080/",
          "height": 235
        },
        "id": "0sKyEXChoA7y",
        "outputId": "ecdb34a1-bb2c-4b92-a570-c0385ac67103"
      },
      "source": [
        ""
      ],
      "execution_count": null,
      "outputs": [
        {
          "output_type": "error",
          "ename": "NameError",
          "evalue": "ignored",
          "traceback": [
            "\u001b[0;31m---------------------------------------------------------------------------\u001b[0m",
            "\u001b[0;31mNameError\u001b[0m                                 Traceback (most recent call last)",
            "\u001b[0;32m<ipython-input-13-65d19b01b676>\u001b[0m in \u001b[0;36m<module>\u001b[0;34m()\u001b[0m\n\u001b[0;32m----> 1\u001b[0;31m \u001b[0mplt\u001b[0m\u001b[0;34m.\u001b[0m\u001b[0mplot\u001b[0m\u001b[0;34m(\u001b[0m\u001b[0mhistory\u001b[0m\u001b[0;34m.\u001b[0m\u001b[0mhistory\u001b[0m\u001b[0;34m[\u001b[0m\u001b[0;34m'accuracy'\u001b[0m\u001b[0;34m]\u001b[0m\u001b[0;34m)\u001b[0m\u001b[0;34m\u001b[0m\u001b[0;34m\u001b[0m\u001b[0m\n\u001b[0m\u001b[1;32m      2\u001b[0m \u001b[0mplt\u001b[0m\u001b[0;34m.\u001b[0m\u001b[0mplot\u001b[0m\u001b[0;34m(\u001b[0m\u001b[0mhistory\u001b[0m\u001b[0;34m.\u001b[0m\u001b[0mhistory\u001b[0m\u001b[0;34m[\u001b[0m\u001b[0;34m'val_accuracy'\u001b[0m\u001b[0;34m]\u001b[0m\u001b[0;34m)\u001b[0m\u001b[0;34m\u001b[0m\u001b[0;34m\u001b[0m\u001b[0m\n\u001b[1;32m      3\u001b[0m \u001b[0mplt\u001b[0m\u001b[0;34m.\u001b[0m\u001b[0mtitle\u001b[0m\u001b[0;34m(\u001b[0m\u001b[0;34m'ACCURACY'\u001b[0m\u001b[0;34m)\u001b[0m\u001b[0;34m\u001b[0m\u001b[0;34m\u001b[0m\u001b[0m\n\u001b[1;32m      4\u001b[0m \u001b[0mplt\u001b[0m\u001b[0;34m.\u001b[0m\u001b[0mylabel\u001b[0m\u001b[0;34m(\u001b[0m\u001b[0;34m'acc'\u001b[0m\u001b[0;34m)\u001b[0m\u001b[0;34m\u001b[0m\u001b[0;34m\u001b[0m\u001b[0m\n\u001b[1;32m      5\u001b[0m \u001b[0mplt\u001b[0m\u001b[0;34m.\u001b[0m\u001b[0mxlabel\u001b[0m\u001b[0;34m(\u001b[0m\u001b[0;34m'No. epoch'\u001b[0m\u001b[0;34m)\u001b[0m\u001b[0;34m\u001b[0m\u001b[0;34m\u001b[0m\u001b[0m\n",
            "\u001b[0;31mNameError\u001b[0m: name 'history' is not defined"
          ]
        }
      ]
    },
    {
      "cell_type": "code",
      "metadata": {
        "id": "HYbcvHXuoE5T"
      },
      "source": [
        ""
      ],
      "execution_count": null,
      "outputs": []
    },
    {
      "cell_type": "code",
      "metadata": {
        "colab": {
          "base_uri": "https://localhost:8080/"
        },
        "id": "3s_NcPNUoOGV",
        "outputId": "550f3223-5508-4ed9-9347-4d64e425e52c"
      },
      "source": [
        "model = Sequential()\n",
        "model.add(Dense(512, activation = 'relu', input_shape = (60,)))\t\n",
        "model.add(Dense(512, activation = 'relu'))\t\n",
        "model.add(Dense(2, activation = 'softmax')) \n",
        "model.summary()\n",
        "\n",
        "model.compile(loss = 'categorical_crossentropy', optimizer = 'adam', metrics = ['accuracy'])\n",
        "history = model.fit(X_train, Y_train, epochs = 18, batch_size = 32, validation_split = 0.2) \t"
      ],
      "execution_count": null,
      "outputs": [
        {
          "output_type": "stream",
          "text": [
            "Model: \"sequential\"\n",
            "_________________________________________________________________\n",
            "Layer (type)                 Output Shape              Param #   \n",
            "=================================================================\n",
            "dense (Dense)                (None, 512)               31232     \n",
            "_________________________________________________________________\n",
            "dense_1 (Dense)              (None, 512)               262656    \n",
            "_________________________________________________________________\n",
            "dense_2 (Dense)              (None, 2)                 1026      \n",
            "=================================================================\n",
            "Total params: 294,914\n",
            "Trainable params: 294,914\n",
            "Non-trainable params: 0\n",
            "_________________________________________________________________\n",
            "Epoch 1/18\n",
            "5/5 [==============================] - 1s 61ms/step - loss: 0.6866 - accuracy: 0.5297 - val_loss: 0.6079 - val_accuracy: 0.7353\n",
            "Epoch 2/18\n",
            "5/5 [==============================] - 0s 10ms/step - loss: 0.5611 - accuracy: 0.7493 - val_loss: 0.5888 - val_accuracy: 0.7059\n",
            "Epoch 3/18\n",
            "5/5 [==============================] - 0s 10ms/step - loss: 0.5044 - accuracy: 0.7497 - val_loss: 0.5382 - val_accuracy: 0.7059\n",
            "Epoch 4/18\n",
            "5/5 [==============================] - 0s 11ms/step - loss: 0.4364 - accuracy: 0.8285 - val_loss: 0.5351 - val_accuracy: 0.7353\n",
            "Epoch 5/18\n",
            "5/5 [==============================] - 0s 10ms/step - loss: 0.4160 - accuracy: 0.7371 - val_loss: 0.4829 - val_accuracy: 0.7059\n",
            "Epoch 6/18\n",
            "5/5 [==============================] - 0s 9ms/step - loss: 0.3694 - accuracy: 0.8772 - val_loss: 0.4661 - val_accuracy: 0.7059\n",
            "Epoch 7/18\n",
            "5/5 [==============================] - 0s 9ms/step - loss: 0.3453 - accuracy: 0.8386 - val_loss: 0.4479 - val_accuracy: 0.7941\n",
            "Epoch 8/18\n",
            "5/5 [==============================] - 0s 10ms/step - loss: 0.3509 - accuracy: 0.8372 - val_loss: 0.4799 - val_accuracy: 0.7353\n",
            "Epoch 9/18\n",
            "5/5 [==============================] - 0s 10ms/step - loss: 0.3156 - accuracy: 0.8807 - val_loss: 0.5054 - val_accuracy: 0.7647\n",
            "Epoch 10/18\n",
            "5/5 [==============================] - 0s 10ms/step - loss: 0.2777 - accuracy: 0.8967 - val_loss: 0.5075 - val_accuracy: 0.7353\n",
            "Epoch 11/18\n",
            "5/5 [==============================] - 0s 10ms/step - loss: 0.2823 - accuracy: 0.8753 - val_loss: 0.5271 - val_accuracy: 0.7647\n",
            "Epoch 12/18\n",
            "5/5 [==============================] - 0s 10ms/step - loss: 0.2576 - accuracy: 0.8865 - val_loss: 0.3950 - val_accuracy: 0.8824\n",
            "Epoch 13/18\n",
            "5/5 [==============================] - 0s 9ms/step - loss: 0.2519 - accuracy: 0.8989 - val_loss: 0.3673 - val_accuracy: 0.9118\n",
            "Epoch 14/18\n",
            "5/5 [==============================] - 0s 9ms/step - loss: 0.2052 - accuracy: 0.9373 - val_loss: 0.4148 - val_accuracy: 0.8235\n",
            "Epoch 15/18\n",
            "5/5 [==============================] - 0s 10ms/step - loss: 0.2250 - accuracy: 0.9089 - val_loss: 0.4207 - val_accuracy: 0.7647\n",
            "Epoch 16/18\n",
            "5/5 [==============================] - 0s 11ms/step - loss: 0.1689 - accuracy: 0.9433 - val_loss: 0.4406 - val_accuracy: 0.7647\n",
            "Epoch 17/18\n",
            "5/5 [==============================] - 0s 9ms/step - loss: 0.1722 - accuracy: 0.9583 - val_loss: 0.4370 - val_accuracy: 0.8529\n",
            "Epoch 18/18\n",
            "5/5 [==============================] - 0s 10ms/step - loss: 0.1428 - accuracy: 0.9579 - val_loss: 0.3649 - val_accuracy: 0.8235\n"
          ],
          "name": "stdout"
        }
      ]
    },
    {
      "cell_type": "code",
      "metadata": {
        "colab": {
          "base_uri": "https://localhost:8080/",
          "height": 313
        },
        "id": "h-4bjXXchpP9",
        "outputId": "b48a7bf6-df25-4442-e31a-87d0231150ec"
      },
      "source": [
        "fig = plt.figure()\n",
        "plt.plot(history.history['accuracy'])\n",
        "plt.plot(history.history['val_accuracy'])\n",
        "plt.title('ACCURACY')\n",
        "plt.ylabel('acc')\n",
        "plt.xlabel('No. epoch')\n",
        "plt.legend(['train', 'validation'], loc='lower right')\n"
      ],
      "execution_count": null,
      "outputs": [
        {
          "output_type": "execute_result",
          "data": {
            "text/plain": [
              "<matplotlib.legend.Legend at 0x7f36f010a950>"
            ]
          },
          "metadata": {
            "tags": []
          },
          "execution_count": 15
        },
        {
          "output_type": "display_data",
          "data": {
            "image/png": "[encoded data removed]",
            "text/plain": [
              "<Figure size 432x288 with 1 Axes>"
            ]
          },
          "metadata": {
            "tags": [],
            "needs_background": "light"
          }
        }
      ]
    },
    {
      "cell_type": "code",
      "metadata": {
        "colab": {
          "base_uri": "https://localhost:8080/",
          "height": 313
        },
        "id": "uhaLsa7khpSl",
        "outputId": "e1a68e38-7036-4ab6-fa68-37c8c51c6090"
      },
      "source": [
        "fig = plt.figure()\n",
        "plt.plot(history.history['loss'])\n",
        "plt.plot(history.history['val_loss'])\n",
        "plt.title('Loss')\n",
        "plt.ylabel('loss')\n",
        "plt.xlabel('epoch')\n",
        "plt.legend(['train', 'validation'], loc = 'upper right')\n"
      ],
      "execution_count": null,
      "outputs": [
        {
          "output_type": "execute_result",
          "data": {
            "text/plain": [
              "<matplotlib.legend.Legend at 0x7f36ae056d90>"
            ]
          },
          "metadata": {
            "tags": []
          },
          "execution_count": 16
        },
        {
          "output_type": "display_data",
          "data": {
            "image/png": "[encoded data removed]",
            "text/plain": [
              "<Figure size 432x288 with 1 Axes>"
            ]
          },
          "metadata": {
            "tags": [],
            "needs_background": "light"
          }
        }
      ]
    },
    {
      "cell_type": "code",
      "metadata": {
        "colab": {
          "base_uri": "https://localhost:8080/"
        },
        "id": "zyMH_xZKhpUf",
        "outputId": "860660c1-407d-48e3-f3bd-a31285f263a7"
      },
      "source": [
        "Y_pred = model.predict(X_test)\n",
        "y_pred = np.argmax(Y_pred, axis = 1)\n",
        "[test_loss, test_acc] = model.evaluate(X_test, Y_test)\n",
        "print(\"Test Loss : \", test_loss)\n",
        "print(\"Test Acc :\", test_acc)"
      ],
      "execution_count": null,
      "outputs": [
        {
          "output_type": "stream",
          "text": [
            "2/2 [==============================] - 0s 6ms/step - loss: 0.4205 - accuracy: 0.8571\n",
            "Test Loss :  0.4204530715942383\n",
            "Test Acc : 0.8571428656578064\n"
          ],
          "name": "stdout"
        }
      ]
    },
    {
      "cell_type": "code",
      "metadata": {
        "colab": {
          "base_uri": "https://localhost:8080/"
        },
        "id": "tTfjS29KhpWb",
        "outputId": "3ac4fd2e-899d-42e1-f47c-4069c391f4cb"
      },
      "source": [
        "class_names = [0, 1]\n",
        "confusion_mtx = confusion_matrix(y_test, y_pred)\n",
        "print(\"confusion matrix=\")\n",
        "print(confusion_mtx)"
      ],
      "execution_count": null,
      "outputs": [
        {
          "output_type": "stream",
          "text": [
            "confusion matrix=\n",
            "[[23  4]\n",
            " [ 2 13]]\n"
          ],
          "name": "stdout"
        }
      ]
    },
    {
      "cell_type": "code",
      "metadata": {
        "colab": {
          "base_uri": "https://localhost:8080/",
          "height": 369
        },
        "id": "A7c3mjtihpZf",
        "outputId": "401b83f3-b698-4288-f237-b9b6197a488f"
      },
      "source": [
        "def plot_confusion_matrix(cm, classes,\n",
        "                          normalize=False,\n",
        "                          title='Confusion matrix',\n",
        "                          cmap=plt.cm.Blues):\n",
        "    \"\"\"\n",
        "    This function prints and plots the confusion matrix.\n",
        "    Normalization can be applied by setting `normalize=True`.\n",
        "    \"\"\"\n",
        "    plt.figure(figsize = (5,5))\n",
        "    plt.imshow(cm, interpolation='nearest', cmap=cmap)\n",
        "    plt.title(title)\n",
        "    plt.colorbar()\n",
        "    tick_marks = np.arange(len(classes))\n",
        "    plt.xticks(tick_marks, classes)\n",
        "    plt.yticks(tick_marks, classes)\n",
        "    if normalize:\n",
        "        cm = cm.astype('float') / cm.sum(axis=1)[:, np.newaxis]\n",
        "\n",
        "    thresh = cm.max() / 2.\n",
        "    for i, j in itertools.product(range(cm.shape[0]), range(cm.shape[1])):\n",
        "        plt.text(j, i, cm[i, j],\n",
        "                 horizontalalignment=\"center\",\n",
        "                 color=\"white\" if cm[i, j] > thresh else \"black\")\n",
        "    plt.tight_layout()\n",
        "    plt.ylabel('True label')\n",
        "    plt.xlabel('Predicted label')\n",
        "    \n",
        "plot_confusion_matrix(confusion_mtx, class_names)    "
      ],
      "execution_count": null,
      "outputs": [
        {
          "output_type": "display_data",
          "data": {
            "image/png": "[encoded data removed]",
            "text/plain": [
              "<Figure size 360x360 with 2 Axes>"
            ]
          },
          "metadata": {
            "tags": [],
            "needs_background": "light"
          }
        }
      ]
    },
    {
      "cell_type": "code",
      "metadata": {
        "colab": {
          "base_uri": "https://localhost:8080/"
        },
        "id": "jH_mTTwmixZP",
        "outputId": "fee843db-9e81-4302-fff2-2d07b9f7b2b9"
      },
      "source": [
        "print(classification_report(y_test, y_pred))"
      ],
      "execution_count": null,
      "outputs": [
        {
          "output_type": "stream",
          "text": [
            "              precision    recall  f1-score   support\n",
            "\n",
            "           0       0.92      0.85      0.88        27\n",
            "           1       0.76      0.87      0.81        15\n",
            "\n",
            "    accuracy                           0.86        42\n",
            "   macro avg       0.84      0.86      0.85        42\n",
            "weighted avg       0.86      0.86      0.86        42\n",
            "\n"
          ],
          "name": "stdout"
        }
      ]
    },
    {
      "cell_type": "code",
      "metadata": {
        "colab": {
          "base_uri": "https://localhost:8080/"
        },
        "id": "ve6V-Q0Yixbn",
        "outputId": "c3eae73e-24b5-42c3-a204-83e86b88dbfb"
      },
      "source": [
        "model = Sequential()\n",
        "model.add(Dense(512, activation = 'relu', input_shape = (60,)))\n",
        "model.add(Dense(512, activation = 'relu'))\n",
        "model.add(Dense(2, activation = 'softmax'))\n",
        "model.summary()\n",
        "model.compile(loss = 'mean_squared_error', optimizer = 'adam', metrics = ['accuracy'])"
      ],
      "execution_count": null,
      "outputs": [
        {
          "output_type": "stream",
          "text": [
            "Model: \"sequential_1\"\n",
            "_________________________________________________________________\n",
            "Layer (type)                 Output Shape              Param #   \n",
            "=================================================================\n",
            "dense_3 (Dense)              (None, 512)               31232     \n",
            "_________________________________________________________________\n",
            "dense_4 (Dense)              (None, 512)               262656    \n",
            "_________________________________________________________________\n",
            "dense_5 (Dense)              (None, 2)                 1026      \n",
            "=================================================================\n",
            "Total params: 294,914\n",
            "Trainable params: 294,914\n",
            "Non-trainable params: 0\n",
            "_________________________________________________________________\n"
          ],
          "name": "stdout"
        }
      ]
    },
    {
      "cell_type": "code",
      "metadata": {
        "colab": {
          "base_uri": "https://localhost:8080/"
        },
        "id": "iksebKtOixeZ",
        "outputId": "fb7ac4b9-b2c3-492f-b094-ed4a4bbeff62"
      },
      "source": [
        "history = model.fit(X_train, Y_train, epochs = 25, batch_size = 32, validation_split = 0.2) \t"
      ],
      "execution_count": null,
      "outputs": [
        {
          "output_type": "stream",
          "text": [
            "Epoch 1/25\n",
            "5/5 [==============================] - 1s 79ms/step - loss: 0.2487 - accuracy: 0.5520 - val_loss: 0.2250 - val_accuracy: 0.5294\n",
            "Epoch 2/25\n",
            "5/5 [==============================] - 0s 10ms/step - loss: 0.2061 - accuracy: 0.6795 - val_loss: 0.1920 - val_accuracy: 0.6765\n",
            "Epoch 3/25\n",
            "5/5 [==============================] - 0s 9ms/step - loss: 0.1762 - accuracy: 0.7255 - val_loss: 0.1776 - val_accuracy: 0.7353\n",
            "Epoch 4/25\n",
            "5/5 [==============================] - 0s 9ms/step - loss: 0.1592 - accuracy: 0.7913 - val_loss: 0.1631 - val_accuracy: 0.7941\n",
            "Epoch 5/25\n",
            "5/5 [==============================] - 0s 10ms/step - loss: 0.1443 - accuracy: 0.8418 - val_loss: 0.1473 - val_accuracy: 0.8235\n",
            "Epoch 6/25\n",
            "5/5 [==============================] - 0s 9ms/step - loss: 0.1229 - accuracy: 0.8229 - val_loss: 0.1442 - val_accuracy: 0.8235\n",
            "Epoch 7/25\n",
            "5/5 [==============================] - 0s 9ms/step - loss: 0.1130 - accuracy: 0.8946 - val_loss: 0.1510 - val_accuracy: 0.7647\n",
            "Epoch 8/25\n",
            "5/5 [==============================] - 0s 10ms/step - loss: 0.1116 - accuracy: 0.8691 - val_loss: 0.1473 - val_accuracy: 0.8529\n",
            "Epoch 9/25\n",
            "5/5 [==============================] - 0s 9ms/step - loss: 0.0935 - accuracy: 0.8907 - val_loss: 0.1815 - val_accuracy: 0.7059\n",
            "Epoch 10/25\n",
            "5/5 [==============================] - 0s 9ms/step - loss: 0.1164 - accuracy: 0.8309 - val_loss: 0.1583 - val_accuracy: 0.7647\n",
            "Epoch 11/25\n",
            "5/5 [==============================] - 0s 9ms/step - loss: 0.0905 - accuracy: 0.8814 - val_loss: 0.1372 - val_accuracy: 0.8235\n",
            "Epoch 12/25\n",
            "5/5 [==============================] - 0s 9ms/step - loss: 0.0925 - accuracy: 0.8707 - val_loss: 0.1303 - val_accuracy: 0.8235\n",
            "Epoch 13/25\n",
            "5/5 [==============================] - 0s 10ms/step - loss: 0.0780 - accuracy: 0.9100 - val_loss: 0.1271 - val_accuracy: 0.8529\n",
            "Epoch 14/25\n",
            "5/5 [==============================] - 0s 10ms/step - loss: 0.0672 - accuracy: 0.9269 - val_loss: 0.1272 - val_accuracy: 0.8529\n",
            "Epoch 15/25\n",
            "5/5 [==============================] - 0s 10ms/step - loss: 0.0681 - accuracy: 0.9390 - val_loss: 0.1364 - val_accuracy: 0.7941\n",
            "Epoch 16/25\n",
            "5/5 [==============================] - 0s 11ms/step - loss: 0.0659 - accuracy: 0.9298 - val_loss: 0.1254 - val_accuracy: 0.8235\n",
            "Epoch 17/25\n",
            "5/5 [==============================] - 0s 9ms/step - loss: 0.0516 - accuracy: 0.9610 - val_loss: 0.1181 - val_accuracy: 0.8824\n",
            "Epoch 18/25\n",
            "5/5 [==============================] - 0s 10ms/step - loss: 0.0556 - accuracy: 0.9420 - val_loss: 0.1035 - val_accuracy: 0.8824\n",
            "Epoch 19/25\n",
            "5/5 [==============================] - 0s 10ms/step - loss: 0.0449 - accuracy: 0.9614 - val_loss: 0.1124 - val_accuracy: 0.9118\n",
            "Epoch 20/25\n",
            "5/5 [==============================] - 0s 9ms/step - loss: 0.0395 - accuracy: 0.9773 - val_loss: 0.1334 - val_accuracy: 0.7941\n",
            "Epoch 21/25\n",
            "5/5 [==============================] - 0s 10ms/step - loss: 0.0675 - accuracy: 0.9013 - val_loss: 0.1258 - val_accuracy: 0.8529\n",
            "Epoch 22/25\n",
            "5/5 [==============================] - 0s 9ms/step - loss: 0.1142 - accuracy: 0.8329 - val_loss: 0.1437 - val_accuracy: 0.7647\n",
            "Epoch 23/25\n",
            "5/5 [==============================] - 0s 10ms/step - loss: 0.0426 - accuracy: 0.9577 - val_loss: 0.1621 - val_accuracy: 0.7647\n",
            "Epoch 24/25\n",
            "5/5 [==============================] - 0s 9ms/step - loss: 0.0377 - accuracy: 0.9772 - val_loss: 0.1245 - val_accuracy: 0.7647\n",
            "Epoch 25/25\n",
            "5/5 [==============================] - 0s 10ms/step - loss: 0.0584 - accuracy: 0.9505 - val_loss: 0.0980 - val_accuracy: 0.8824\n"
          ],
          "name": "stdout"
        }
      ]
    },
    {
      "cell_type": "code",
      "metadata": {
        "colab": {
          "base_uri": "https://localhost:8080/",
          "height": 313
        },
        "id": "-9k_ydd1ixhI",
        "outputId": "35c37901-b55b-484e-cbc5-6d0b5754ce6c"
      },
      "source": [
        "import matplotlib.pyplot as plt\n",
        "fig = plt.figure()\n",
        "plt.plot(history.history['accuracy'])\n",
        "plt.plot(history.history['val_accuracy'])\n",
        "plt.title('Accuracy')\n",
        "plt.ylabel('accuracy')\n",
        "plt.xlabel('epoch')\n",
        "plt.legend(['train', 'validation'], loc='lower right')"
      ],
      "execution_count": null,
      "outputs": [
        {
          "output_type": "execute_result",
          "data": {
            "text/plain": [
              "<matplotlib.legend.Legend at 0x7f369e3135d0>"
            ]
          },
          "metadata": {
            "tags": []
          },
          "execution_count": 24
        },
        {
          "output_type": "display_data",
          "data": {
            "image/png": "[encoded data removed]",
            "text/plain": [
              "<Figure size 432x288 with 1 Axes>"
            ]
          },
          "metadata": {
            "tags": [],
            "needs_background": "light"
          }
        }
      ]
    },
    {
      "cell_type": "code",
      "metadata": {
        "colab": {
          "base_uri": "https://localhost:8080/",
          "height": 313
        },
        "id": "Dn4-drb_jBDo",
        "outputId": "5563ca3f-236e-4b3e-b870-8a41fe790618"
      },
      "source": [
        "fig = plt.figure()\n",
        "plt.plot(history.history['loss'])\n",
        "plt.plot(history.history['val_loss'])\n",
        "plt.title('Loss')\n",
        "plt.ylabel('loss')\n",
        "plt.xlabel('epoch')\n",
        "plt.legend(['train', 'validation'], loc = 'upper right')\n"
      ],
      "execution_count": null,
      "outputs": [
        {
          "output_type": "execute_result",
          "data": {
            "text/plain": [
              "<matplotlib.legend.Legend at 0x7f369e246110>"
            ]
          },
          "metadata": {
            "tags": []
          },
          "execution_count": 25
        },
        {
          "output_type": "display_data",
          "data": {
            "image/png": "[encoded data removed]",
            "text/plain": [
              "<Figure size 432x288 with 1 Axes>"
            ]
          },
          "metadata": {
            "tags": [],
            "needs_background": "light"
          }
        }
      ]
    },
    {
      "cell_type": "code",
      "metadata": {
        "colab": {
          "base_uri": "https://localhost:8080/"
        },
        "id": "hgXZfI0OjBGJ",
        "outputId": "4e678054-a765-425c-b211-d27c20700d3f"
      },
      "source": [
        "Y_pred = model.predict(X_test)\n",
        "y_pred = np.argmax(Y_pred, axis = 1)\n",
        "[test_loss, test_acc] = model.evaluate(X_test, Y_test)\n",
        "print(\"Test Loss\", test_loss)\n",
        "print(\"Test Accuracy\", test_acc)"
      ],
      "execution_count": null,
      "outputs": [
        {
          "output_type": "stream",
          "text": [
            "2/2 [==============================] - 0s 6ms/step - loss: 0.1142 - accuracy: 0.8333\n",
            "Test Loss 0.11421868950128555\n",
            "Test Accuracy 0.8333333134651184\n"
          ],
          "name": "stdout"
        }
      ]
    },
    {
      "cell_type": "code",
      "metadata": {
        "colab": {
          "base_uri": "https://localhost:8080/"
        },
        "id": "sp_-mOkYjBIm",
        "outputId": "baf0aaa1-75fc-4cdd-81c8-5b4e610e84ba"
      },
      "source": [
        "class_names = [0, 1]\n",
        "confusion_mtx = confusion_matrix(y_test, y_pred)\n",
        "print(\"confusion matrix=\\n\", confusion_mtx)"
      ],
      "execution_count": null,
      "outputs": [
        {
          "output_type": "stream",
          "text": [
            "confusion matrix=\n",
            " [[25  2]\n",
            " [ 5 10]]\n"
          ],
          "name": "stdout"
        }
      ]
    },
    {
      "cell_type": "code",
      "metadata": {
        "id": "J2HWugpvjpYJ"
      },
      "source": [
        "#stochastic"
      ],
      "execution_count": null,
      "outputs": []
    },
    {
      "cell_type": "code",
      "metadata": {
        "colab": {
          "base_uri": "https://localhost:8080/"
        },
        "id": "uPcLRuccjBLM",
        "outputId": "a549d310-b023-42d8-b10f-31ee641d3d53"
      },
      "source": [
        "model = Sequential()\n",
        "model.add(Dense(512, activation = 'relu', input_shape = (60,)))\n",
        "model.add(Dense(512, activation = 'relu'))\n",
        "model.add(Dense(2, activation = 'softmax'))\n",
        "model.summary()\n",
        "model.compile(loss = 'categorical_crossentropy', optimizer = 'adam', metrics = ['accuracy'])\n",
        "history = model.fit(X_train, Y_train, epochs = 12, batch_size = 1, validation_split = 0.2)"
      ],
      "execution_count": null,
      "outputs": [
        {
          "output_type": "stream",
          "text": [
            "Model: \"sequential_2\"\n",
            "_________________________________________________________________\n",
            "Layer (type)                 Output Shape              Param #   \n",
            "=================================================================\n",
            "dense_6 (Dense)              (None, 512)               31232     \n",
            "_________________________________________________________________\n",
            "dense_7 (Dense)              (None, 512)               262656    \n",
            "_________________________________________________________________\n",
            "dense_8 (Dense)              (None, 2)                 1026      \n",
            "=================================================================\n",
            "Total params: 294,914\n",
            "Trainable params: 294,914\n",
            "Non-trainable params: 0\n",
            "_________________________________________________________________\n",
            "Epoch 1/12\n",
            "132/132 [==============================] - 1s 4ms/step - loss: 0.7940 - accuracy: 0.6106 - val_loss: 0.5408 - val_accuracy: 0.7353\n",
            "Epoch 2/12\n",
            "132/132 [==============================] - 0s 2ms/step - loss: 0.5038 - accuracy: 0.7677 - val_loss: 0.5460 - val_accuracy: 0.7353\n",
            "Epoch 3/12\n",
            "132/132 [==============================] - 0s 2ms/step - loss: 0.4397 - accuracy: 0.8056 - val_loss: 0.5016 - val_accuracy: 0.7941\n",
            "Epoch 4/12\n",
            "132/132 [==============================] - 0s 2ms/step - loss: 0.4071 - accuracy: 0.7978 - val_loss: 0.4349 - val_accuracy: 0.8529\n",
            "Epoch 5/12\n",
            "132/132 [==============================] - 0s 2ms/step - loss: 0.3630 - accuracy: 0.8557 - val_loss: 0.5517 - val_accuracy: 0.7353\n",
            "Epoch 6/12\n",
            "132/132 [==============================] - 0s 2ms/step - loss: 0.2821 - accuracy: 0.8827 - val_loss: 0.5285 - val_accuracy: 0.7353\n",
            "Epoch 7/12\n",
            "132/132 [==============================] - 0s 2ms/step - loss: 0.2741 - accuracy: 0.8485 - val_loss: 0.4042 - val_accuracy: 0.8235\n",
            "Epoch 8/12\n",
            "132/132 [==============================] - 0s 2ms/step - loss: 0.2829 - accuracy: 0.8830 - val_loss: 0.4141 - val_accuracy: 0.7941\n",
            "Epoch 9/12\n",
            "132/132 [==============================] - 0s 2ms/step - loss: 0.2755 - accuracy: 0.7885 - val_loss: 0.5148 - val_accuracy: 0.7647\n",
            "Epoch 10/12\n",
            "132/132 [==============================] - 0s 2ms/step - loss: 0.1855 - accuracy: 0.8939 - val_loss: 0.4207 - val_accuracy: 0.8529\n",
            "Epoch 11/12\n",
            "132/132 [==============================] - 0s 2ms/step - loss: 0.1992 - accuracy: 0.8743 - val_loss: 0.4274 - val_accuracy: 0.9118\n",
            "Epoch 12/12\n",
            "132/132 [==============================] - 0s 2ms/step - loss: 0.2554 - accuracy: 0.8351 - val_loss: 0.3934 - val_accuracy: 0.7647\n"
          ],
          "name": "stdout"
        }
      ]
    },
    {
      "cell_type": "code",
      "metadata": {
        "colab": {
          "base_uri": "https://localhost:8080/",
          "height": 313
        },
        "id": "eHsN00WVjBND",
        "outputId": "8e696d28-e985-4822-d6e3-ed9448db5cf3"
      },
      "source": [
        "fig = plt.figure()\n",
        "plt.plot(history.history['accuracy'])\n",
        "plt.plot(history.history['val_accuracy'])\n",
        "plt.title('Accuracy')\n",
        "plt.ylabel('accuracy')\n",
        "plt.xlabel('epoch')\n",
        "plt.legend(['train', 'validation'], loc='lower right')\n"
      ],
      "execution_count": null,
      "outputs": [
        {
          "output_type": "execute_result",
          "data": {
            "text/plain": [
              "<matplotlib.legend.Legend at 0x7f369a651650>"
            ]
          },
          "metadata": {
            "tags": []
          },
          "execution_count": 29
        },
        {
          "output_type": "display_data",
          "data": {
            "image/png": "[encoded data removed]",
            "text/plain": [
              "<Figure size 432x288 with 1 Axes>"
            ]
          },
          "metadata": {
            "tags": [],
            "needs_background": "light"
          }
        }
      ]
    },
    {
      "cell_type": "code",
      "metadata": {
        "colab": {
          "base_uri": "https://localhost:8080/",
          "height": 313
        },
        "id": "cdUV2bNfjBPF",
        "outputId": "e09cbe29-b63e-43e2-d7fc-bebc1fcc9983"
      },
      "source": [
        "plt.plot(history.history['loss'])\n",
        "plt.plot(history.history['val_loss'])\n",
        "plt.title('Loss')\n",
        "plt.ylabel('loss')\n",
        "plt.xlabel('epoch')\n",
        "plt.legend(['train', 'validation'], loc = 'upper right')"
      ],
      "execution_count": null,
      "outputs": [
        {
          "output_type": "execute_result",
          "data": {
            "text/plain": [
              "<matplotlib.legend.Legend at 0x7f369a5da410>"
            ]
          },
          "metadata": {
            "tags": []
          },
          "execution_count": 30
        },
        {
          "output_type": "display_data",
          "data": {
            "image/png": "[encoded data removed]",
            "text/plain": [
              "<Figure size 432x288 with 1 Axes>"
            ]
          },
          "metadata": {
            "tags": [],
            "needs_background": "light"
          }
        }
      ]
    },
    {
      "cell_type": "code",
      "metadata": {
        "colab": {
          "base_uri": "https://localhost:8080/"
        },
        "id": "J2yge1imjBRw",
        "outputId": "796e16d0-9b60-45fb-a5f0-15e8de1e94b2"
      },
      "source": [
        "Y_pred = model.predict(X_test)\n",
        "y_pred = np.argmax(Y_pred, axis = 1)\n",
        "[test_loss, test_acc] = model.evaluate(X_test, Y_test)\n",
        "print(\"Test Loss\", test_loss)\n",
        "print(\"Test Accuracy\", test_acc)"
      ],
      "execution_count": null,
      "outputs": [
        {
          "output_type": "stream",
          "text": [
            "2/2 [==============================] - 0s 6ms/step - loss: 0.5753 - accuracy: 0.8095\n",
            "Test Loss 0.5753465890884399\n",
            "Test Accuracy 0.8095238208770752\n"
          ],
          "name": "stdout"
        }
      ]
    },
    {
      "cell_type": "code",
      "metadata": {
        "colab": {
          "base_uri": "https://localhost:8080/"
        },
        "id": "K5LOgx0LjBVc",
        "outputId": "aff7e01f-377f-4e6b-f42c-dcd5271d76d3"
      },
      "source": [
        "class_names = [0, 1]\n",
        "confusion_mtx = confusion_matrix(y_test, y_pred)\n",
        "print(\"confusion matrix=\\n\", confusion_mtx)"
      ],
      "execution_count": null,
      "outputs": [
        {
          "output_type": "stream",
          "text": [
            "confusion matrix=\n",
            " [[19  8]\n",
            " [ 0 15]]\n"
          ],
          "name": "stdout"
        }
      ]
    },
    {
      "cell_type": "code",
      "metadata": {
        "id": "IpZPOU1vixjU"
      },
      "source": [
        "#bach 64"
      ],
      "execution_count": null,
      "outputs": []
    },
    {
      "cell_type": "code",
      "metadata": {
        "colab": {
          "base_uri": "https://localhost:8080/"
        },
        "id": "Y536qNT6j4rM",
        "outputId": "92f1bcbc-ed43-4a98-dbd8-52cfd0950321"
      },
      "source": [
        "model = Sequential()\n",
        "model.add(Dense(512, activation = 'relu', input_shape = (60,)))\n",
        "model.add(Dense(512, activation = 'relu'))\n",
        "model.add(Dense(2, activation = 'softmax'))\n",
        "model.summary()\n",
        "model.compile(loss = 'categorical_crossentropy', optimizer = 'adam', metrics = ['accuracy'])\n",
        "history = model.fit(X_train, Y_train, epochs = 40, batch_size = 64, validation_split = 0.2)"
      ],
      "execution_count": null,
      "outputs": [
        {
          "output_type": "stream",
          "text": [
            "Model: \"sequential_3\"\n",
            "_________________________________________________________________\n",
            "Layer (type)                 Output Shape              Param #   \n",
            "=================================================================\n",
            "dense_9 (Dense)              (None, 512)               31232     \n",
            "_________________________________________________________________\n",
            "dense_10 (Dense)             (None, 512)               262656    \n",
            "_________________________________________________________________\n",
            "dense_11 (Dense)             (None, 2)                 1026      \n",
            "=================================================================\n",
            "Total params: 294,914\n",
            "Trainable params: 294,914\n",
            "Non-trainable params: 0\n",
            "_________________________________________________________________\n",
            "Epoch 1/40\n",
            "3/3 [==============================] - 1s 118ms/step - loss: 0.7180 - accuracy: 0.4499 - val_loss: 0.6316 - val_accuracy: 0.6471\n",
            "Epoch 2/40\n",
            "3/3 [==============================] - 0s 17ms/step - loss: 0.6108 - accuracy: 0.6617 - val_loss: 0.5749 - val_accuracy: 0.8824\n",
            "Epoch 3/40\n",
            "3/3 [==============================] - 0s 16ms/step - loss: 0.5788 - accuracy: 0.7540 - val_loss: 0.5424 - val_accuracy: 0.8824\n",
            "Epoch 4/40\n",
            "3/3 [==============================] - 0s 18ms/step - loss: 0.5269 - accuracy: 0.8040 - val_loss: 0.5496 - val_accuracy: 0.6765\n",
            "Epoch 5/40\n",
            "3/3 [==============================] - 0s 15ms/step - loss: 0.5283 - accuracy: 0.7461 - val_loss: 0.5238 - val_accuracy: 0.7353\n",
            "Epoch 6/40\n",
            "3/3 [==============================] - 0s 18ms/step - loss: 0.4633 - accuracy: 0.8019 - val_loss: 0.5018 - val_accuracy: 0.8529\n",
            "Epoch 7/40\n",
            "3/3 [==============================] - 0s 17ms/step - loss: 0.4287 - accuracy: 0.7868 - val_loss: 0.4983 - val_accuracy: 0.7941\n",
            "Epoch 8/40\n",
            "3/3 [==============================] - 0s 16ms/step - loss: 0.3966 - accuracy: 0.8731 - val_loss: 0.5841 - val_accuracy: 0.6471\n",
            "Epoch 9/40\n",
            "3/3 [==============================] - 0s 16ms/step - loss: 0.5010 - accuracy: 0.7230 - val_loss: 0.5312 - val_accuracy: 0.7059\n",
            "Epoch 10/40\n",
            "3/3 [==============================] - 0s 16ms/step - loss: 0.3907 - accuracy: 0.8635 - val_loss: 0.5700 - val_accuracy: 0.7353\n",
            "Epoch 11/40\n",
            "3/3 [==============================] - 0s 16ms/step - loss: 0.3533 - accuracy: 0.8213 - val_loss: 0.4999 - val_accuracy: 0.7353\n",
            "Epoch 12/40\n",
            "3/3 [==============================] - 0s 16ms/step - loss: 0.3309 - accuracy: 0.8865 - val_loss: 0.4586 - val_accuracy: 0.7353\n",
            "Epoch 13/40\n",
            "3/3 [==============================] - 0s 16ms/step - loss: 0.3171 - accuracy: 0.8924 - val_loss: 0.4557 - val_accuracy: 0.7353\n",
            "Epoch 14/40\n",
            "3/3 [==============================] - 0s 17ms/step - loss: 0.3291 - accuracy: 0.8806 - val_loss: 0.5066 - val_accuracy: 0.7647\n",
            "Epoch 15/40\n",
            "3/3 [==============================] - 0s 16ms/step - loss: 0.3461 - accuracy: 0.8098 - val_loss: 0.4834 - val_accuracy: 0.7941\n",
            "Epoch 16/40\n",
            "3/3 [==============================] - 0s 16ms/step - loss: 0.3011 - accuracy: 0.8713 - val_loss: 0.4660 - val_accuracy: 0.7059\n",
            "Epoch 17/40\n",
            "3/3 [==============================] - 0s 15ms/step - loss: 0.3118 - accuracy: 0.8712 - val_loss: 0.4339 - val_accuracy: 0.8529\n",
            "Epoch 18/40\n",
            "3/3 [==============================] - 0s 17ms/step - loss: 0.2723 - accuracy: 0.8980 - val_loss: 0.4614 - val_accuracy: 0.8235\n",
            "Epoch 19/40\n",
            "3/3 [==============================] - 0s 16ms/step - loss: 0.2652 - accuracy: 0.9001 - val_loss: 0.4531 - val_accuracy: 0.8235\n",
            "Epoch 20/40\n",
            "3/3 [==============================] - 0s 16ms/step - loss: 0.2570 - accuracy: 0.9095 - val_loss: 0.4146 - val_accuracy: 0.8529\n",
            "Epoch 21/40\n",
            "3/3 [==============================] - 0s 18ms/step - loss: 0.2344 - accuracy: 0.9251 - val_loss: 0.4181 - val_accuracy: 0.8529\n",
            "Epoch 22/40\n",
            "3/3 [==============================] - 0s 19ms/step - loss: 0.2220 - accuracy: 0.9366 - val_loss: 0.4675 - val_accuracy: 0.8235\n",
            "Epoch 23/40\n",
            "3/3 [==============================] - 0s 19ms/step - loss: 0.2081 - accuracy: 0.9309 - val_loss: 0.4409 - val_accuracy: 0.7647\n",
            "Epoch 24/40\n",
            "3/3 [==============================] - 0s 16ms/step - loss: 0.2473 - accuracy: 0.8654 - val_loss: 0.4493 - val_accuracy: 0.7353\n",
            "Epoch 25/40\n",
            "3/3 [==============================] - 0s 20ms/step - loss: 0.2065 - accuracy: 0.9288 - val_loss: 0.4673 - val_accuracy: 0.8824\n",
            "Epoch 26/40\n",
            "3/3 [==============================] - 0s 17ms/step - loss: 0.2192 - accuracy: 0.8962 - val_loss: 0.5191 - val_accuracy: 0.8235\n",
            "Epoch 27/40\n",
            "3/3 [==============================] - 0s 16ms/step - loss: 0.2247 - accuracy: 0.8675 - val_loss: 0.4461 - val_accuracy: 0.8235\n",
            "Epoch 28/40\n",
            "3/3 [==============================] - 0s 16ms/step - loss: 0.1852 - accuracy: 0.9366 - val_loss: 0.4446 - val_accuracy: 0.8235\n",
            "Epoch 29/40\n",
            "3/3 [==============================] - 0s 16ms/step - loss: 0.1595 - accuracy: 0.9557 - val_loss: 0.5535 - val_accuracy: 0.8235\n",
            "Epoch 30/40\n",
            "3/3 [==============================] - 0s 17ms/step - loss: 0.2053 - accuracy: 0.9039 - val_loss: 0.4492 - val_accuracy: 0.7941\n",
            "Epoch 31/40\n",
            "3/3 [==============================] - 0s 19ms/step - loss: 0.1772 - accuracy: 0.9618 - val_loss: 0.5301 - val_accuracy: 0.7353\n",
            "Epoch 32/40\n",
            "3/3 [==============================] - 0s 16ms/step - loss: 0.2190 - accuracy: 0.8845 - val_loss: 0.5323 - val_accuracy: 0.7647\n",
            "Epoch 33/40\n",
            "3/3 [==============================] - 0s 18ms/step - loss: 0.1822 - accuracy: 0.9231 - val_loss: 0.5848 - val_accuracy: 0.7647\n",
            "Epoch 34/40\n",
            "3/3 [==============================] - 0s 16ms/step - loss: 0.1839 - accuracy: 0.9134 - val_loss: 0.4627 - val_accuracy: 0.7647\n",
            "Epoch 35/40\n",
            "3/3 [==============================] - 0s 16ms/step - loss: 0.1545 - accuracy: 0.9519 - val_loss: 0.4290 - val_accuracy: 0.7941\n",
            "Epoch 36/40\n",
            "3/3 [==============================] - 0s 16ms/step - loss: 0.1435 - accuracy: 0.9692 - val_loss: 0.4250 - val_accuracy: 0.8529\n",
            "Epoch 37/40\n",
            "3/3 [==============================] - 0s 16ms/step - loss: 0.1448 - accuracy: 0.9481 - val_loss: 0.4630 - val_accuracy: 0.8529\n",
            "Epoch 38/40\n",
            "3/3 [==============================] - 0s 16ms/step - loss: 0.1321 - accuracy: 0.9559 - val_loss: 0.3278 - val_accuracy: 0.8824\n",
            "Epoch 39/40\n",
            "3/3 [==============================] - 0s 17ms/step - loss: 0.1191 - accuracy: 0.9885 - val_loss: 0.3598 - val_accuracy: 0.7647\n",
            "Epoch 40/40\n",
            "3/3 [==============================] - 0s 16ms/step - loss: 0.1116 - accuracy: 0.9846 - val_loss: 0.3976 - val_accuracy: 0.7941\n"
          ],
          "name": "stdout"
        }
      ]
    },
    {
      "cell_type": "code",
      "metadata": {
        "colab": {
          "base_uri": "https://localhost:8080/",
          "height": 313
        },
        "id": "M9fiBMHgj4uV",
        "outputId": "6928dc21-c6b4-4afa-821a-dac600312809"
      },
      "source": [
        "plt.plot(history.history['accuracy'])\n",
        "plt.plot(history.history['val_accuracy'])\n",
        "plt.title('Accuracy')\n",
        "plt.ylabel('accuracy')\n",
        "plt.xlabel('epoch')\n",
        "plt.legend(['train', 'validation'], loc='lower right')"
      ],
      "execution_count": null,
      "outputs": [
        {
          "output_type": "execute_result",
          "data": {
            "text/plain": [
              "<matplotlib.legend.Legend at 0x7f369a34bad0>"
            ]
          },
          "metadata": {
            "tags": []
          },
          "execution_count": 35
        },
        {
          "output_type": "display_data",
          "data": {
            "image/png": "[encoded data removed]",
            "text/plain": [
              "<Figure size 432x288 with 1 Axes>"
            ]
          },
          "metadata": {
            "tags": [],
            "needs_background": "light"
          }
        }
      ]
    },
    {
      "cell_type": "code",
      "metadata": {
        "colab": {
          "base_uri": "https://localhost:8080/",
          "height": 313
        },
        "id": "2Nn733Ipj4x0",
        "outputId": "287b1d94-f3a3-4966-a955-02955de818ec"
      },
      "source": [
        "plt.plot(history.history['loss'])\n",
        "plt.plot(history.history['val_loss'])\n",
        "plt.title('Loss')\n",
        "plt.ylabel('loss')\n",
        "plt.xlabel('epoch')\n",
        "plt.legend(['train', 'validation'], loc = 'upper right')\n"
      ],
      "execution_count": null,
      "outputs": [
        {
          "output_type": "execute_result",
          "data": {
            "text/plain": [
              "<matplotlib.legend.Legend at 0x7f369a3ef850>"
            ]
          },
          "metadata": {
            "tags": []
          },
          "execution_count": 36
        },
        {
          "output_type": "display_data",
          "data": {
            "image/png": "[encoded data removed]",
            "text/plain": [
              "<Figure size 432x288 with 1 Axes>"
            ]
          },
          "metadata": {
            "tags": [],
            "needs_background": "light"
          }
        }
      ]
    },
    {
      "cell_type": "code",
      "metadata": {
        "colab": {
          "base_uri": "https://localhost:8080/"
        },
        "id": "DL3S4cxjj4z9",
        "outputId": "ba2b7796-2578-46cb-a61a-a0d08e2db255"
      },
      "source": [
        "Y_pred = model.predict(X_test)\n",
        "y_pred = np.argmax(Y_pred, axis = 1)\n",
        "[test_loss, test_acc] = model.evaluate(X_test, Y_test)\n",
        "print(\"Test Loss\", test_loss)\n",
        "print(\"Test Accuracy\", test_acc)"
      ],
      "execution_count": null,
      "outputs": [
        {
          "output_type": "stream",
          "text": [
            "2/2 [==============================] - 0s 6ms/step - loss: 0.3552 - accuracy: 0.8571\n",
            "Test Loss 0.3551674783229828\n",
            "Test Accuracy 0.8571428656578064\n"
          ],
          "name": "stdout"
        }
      ]
    },
    {
      "cell_type": "code",
      "metadata": {
        "colab": {
          "base_uri": "https://localhost:8080/"
        },
        "id": "8JeEwki-j42l",
        "outputId": "5c9b14a0-1ea4-4d61-aa11-fdaf4f5f001b"
      },
      "source": [
        "class_names = [0, 1]\n",
        "confusion_mtx = confusion_matrix(y_test, y_pred)\n",
        "print(\"confusion matrix=\\n\", confusion_mtx)"
      ],
      "execution_count": null,
      "outputs": [
        {
          "output_type": "stream",
          "text": [
            "confusion matrix=\n",
            " [[24  3]\n",
            " [ 3 12]]\n"
          ],
          "name": "stdout"
        }
      ]
    },
    {
      "cell_type": "code",
      "metadata": {
        "colab": {
          "base_uri": "https://localhost:8080/"
        },
        "id": "nBzUKYUakM8r",
        "outputId": "da3f5750-f4a3-49de-b610-37fb01da9bc4"
      },
      "source": [
        "#bach 128\n",
        "model = Sequential()\n",
        "model.add(Dense(512, activation = 'relu', input_shape = (60,)))\n",
        "model.add(Dense(512, activation = 'relu'))\n",
        "model.add(Dense(2, activation = 'softmax'))\n",
        "model.summary()\n",
        "model.compile(loss = 'categorical_crossentropy', optimizer = 'adam', metrics = ['accuracy'])\n",
        "history = model.fit(X_train, Y_train, epochs = 50, batch_size = 128, validation_split = 0.2)"
      ],
      "execution_count": null,
      "outputs": [
        {
          "output_type": "stream",
          "text": [
            "Model: \"sequential_4\"\n",
            "_________________________________________________________________\n",
            "Layer (type)                 Output Shape              Param #   \n",
            "=================================================================\n",
            "dense_12 (Dense)             (None, 512)               31232     \n",
            "_________________________________________________________________\n",
            "dense_13 (Dense)             (None, 512)               262656    \n",
            "_________________________________________________________________\n",
            "dense_14 (Dense)             (None, 2)                 1026      \n",
            "=================================================================\n",
            "Total params: 294,914\n",
            "Trainable params: 294,914\n",
            "Non-trainable params: 0\n",
            "_________________________________________________________________\n",
            "Epoch 1/50\n",
            "2/2 [==============================] - 1s 247ms/step - loss: 0.7009 - accuracy: 0.4464 - val_loss: 0.6781 - val_accuracy: 0.5000\n",
            "Epoch 2/50\n",
            "2/2 [==============================] - 0s 33ms/step - loss: 0.6428 - accuracy: 0.5433 - val_loss: 0.6560 - val_accuracy: 0.5588\n",
            "Epoch 3/50\n",
            "2/2 [==============================] - 0s 34ms/step - loss: 0.6383 - accuracy: 0.5765 - val_loss: 0.6319 - val_accuracy: 0.5588\n",
            "Epoch 4/50\n",
            "2/2 [==============================] - 0s 32ms/step - loss: 0.6216 - accuracy: 0.5842 - val_loss: 0.5677 - val_accuracy: 0.8824\n",
            "Epoch 5/50\n",
            "2/2 [==============================] - 0s 32ms/step - loss: 0.5570 - accuracy: 0.7883 - val_loss: 0.5818 - val_accuracy: 0.6471\n",
            "Epoch 6/50\n",
            "2/2 [==============================] - 0s 31ms/step - loss: 0.5681 - accuracy: 0.6479 - val_loss: 0.5709 - val_accuracy: 0.6765\n",
            "Epoch 7/50\n",
            "2/2 [==============================] - 0s 30ms/step - loss: 0.5567 - accuracy: 0.6581 - val_loss: 0.5309 - val_accuracy: 0.7353\n",
            "Epoch 8/50\n",
            "2/2 [==============================] - 0s 34ms/step - loss: 0.5144 - accuracy: 0.7296 - val_loss: 0.4767 - val_accuracy: 0.8529\n",
            "Epoch 9/50\n",
            "2/2 [==============================] - 0s 39ms/step - loss: 0.4644 - accuracy: 0.8445 - val_loss: 0.4909 - val_accuracy: 0.7353\n",
            "Epoch 10/50\n",
            "2/2 [==============================] - 0s 35ms/step - loss: 0.4832 - accuracy: 0.7933 - val_loss: 0.5252 - val_accuracy: 0.7059\n",
            "Epoch 11/50\n",
            "2/2 [==============================] - 0s 30ms/step - loss: 0.4994 - accuracy: 0.7397 - val_loss: 0.5017 - val_accuracy: 0.7647\n",
            "Epoch 12/50\n",
            "2/2 [==============================] - 0s 29ms/step - loss: 0.4315 - accuracy: 0.8419 - val_loss: 0.5284 - val_accuracy: 0.6765\n",
            "Epoch 13/50\n",
            "2/2 [==============================] - 0s 29ms/step - loss: 0.4043 - accuracy: 0.8138 - val_loss: 0.5279 - val_accuracy: 0.7059\n",
            "Epoch 14/50\n",
            "2/2 [==============================] - 0s 31ms/step - loss: 0.3849 - accuracy: 0.8469 - val_loss: 0.5339 - val_accuracy: 0.7941\n",
            "Epoch 15/50\n",
            "2/2 [==============================] - 0s 30ms/step - loss: 0.4066 - accuracy: 0.8546 - val_loss: 0.5580 - val_accuracy: 0.7647\n",
            "Epoch 16/50\n",
            "2/2 [==============================] - 0s 29ms/step - loss: 0.4177 - accuracy: 0.8265 - val_loss: 0.5336 - val_accuracy: 0.6765\n",
            "Epoch 17/50\n",
            "2/2 [==============================] - 0s 30ms/step - loss: 0.3669 - accuracy: 0.8342 - val_loss: 0.6012 - val_accuracy: 0.7059\n",
            "Epoch 18/50\n",
            "2/2 [==============================] - 0s 31ms/step - loss: 0.4094 - accuracy: 0.7321 - val_loss: 0.5502 - val_accuracy: 0.6765\n",
            "Epoch 19/50\n",
            "2/2 [==============================] - 0s 40ms/step - loss: 0.3579 - accuracy: 0.8316 - val_loss: 0.5495 - val_accuracy: 0.7353\n",
            "Epoch 20/50\n",
            "2/2 [==============================] - 0s 33ms/step - loss: 0.3565 - accuracy: 0.8546 - val_loss: 0.5727 - val_accuracy: 0.7353\n",
            "Epoch 21/50\n",
            "2/2 [==============================] - 0s 30ms/step - loss: 0.3752 - accuracy: 0.8495 - val_loss: 0.5713 - val_accuracy: 0.7647\n",
            "Epoch 22/50\n",
            "2/2 [==============================] - 0s 35ms/step - loss: 0.3717 - accuracy: 0.8572 - val_loss: 0.5375 - val_accuracy: 0.7647\n",
            "Epoch 23/50\n",
            "2/2 [==============================] - 0s 31ms/step - loss: 0.3299 - accuracy: 0.8648 - val_loss: 0.5379 - val_accuracy: 0.7059\n",
            "Epoch 24/50\n",
            "2/2 [==============================] - 0s 32ms/step - loss: 0.3148 - accuracy: 0.8469 - val_loss: 0.6226 - val_accuracy: 0.7353\n",
            "Epoch 25/50\n",
            "2/2 [==============================] - 0s 33ms/step - loss: 0.3632 - accuracy: 0.8010 - val_loss: 0.6021 - val_accuracy: 0.7353\n",
            "Epoch 26/50\n",
            "2/2 [==============================] - 0s 35ms/step - loss: 0.3237 - accuracy: 0.8316 - val_loss: 0.5744 - val_accuracy: 0.7059\n",
            "Epoch 27/50\n",
            "2/2 [==============================] - 0s 32ms/step - loss: 0.2939 - accuracy: 0.8674 - val_loss: 0.5792 - val_accuracy: 0.7059\n",
            "Epoch 28/50\n",
            "2/2 [==============================] - 0s 31ms/step - loss: 0.2974 - accuracy: 0.8648 - val_loss: 0.5804 - val_accuracy: 0.7353\n",
            "Epoch 29/50\n",
            "2/2 [==============================] - 0s 31ms/step - loss: 0.2799 - accuracy: 0.8546 - val_loss: 0.6922 - val_accuracy: 0.7059\n",
            "Epoch 30/50\n",
            "2/2 [==============================] - 0s 31ms/step - loss: 0.3825 - accuracy: 0.7883 - val_loss: 0.6521 - val_accuracy: 0.7059\n",
            "Epoch 31/50\n",
            "2/2 [==============================] - 0s 31ms/step - loss: 0.3652 - accuracy: 0.7909 - val_loss: 0.5024 - val_accuracy: 0.7941\n",
            "Epoch 32/50\n",
            "2/2 [==============================] - 0s 30ms/step - loss: 0.2588 - accuracy: 0.9005 - val_loss: 0.4705 - val_accuracy: 0.7941\n",
            "Epoch 33/50\n",
            "2/2 [==============================] - 0s 30ms/step - loss: 0.2476 - accuracy: 0.9057 - val_loss: 0.5178 - val_accuracy: 0.6765\n",
            "Epoch 34/50\n",
            "2/2 [==============================] - 0s 31ms/step - loss: 0.3190 - accuracy: 0.8342 - val_loss: 0.4702 - val_accuracy: 0.7353\n",
            "Epoch 35/50\n",
            "2/2 [==============================] - 0s 31ms/step - loss: 0.2781 - accuracy: 0.8775 - val_loss: 0.4466 - val_accuracy: 0.8235\n",
            "Epoch 36/50\n",
            "2/2 [==============================] - 0s 29ms/step - loss: 0.2525 - accuracy: 0.8954 - val_loss: 0.4864 - val_accuracy: 0.7941\n",
            "Epoch 37/50\n",
            "2/2 [==============================] - 0s 30ms/step - loss: 0.2919 - accuracy: 0.8546 - val_loss: 0.4156 - val_accuracy: 0.8235\n",
            "Epoch 38/50\n",
            "2/2 [==============================] - 0s 30ms/step - loss: 0.2438 - accuracy: 0.9005 - val_loss: 0.3869 - val_accuracy: 0.8235\n",
            "Epoch 39/50\n",
            "2/2 [==============================] - 0s 32ms/step - loss: 0.2327 - accuracy: 0.9235 - val_loss: 0.3952 - val_accuracy: 0.7941\n",
            "Epoch 40/50\n",
            "2/2 [==============================] - 0s 34ms/step - loss: 0.2435 - accuracy: 0.9081 - val_loss: 0.3881 - val_accuracy: 0.7941\n",
            "Epoch 41/50\n",
            "2/2 [==============================] - 0s 32ms/step - loss: 0.2405 - accuracy: 0.9158 - val_loss: 0.3754 - val_accuracy: 0.8235\n",
            "Epoch 42/50\n",
            "2/2 [==============================] - 0s 30ms/step - loss: 0.2259 - accuracy: 0.9235 - val_loss: 0.3708 - val_accuracy: 0.8235\n",
            "Epoch 43/50\n",
            "2/2 [==============================] - 0s 32ms/step - loss: 0.2089 - accuracy: 0.9311 - val_loss: 0.4088 - val_accuracy: 0.8235\n",
            "Epoch 44/50\n",
            "2/2 [==============================] - 0s 29ms/step - loss: 0.2176 - accuracy: 0.9081 - val_loss: 0.4272 - val_accuracy: 0.8235\n",
            "Epoch 45/50\n",
            "2/2 [==============================] - 0s 31ms/step - loss: 0.2136 - accuracy: 0.9081 - val_loss: 0.4437 - val_accuracy: 0.7941\n",
            "Epoch 46/50\n",
            "2/2 [==============================] - 0s 30ms/step - loss: 0.1991 - accuracy: 0.9158 - val_loss: 0.4803 - val_accuracy: 0.7941\n",
            "Epoch 47/50\n",
            "2/2 [==============================] - 0s 31ms/step - loss: 0.1969 - accuracy: 0.9261 - val_loss: 0.4562 - val_accuracy: 0.8235\n",
            "Epoch 48/50\n",
            "2/2 [==============================] - 0s 32ms/step - loss: 0.1740 - accuracy: 0.9158 - val_loss: 0.4728 - val_accuracy: 0.7941\n",
            "Epoch 49/50\n",
            "2/2 [==============================] - 0s 33ms/step - loss: 0.1963 - accuracy: 0.9081 - val_loss: 0.4971 - val_accuracy: 0.7941\n",
            "Epoch 50/50\n",
            "2/2 [==============================] - 0s 30ms/step - loss: 0.2090 - accuracy: 0.9005 - val_loss: 0.4883 - val_accuracy: 0.7647\n"
          ],
          "name": "stdout"
        }
      ]
    },
    {
      "cell_type": "code",
      "metadata": {
        "colab": {
          "base_uri": "https://localhost:8080/",
          "height": 313
        },
        "id": "CqcltoXDkM_V",
        "outputId": "7152bcc4-c25c-4d53-e845-54d028068e0d"
      },
      "source": [
        "plt.plot(history.history['accuracy'])\n",
        "plt.plot(history.history['val_accuracy'])\n",
        "plt.title('Accuracy')\n",
        "plt.ylabel('accuracy')\n",
        "plt.xlabel('epoch')\n",
        "plt.legend(['train', 'validation'], loc='lower right')"
      ],
      "execution_count": null,
      "outputs": [
        {
          "output_type": "execute_result",
          "data": {
            "text/plain": [
              "<matplotlib.legend.Legend at 0x7f369a122910>"
            ]
          },
          "metadata": {
            "tags": []
          },
          "execution_count": 40
        },
        {
          "output_type": "display_data",
          "data": {
            "image/png": "[encoded data removed]",
            "text/plain": [
              "<Figure size 432x288 with 1 Axes>"
            ]
          },
          "metadata": {
            "tags": [],
            "needs_background": "light"
          }
        }
      ]
    },
    {
      "cell_type": "code",
      "metadata": {
        "colab": {
          "base_uri": "https://localhost:8080/",
          "height": 313
        },
        "id": "2rriRKdVkNCt",
        "outputId": "59573d25-e5f7-4b24-9b1e-d00cbc6919f0"
      },
      "source": [
        "plt.plot(history.history['loss'])\n",
        "plt.plot(history.history['val_loss'])\n",
        "plt.title('Loss')\n",
        "plt.ylabel('loss')\n",
        "plt.xlabel('epoch')\n",
        "plt.legend(['train', 'validation'], loc = 'upper right')"
      ],
      "execution_count": null,
      "outputs": [
        {
          "output_type": "execute_result",
          "data": {
            "text/plain": [
              "<matplotlib.legend.Legend at 0x7f369a0b2a50>"
            ]
          },
          "metadata": {
            "tags": []
          },
          "execution_count": 41
        },
        {
          "output_type": "display_data",
          "data": {
            "image/png": "[encoded data removed]",
            "text/plain": [
              "<Figure size 432x288 with 1 Axes>"
            ]
          },
          "metadata": {
            "tags": [],
            "needs_background": "light"
          }
        }
      ]
    },
    {
      "cell_type": "code",
      "metadata": {
        "colab": {
          "base_uri": "https://localhost:8080/"
        },
        "id": "IuvF-6dlkNF4",
        "outputId": "77b1f520-dfcf-42fc-a4cc-02ebf7ad01bf"
      },
      "source": [
        "Y_pred = model.predict(X_test)\n",
        "y_pred = np.argmax(Y_pred, axis = 1)\n",
        "[test_loss, test_acc] = model.evaluate(X_test, Y_test)\n",
        "print(\"Test Loss\", test_loss)\n",
        "print(\"Test Accuracy\", test_acc)"
      ],
      "execution_count": null,
      "outputs": [
        {
          "output_type": "stream",
          "text": [
            "WARNING:tensorflow:5 out of the last 9 calls to <function Model.make_predict_function.<locals>.predict_function at 0x7f367f772440> triggered tf.function retracing. Tracing is expensive and the excessive number of tracings could be due to (1) creating @tf.function repeatedly in a loop, (2) passing tensors with different shapes, (3) passing Python objects instead of tensors. For (1), please define your @tf.function outside of the loop. For (2), @tf.function has experimental_relax_shapes=True option that relaxes argument shapes that can avoid unnecessary retracing. For (3), please refer to https://www.tensorflow.org/guide/function#controlling_retracing and https://www.tensorflow.org/api_docs/python/tf/function for  more details.\n",
            "2/2 [==============================] - 0s 6ms/step - loss: 0.4004 - accuracy: 0.8095\n",
            "Test Loss 0.40037035942077637\n",
            "Test Accuracy 0.8095238208770752\n"
          ],
          "name": "stdout"
        }
      ]
    },
    {
      "cell_type": "code",
      "metadata": {
        "colab": {
          "base_uri": "https://localhost:8080/"
        },
        "id": "3Qb-zzf0kNIN",
        "outputId": "555ce3ef-2987-449a-cd3b-56be3e559fc8"
      },
      "source": [
        "class_names = [0, 1]\n",
        "confusion_mtx = confusion_matrix(y_test, y_pred)\n",
        "print(\"confusion matrix=\\n\", confusion_mtx)"
      ],
      "execution_count": null,
      "outputs": [
        {
          "output_type": "stream",
          "text": [
            "confusion matrix=\n",
            " [[22  5]\n",
            " [ 3 12]]\n"
          ],
          "name": "stdout"
        }
      ]
    },
    {
      "cell_type": "code",
      "metadata": {
        "colab": {
          "base_uri": "https://localhost:8080/"
        },
        "id": "yoQXXkg7vdYX",
        "outputId": "1efeb0d8-e5d8-41dc-d599-554490082c49"
      },
      "source": [
        "model = Sequential()\n",
        "model.add(Dense(512, activation = 'relu', input_shape = (60,)))\n",
        "model.add(Dense(512, activation = 'relu'))\n",
        "model.add(Dense(2, activation = 'softmax'))\n",
        "model.summary()\n",
        "model.compile(loss = 'categorical_crossentropy', optimizer = 'adam', metrics = ['accuracy'])\n",
        "history = model.fit(X_train, Y_train, epochs = 30, batch_size = 208, validation_split = 0.2)"
      ],
      "execution_count": null,
      "outputs": [
        {
          "output_type": "stream",
          "text": [
            "Model: \"sequential_11\"\n",
            "_________________________________________________________________\n",
            "Layer (type)                 Output Shape              Param #   \n",
            "=================================================================\n",
            "dense_38 (Dense)             (None, 512)               31232     \n",
            "_________________________________________________________________\n",
            "dense_39 (Dense)             (None, 512)               262656    \n",
            "_________________________________________________________________\n",
            "dense_40 (Dense)             (None, 2)                 1026      \n",
            "=================================================================\n",
            "Total params: 294,914\n",
            "Trainable params: 294,914\n",
            "Non-trainable params: 0\n",
            "_________________________________________________________________\n",
            "Epoch 1/30\n",
            "1/1 [==============================] - 1s 510ms/step - loss: 0.6750 - accuracy: 0.6061 - val_loss: 0.6629 - val_accuracy: 0.5294\n",
            "Epoch 2/30\n",
            "1/1 [==============================] - 0s 33ms/step - loss: 0.6290 - accuracy: 0.5606 - val_loss: 0.6113 - val_accuracy: 0.7353\n",
            "Epoch 3/30\n",
            "1/1 [==============================] - 0s 30ms/step - loss: 0.5858 - accuracy: 0.8258 - val_loss: 0.5846 - val_accuracy: 0.7353\n",
            "Epoch 4/30\n",
            "1/1 [==============================] - 0s 29ms/step - loss: 0.5521 - accuracy: 0.8258 - val_loss: 0.5665 - val_accuracy: 0.7647\n",
            "Epoch 5/30\n",
            "1/1 [==============================] - 0s 32ms/step - loss: 0.5177 - accuracy: 0.7576 - val_loss: 0.5507 - val_accuracy: 0.7647\n",
            "Epoch 6/30\n",
            "1/1 [==============================] - 0s 30ms/step - loss: 0.4901 - accuracy: 0.7727 - val_loss: 0.5215 - val_accuracy: 0.7941\n",
            "Epoch 7/30\n",
            "1/1 [==============================] - 0s 30ms/step - loss: 0.4588 - accuracy: 0.8182 - val_loss: 0.5043 - val_accuracy: 0.7353\n",
            "Epoch 8/30\n",
            "1/1 [==============================] - 0s 29ms/step - loss: 0.4361 - accuracy: 0.8561 - val_loss: 0.4953 - val_accuracy: 0.7353\n",
            "Epoch 9/30\n",
            "1/1 [==============================] - 0s 29ms/step - loss: 0.4090 - accuracy: 0.8333 - val_loss: 0.4957 - val_accuracy: 0.7647\n",
            "Epoch 10/30\n",
            "1/1 [==============================] - 0s 30ms/step - loss: 0.3900 - accuracy: 0.8258 - val_loss: 0.4814 - val_accuracy: 0.7353\n",
            "Epoch 11/30\n",
            "1/1 [==============================] - 0s 30ms/step - loss: 0.3685 - accuracy: 0.8485 - val_loss: 0.4744 - val_accuracy: 0.7353\n",
            "Epoch 12/30\n",
            "1/1 [==============================] - 0s 29ms/step - loss: 0.3536 - accuracy: 0.8636 - val_loss: 0.4774 - val_accuracy: 0.7353\n",
            "Epoch 13/30\n",
            "1/1 [==============================] - 0s 30ms/step - loss: 0.3353 - accuracy: 0.8485 - val_loss: 0.4820 - val_accuracy: 0.7647\n",
            "Epoch 14/30\n",
            "1/1 [==============================] - 0s 29ms/step - loss: 0.3219 - accuracy: 0.8636 - val_loss: 0.4694 - val_accuracy: 0.7353\n",
            "Epoch 15/30\n",
            "1/1 [==============================] - 0s 29ms/step - loss: 0.3061 - accuracy: 0.8636 - val_loss: 0.4647 - val_accuracy: 0.7647\n",
            "Epoch 16/30\n",
            "1/1 [==============================] - 0s 29ms/step - loss: 0.2923 - accuracy: 0.8712 - val_loss: 0.4687 - val_accuracy: 0.7941\n",
            "Epoch 17/30\n",
            "1/1 [==============================] - 0s 228ms/step - loss: 0.2779 - accuracy: 0.8788 - val_loss: 0.4630 - val_accuracy: 0.7941\n",
            "Epoch 18/30\n",
            "1/1 [==============================] - 0s 35ms/step - loss: 0.2633 - accuracy: 0.8939 - val_loss: 0.4549 - val_accuracy: 0.8235\n",
            "Epoch 19/30\n",
            "1/1 [==============================] - 0s 33ms/step - loss: 0.2508 - accuracy: 0.9015 - val_loss: 0.4557 - val_accuracy: 0.7941\n",
            "Epoch 20/30\n",
            "1/1 [==============================] - 0s 30ms/step - loss: 0.2362 - accuracy: 0.9091 - val_loss: 0.4548 - val_accuracy: 0.7941\n",
            "Epoch 21/30\n",
            "1/1 [==============================] - 0s 31ms/step - loss: 0.2231 - accuracy: 0.9167 - val_loss: 0.4467 - val_accuracy: 0.8235\n",
            "Epoch 22/30\n",
            "1/1 [==============================] - 0s 30ms/step - loss: 0.2096 - accuracy: 0.9242 - val_loss: 0.4473 - val_accuracy: 0.8235\n",
            "Epoch 23/30\n",
            "1/1 [==============================] - 0s 36ms/step - loss: 0.1954 - accuracy: 0.9394 - val_loss: 0.4495 - val_accuracy: 0.7941\n",
            "Epoch 24/30\n",
            "1/1 [==============================] - 0s 32ms/step - loss: 0.1826 - accuracy: 0.9394 - val_loss: 0.4440 - val_accuracy: 0.8235\n",
            "Epoch 25/30\n",
            "1/1 [==============================] - 0s 33ms/step - loss: 0.1698 - accuracy: 0.9545 - val_loss: 0.4465 - val_accuracy: 0.8235\n",
            "Epoch 26/30\n",
            "1/1 [==============================] - 0s 33ms/step - loss: 0.1567 - accuracy: 0.9621 - val_loss: 0.4502 - val_accuracy: 0.8235\n",
            "Epoch 27/30\n",
            "1/1 [==============================] - 0s 35ms/step - loss: 0.1451 - accuracy: 0.9697 - val_loss: 0.4477 - val_accuracy: 0.7941\n",
            "Epoch 28/30\n",
            "1/1 [==============================] - 0s 34ms/step - loss: 0.1340 - accuracy: 0.9697 - val_loss: 0.4556 - val_accuracy: 0.8235\n",
            "Epoch 29/30\n",
            "1/1 [==============================] - 0s 34ms/step - loss: 0.1226 - accuracy: 0.9773 - val_loss: 0.4580 - val_accuracy: 0.8235\n",
            "Epoch 30/30\n",
            "1/1 [==============================] - 0s 30ms/step - loss: 0.1122 - accuracy: 0.9848 - val_loss: 0.4607 - val_accuracy: 0.8235\n"
          ],
          "name": "stdout"
        }
      ]
    },
    {
      "cell_type": "code",
      "metadata": {
        "colab": {
          "base_uri": "https://localhost:8080/",
          "height": 313
        },
        "id": "vcR1LAxJvdeC",
        "outputId": "9ab55c1c-2fd3-4a73-adf9-be2d1ec700da"
      },
      "source": [
        "plt.plot(history.history['accuracy'])\n",
        "plt.plot(history.history['val_accuracy'])\n",
        "plt.title('Accuracy')\n",
        "plt.ylabel('accuracy')\n",
        "plt.xlabel('epoch')\n",
        "plt.legend(['train', 'validation'], loc='lower right')"
      ],
      "execution_count": null,
      "outputs": [
        {
          "output_type": "execute_result",
          "data": {
            "text/plain": [
              "<matplotlib.legend.Legend at 0x7f369a1efd90>"
            ]
          },
          "metadata": {
            "tags": []
          },
          "execution_count": 73
        },
        {
          "output_type": "display_data",
          "data": {
            "image/png": "[encoded data removed]",
            "text/plain": [
              "<Figure size 432x288 with 1 Axes>"
            ]
          },
          "metadata": {
            "tags": [],
            "needs_background": "light"
          }
        }
      ]
    },
    {
      "cell_type": "code",
      "metadata": {
        "colab": {
          "base_uri": "https://localhost:8080/",
          "height": 313
        },
        "id": "9zIohFm4vdjR",
        "outputId": "0cc1c4b9-6639-45a3-e857-518f228751b0"
      },
      "source": [
        "plt.plot(history.history['loss'])\n",
        "plt.plot(history.history['val_loss'])\n",
        "plt.title('Loss')\n",
        "plt.ylabel('loss')\n",
        "plt.xlabel('epoch')\n",
        "plt.legend(['train', 'validation'], loc = 'upper right')"
      ],
      "execution_count": null,
      "outputs": [
        {
          "output_type": "execute_result",
          "data": {
            "text/plain": [
              "<matplotlib.legend.Legend at 0x7f369e3a9e10>"
            ]
          },
          "metadata": {
            "tags": []
          },
          "execution_count": 74
        },
        {
          "output_type": "display_data",
          "data": {
            "image/png": "[encoded data removed]",
            "text/plain": [
              "<Figure size 432x288 with 1 Axes>"
            ]
          },
          "metadata": {
            "tags": [],
            "needs_background": "light"
          }
        }
      ]
    },
    {
      "cell_type": "code",
      "metadata": {
        "colab": {
          "base_uri": "https://localhost:8080/"
        },
        "id": "QoLK9sEevd0W",
        "outputId": "446c8453-96b4-4134-ba9f-8b01f6969766"
      },
      "source": [
        "Y_pred = model.predict(X_test)\n",
        "y_pred = np.argmax(Y_pred, axis = 1)\n",
        "[test_loss, test_acc] = model.evaluate(X_test, Y_test)\n",
        "print(\"Test Loss\", test_loss)\n",
        "print(\"Test Accuracy\", test_acc)"
      ],
      "execution_count": null,
      "outputs": [
        {
          "output_type": "stream",
          "text": [
            "WARNING:tensorflow:6 out of the last 11 calls to <function Model.make_predict_function.<locals>.predict_function at 0x7f36f0156440> triggered tf.function retracing. Tracing is expensive and the excessive number of tracings could be due to (1) creating @tf.function repeatedly in a loop, (2) passing tensors with different shapes, (3) passing Python objects instead of tensors. For (1), please define your @tf.function outside of the loop. For (2), @tf.function has experimental_relax_shapes=True option that relaxes argument shapes that can avoid unnecessary retracing. For (3), please refer to https://www.tensorflow.org/guide/function#controlling_retracing and https://www.tensorflow.org/api_docs/python/tf/function for  more details.\n",
            "2/2 [==============================] - 0s 4ms/step - loss: 0.4132 - accuracy: 0.7857\n",
            "Test Loss 0.4132138788700104\n",
            "Test Accuracy 0.7857142686843872\n"
          ],
          "name": "stdout"
        }
      ]
    },
    {
      "cell_type": "code",
      "metadata": {
        "colab": {
          "base_uri": "https://localhost:8080/"
        },
        "id": "m_fgEzz4v2e8",
        "outputId": "513ac15e-85a0-4745-da84-eeeded18431a"
      },
      "source": [
        "class_names = [0, 1]\n",
        "confusion_mtx = confusion_matrix(y_test, y_pred)\n",
        "print(\"confusion matrix=\\n\", confusion_mtx)"
      ],
      "execution_count": null,
      "outputs": [
        {
          "output_type": "stream",
          "text": [
            "confusion matrix=\n",
            " [[21  6]\n",
            " [ 3 12]]\n"
          ],
          "name": "stdout"
        }
      ]
    },
    {
      "cell_type": "code",
      "metadata": {
        "colab": {
          "base_uri": "https://localhost:8080/"
        },
        "id": "2gZEZNYWlDeS",
        "outputId": "312f4cfa-d87d-486f-f0e4-e133ad0f1ca4"
      },
      "source": [
        "#tanh \n",
        "model = Sequential()\n",
        "model.add(Dense(512, activation = 'tanh', input_shape = (60,)))\n",
        "model.add(Dense(512, activation = 'tanh'))\n",
        "model.add(Dense(2, activation = 'softmax'))\n",
        "model.summary()\n",
        "model.compile(loss = 'categorical_crossentropy', optimizer = 'adam', metrics = ['accuracy'])\n",
        "history = model.fit(X_train, Y_train, epochs = 25, batch_size = 208, validation_split = 0.2)"
      ],
      "execution_count": null,
      "outputs": [
        {
          "output_type": "stream",
          "text": [
            "Model: \"sequential_5\"\n",
            "_________________________________________________________________\n",
            "Layer (type)                 Output Shape              Param #   \n",
            "=================================================================\n",
            "dense_15 (Dense)             (None, 512)               31232     \n",
            "_________________________________________________________________\n",
            "dense_16 (Dense)             (None, 512)               262656    \n",
            "_________________________________________________________________\n",
            "dense_17 (Dense)             (None, 2)                 1026      \n",
            "=================================================================\n",
            "Total params: 294,914\n",
            "Trainable params: 294,914\n",
            "Non-trainable params: 0\n",
            "_________________________________________________________________\n",
            "Epoch 1/25\n",
            "1/1 [==============================] - 1s 531ms/step - loss: 0.7075 - accuracy: 0.4545 - val_loss: 1.2932 - val_accuracy: 0.4706\n",
            "Epoch 2/25\n",
            "1/1 [==============================] - 0s 35ms/step - loss: 1.2160 - accuracy: 0.5152 - val_loss: 0.6437 - val_accuracy: 0.5882\n",
            "Epoch 3/25\n",
            "1/1 [==============================] - 0s 36ms/step - loss: 0.6143 - accuracy: 0.6212 - val_loss: 0.7884 - val_accuracy: 0.5294\n",
            "Epoch 4/25\n",
            "1/1 [==============================] - 0s 35ms/step - loss: 0.8107 - accuracy: 0.4848 - val_loss: 0.7947 - val_accuracy: 0.5294\n",
            "Epoch 5/25\n",
            "1/1 [==============================] - 0s 34ms/step - loss: 0.8118 - accuracy: 0.4848 - val_loss: 0.5923 - val_accuracy: 0.6765\n",
            "Epoch 6/25\n",
            "1/1 [==============================] - 0s 43ms/step - loss: 0.5799 - accuracy: 0.6894 - val_loss: 0.5533 - val_accuracy: 0.7059\n",
            "Epoch 7/25\n",
            "1/1 [==============================] - 0s 31ms/step - loss: 0.5051 - accuracy: 0.7273 - val_loss: 0.6744 - val_accuracy: 0.5882\n",
            "Epoch 8/25\n",
            "1/1 [==============================] - 0s 30ms/step - loss: 0.5963 - accuracy: 0.6439 - val_loss: 0.7155 - val_accuracy: 0.5882\n",
            "Epoch 9/25\n",
            "1/1 [==============================] - 0s 30ms/step - loss: 0.6228 - accuracy: 0.6439 - val_loss: 0.6388 - val_accuracy: 0.6176\n",
            "Epoch 10/25\n",
            "1/1 [==============================] - 0s 30ms/step - loss: 0.5463 - accuracy: 0.6439 - val_loss: 0.5411 - val_accuracy: 0.7353\n",
            "Epoch 11/25\n",
            "1/1 [==============================] - 0s 32ms/step - loss: 0.4605 - accuracy: 0.7576 - val_loss: 0.5135 - val_accuracy: 0.7059\n",
            "Epoch 12/25\n",
            "1/1 [==============================] - 0s 32ms/step - loss: 0.4506 - accuracy: 0.8258 - val_loss: 0.5466 - val_accuracy: 0.7059\n",
            "Epoch 13/25\n",
            "1/1 [==============================] - 0s 35ms/step - loss: 0.4963 - accuracy: 0.7500 - val_loss: 0.5611 - val_accuracy: 0.7353\n",
            "Epoch 14/25\n",
            "1/1 [==============================] - 0s 34ms/step - loss: 0.5114 - accuracy: 0.7424 - val_loss: 0.5332 - val_accuracy: 0.7059\n",
            "Epoch 15/25\n",
            "1/1 [==============================] - 0s 33ms/step - loss: 0.4716 - accuracy: 0.7727 - val_loss: 0.5049 - val_accuracy: 0.7941\n",
            "Epoch 16/25\n",
            "1/1 [==============================] - 0s 35ms/step - loss: 0.4221 - accuracy: 0.8409 - val_loss: 0.5167 - val_accuracy: 0.7647\n",
            "Epoch 17/25\n",
            "1/1 [==============================] - 0s 31ms/step - loss: 0.4103 - accuracy: 0.7955 - val_loss: 0.5577 - val_accuracy: 0.7059\n",
            "Epoch 18/25\n",
            "1/1 [==============================] - 0s 29ms/step - loss: 0.4327 - accuracy: 0.7652 - val_loss: 0.5821 - val_accuracy: 0.7059\n",
            "Epoch 19/25\n",
            "1/1 [==============================] - 0s 31ms/step - loss: 0.4471 - accuracy: 0.7652 - val_loss: 0.5666 - val_accuracy: 0.7059\n",
            "Epoch 20/25\n",
            "1/1 [==============================] - 0s 30ms/step - loss: 0.4303 - accuracy: 0.7652 - val_loss: 0.5291 - val_accuracy: 0.7353\n",
            "Epoch 21/25\n",
            "1/1 [==============================] - 0s 32ms/step - loss: 0.3987 - accuracy: 0.7500 - val_loss: 0.5037 - val_accuracy: 0.7941\n",
            "Epoch 22/25\n",
            "1/1 [==============================] - 0s 39ms/step - loss: 0.3833 - accuracy: 0.8409 - val_loss: 0.5043 - val_accuracy: 0.7647\n",
            "Epoch 23/25\n",
            "1/1 [==============================] - 0s 33ms/step - loss: 0.3929 - accuracy: 0.8561 - val_loss: 0.5131 - val_accuracy: 0.7647\n",
            "Epoch 24/25\n",
            "1/1 [==============================] - 0s 32ms/step - loss: 0.4046 - accuracy: 0.8258 - val_loss: 0.5107 - val_accuracy: 0.7647\n",
            "Epoch 25/25\n",
            "1/1 [==============================] - 0s 33ms/step - loss: 0.3966 - accuracy: 0.8409 - val_loss: 0.5022 - val_accuracy: 0.7941\n"
          ],
          "name": "stdout"
        }
      ]
    },
    {
      "cell_type": "code",
      "metadata": {
        "colab": {
          "base_uri": "https://localhost:8080/",
          "height": 313
        },
        "id": "cGodM4VOlDhN",
        "outputId": "3151cb76-57b0-4ddc-ef4c-58f04ba673a0"
      },
      "source": [
        "plt.plot(history.history['accuracy'])\n",
        "plt.plot(history.history['val_accuracy'])\n",
        "plt.title('Accuracy')\n",
        "plt.ylabel('accuracy')\n",
        "plt.xlabel('epoch')\n",
        "plt.legend(['train', 'validation'], loc='lower right')\n",
        "\n"
      ],
      "execution_count": null,
      "outputs": [
        {
          "output_type": "execute_result",
          "data": {
            "text/plain": [
              "<matplotlib.legend.Legend at 0x7f367ee1c1d0>"
            ]
          },
          "metadata": {
            "tags": []
          },
          "execution_count": 45
        },
        {
          "output_type": "display_data",
          "data": {
            "image/png": "[encoded data removed]",
            "text/plain": [
              "<Figure size 432x288 with 1 Axes>"
            ]
          },
          "metadata": {
            "tags": [],
            "needs_background": "light"
          }
        }
      ]
    },
    {
      "cell_type": "code",
      "metadata": {
        "colab": {
          "base_uri": "https://localhost:8080/",
          "height": 313
        },
        "id": "e2_SH3qklDlC",
        "outputId": "73258524-74c1-4046-fdaf-38bdb31cd88e"
      },
      "source": [
        "plt.plot(history.history['loss'])\n",
        "plt.plot(history.history['val_loss'])\n",
        "plt.title('Loss')\n",
        "plt.ylabel('loss')\n",
        "plt.xlabel('epoch')\n",
        "plt.legend(['train', 'validation'], loc = 'upper right')"
      ],
      "execution_count": null,
      "outputs": [
        {
          "output_type": "execute_result",
          "data": {
            "text/plain": [
              "<matplotlib.legend.Legend at 0x7f367e591510>"
            ]
          },
          "metadata": {
            "tags": []
          },
          "execution_count": 46
        },
        {
          "output_type": "display_data",
          "data": {
            "image/png": "[encoded data removed]",
            "text/plain": [
              "<Figure size 432x288 with 1 Axes>"
            ]
          },
          "metadata": {
            "tags": [],
            "needs_background": "light"
          }
        }
      ]
    },
    {
      "cell_type": "code",
      "metadata": {
        "colab": {
          "base_uri": "https://localhost:8080/"
        },
        "id": "w5CtRv43lDoT",
        "outputId": "2439fb18-413f-4f33-a1bd-b178d7563535"
      },
      "source": [
        "Y_pred = model.predict(X_test)\n",
        "y_pred = np.argmax(Y_pred, axis = 1)\n",
        "[test_loss, test_acc] = model.evaluate(X_test, Y_test)\n",
        "print(\"Test Loss\", test_loss)\n",
        "print(\"Test Accuracy\", test_acc)"
      ],
      "execution_count": null,
      "outputs": [
        {
          "output_type": "stream",
          "text": [
            "WARNING:tensorflow:6 out of the last 11 calls to <function Model.make_predict_function.<locals>.predict_function at 0x7f367e56acb0> triggered tf.function retracing. Tracing is expensive and the excessive number of tracings could be due to (1) creating @tf.function repeatedly in a loop, (2) passing tensors with different shapes, (3) passing Python objects instead of tensors. For (1), please define your @tf.function outside of the loop. For (2), @tf.function has experimental_relax_shapes=True option that relaxes argument shapes that can avoid unnecessary retracing. For (3), please refer to https://www.tensorflow.org/guide/function#controlling_retracing and https://www.tensorflow.org/api_docs/python/tf/function for  more details.\n",
            "2/2 [==============================] - 0s 6ms/step - loss: 0.5102 - accuracy: 0.6905\n",
            "Test Loss 0.5101635456085205\n",
            "Test Accuracy 0.6904761791229248\n"
          ],
          "name": "stdout"
        }
      ]
    },
    {
      "cell_type": "code",
      "metadata": {
        "colab": {
          "base_uri": "https://localhost:8080/"
        },
        "id": "EHswCp8yj45K",
        "outputId": "4361c5c1-40dd-49d3-9463-be1469bfe440"
      },
      "source": [
        "class_names = [0, 1]\n",
        "confusion_mtx = confusion_matrix(y_test, y_pred)\n",
        "print(\"confusion matrix=\\n\", confusion_mtx)"
      ],
      "execution_count": null,
      "outputs": [
        {
          "output_type": "stream",
          "text": [
            "confusion matrix=\n",
            " [[17 10]\n",
            " [ 3 12]]\n"
          ],
          "name": "stdout"
        }
      ]
    },
    {
      "cell_type": "code",
      "metadata": {
        "colab": {
          "base_uri": "https://localhost:8080/"
        },
        "id": "Gq9v7_vhlYrh",
        "outputId": "46ef14f7-56d2-4677-8402-9b0d100eff54"
      },
      "source": [
        "#sigmoid\n",
        "model = Sequential()\n",
        "model.add(Dense(512, activation = 'sigmoid', input_shape = (60,)))\n",
        "model.add(Dense(512, activation = 'sigmoid'))\n",
        "model.add(Dense(2, activation = 'softmax'))\n",
        "model.summary()\n",
        "model.compile(loss = 'categorical_crossentropy', optimizer = 'adam', metrics = ['accuracy'])\n",
        "history = model.fit(X_train, Y_train, epochs = 120, batch_size = 208, validation_split = 0.2)"
      ],
      "execution_count": null,
      "outputs": [
        {
          "output_type": "stream",
          "text": [
            "Model: \"sequential_6\"\n",
            "_________________________________________________________________\n",
            "Layer (type)                 Output Shape              Param #   \n",
            "=================================================================\n",
            "dense_18 (Dense)             (None, 512)               31232     \n",
            "_________________________________________________________________\n",
            "dense_19 (Dense)             (None, 512)               262656    \n",
            "_________________________________________________________________\n",
            "dense_20 (Dense)             (None, 2)                 1026      \n",
            "=================================================================\n",
            "Total params: 294,914\n",
            "Trainable params: 294,914\n",
            "Non-trainable params: 0\n",
            "_________________________________________________________________\n",
            "Epoch 1/120\n",
            "1/1 [==============================] - 1s 762ms/step - loss: 0.8488 - accuracy: 0.5152 - val_loss: 0.9125 - val_accuracy: 0.5294\n",
            "Epoch 2/120\n",
            "1/1 [==============================] - 0s 33ms/step - loss: 0.9795 - accuracy: 0.4848 - val_loss: 0.7892 - val_accuracy: 0.5294\n",
            "Epoch 3/120\n",
            "1/1 [==============================] - 0s 31ms/step - loss: 0.8347 - accuracy: 0.4848 - val_loss: 0.6987 - val_accuracy: 0.4706\n",
            "Epoch 4/120\n",
            "1/1 [==============================] - 0s 39ms/step - loss: 0.6912 - accuracy: 0.5152 - val_loss: 0.8553 - val_accuracy: 0.4706\n",
            "Epoch 5/120\n",
            "1/1 [==============================] - 0s 33ms/step - loss: 0.8087 - accuracy: 0.5152 - val_loss: 0.8722 - val_accuracy: 0.4706\n",
            "Epoch 6/120\n",
            "1/1 [==============================] - 0s 31ms/step - loss: 0.8228 - accuracy: 0.5152 - val_loss: 0.7519 - val_accuracy: 0.4706\n",
            "Epoch 7/120\n",
            "1/1 [==============================] - 0s 31ms/step - loss: 0.7250 - accuracy: 0.5152 - val_loss: 0.6854 - val_accuracy: 0.5294\n",
            "Epoch 8/120\n",
            "1/1 [==============================] - 0s 31ms/step - loss: 0.6903 - accuracy: 0.4848 - val_loss: 0.7198 - val_accuracy: 0.5294\n",
            "Epoch 9/120\n",
            "1/1 [==============================] - 0s 33ms/step - loss: 0.7481 - accuracy: 0.4848 - val_loss: 0.7354 - val_accuracy: 0.5294\n",
            "Epoch 10/120\n",
            "1/1 [==============================] - 0s 33ms/step - loss: 0.7687 - accuracy: 0.4848 - val_loss: 0.7008 - val_accuracy: 0.5294\n",
            "Epoch 11/120\n",
            "1/1 [==============================] - 0s 35ms/step - loss: 0.7222 - accuracy: 0.4848 - val_loss: 0.6832 - val_accuracy: 0.6765\n",
            "Epoch 12/120\n",
            "1/1 [==============================] - 0s 33ms/step - loss: 0.6835 - accuracy: 0.7273 - val_loss: 0.7212 - val_accuracy: 0.4706\n",
            "Epoch 13/120\n",
            "1/1 [==============================] - 0s 33ms/step - loss: 0.7013 - accuracy: 0.5152 - val_loss: 0.7607 - val_accuracy: 0.4706\n",
            "Epoch 14/120\n",
            "1/1 [==============================] - 0s 35ms/step - loss: 0.7304 - accuracy: 0.5152 - val_loss: 0.7493 - val_accuracy: 0.4706\n",
            "Epoch 15/120\n",
            "1/1 [==============================] - 0s 33ms/step - loss: 0.7214 - accuracy: 0.5152 - val_loss: 0.7050 - val_accuracy: 0.4706\n",
            "Epoch 16/120\n",
            "1/1 [==============================] - 0s 39ms/step - loss: 0.6896 - accuracy: 0.5152 - val_loss: 0.6779 - val_accuracy: 0.6765\n",
            "Epoch 17/120\n",
            "1/1 [==============================] - 0s 32ms/step - loss: 0.6788 - accuracy: 0.6970 - val_loss: 0.6822 - val_accuracy: 0.5294\n",
            "Epoch 18/120\n",
            "1/1 [==============================] - 0s 33ms/step - loss: 0.6962 - accuracy: 0.4848 - val_loss: 0.6885 - val_accuracy: 0.5294\n",
            "Epoch 19/120\n",
            "1/1 [==============================] - 0s 34ms/step - loss: 0.7070 - accuracy: 0.4848 - val_loss: 0.6798 - val_accuracy: 0.5294\n",
            "Epoch 20/120\n",
            "1/1 [==============================] - 0s 35ms/step - loss: 0.6935 - accuracy: 0.4848 - val_loss: 0.6728 - val_accuracy: 0.6471\n",
            "Epoch 21/120\n",
            "1/1 [==============================] - 0s 33ms/step - loss: 0.6753 - accuracy: 0.6212 - val_loss: 0.6855 - val_accuracy: 0.4706\n",
            "Epoch 22/120\n",
            "1/1 [==============================] - 0s 33ms/step - loss: 0.6755 - accuracy: 0.5152 - val_loss: 0.7052 - val_accuracy: 0.4706\n",
            "Epoch 23/120\n",
            "1/1 [==============================] - 0s 35ms/step - loss: 0.6870 - accuracy: 0.5152 - val_loss: 0.7072 - val_accuracy: 0.4706\n",
            "Epoch 24/120\n",
            "1/1 [==============================] - 0s 34ms/step - loss: 0.6879 - accuracy: 0.5152 - val_loss: 0.6890 - val_accuracy: 0.4706\n",
            "Epoch 25/120\n",
            "1/1 [==============================] - 0s 34ms/step - loss: 0.6756 - accuracy: 0.5152 - val_loss: 0.6705 - val_accuracy: 0.7353\n",
            "Epoch 26/120\n",
            "1/1 [==============================] - 0s 36ms/step - loss: 0.6668 - accuracy: 0.6667 - val_loss: 0.6653 - val_accuracy: 0.6176\n",
            "Epoch 27/120\n",
            "1/1 [==============================] - 0s 34ms/step - loss: 0.6706 - accuracy: 0.5530 - val_loss: 0.6663 - val_accuracy: 0.5294\n",
            "Epoch 28/120\n",
            "1/1 [==============================] - 0s 34ms/step - loss: 0.6759 - accuracy: 0.5076 - val_loss: 0.6637 - val_accuracy: 0.5294\n",
            "Epoch 29/120\n",
            "1/1 [==============================] - 0s 33ms/step - loss: 0.6716 - accuracy: 0.5152 - val_loss: 0.6611 - val_accuracy: 0.7059\n",
            "Epoch 30/120\n",
            "1/1 [==============================] - 0s 37ms/step - loss: 0.6625 - accuracy: 0.7273 - val_loss: 0.6666 - val_accuracy: 0.6765\n",
            "Epoch 31/120\n",
            "1/1 [==============================] - 0s 32ms/step - loss: 0.6600 - accuracy: 0.6515 - val_loss: 0.6759 - val_accuracy: 0.4706\n",
            "Epoch 32/120\n",
            "1/1 [==============================] - 0s 31ms/step - loss: 0.6635 - accuracy: 0.5152 - val_loss: 0.6770 - val_accuracy: 0.4706\n",
            "Epoch 33/120\n",
            "1/1 [==============================] - 0s 32ms/step - loss: 0.6635 - accuracy: 0.5152 - val_loss: 0.6673 - val_accuracy: 0.5294\n",
            "Epoch 34/120\n",
            "1/1 [==============================] - 0s 34ms/step - loss: 0.6573 - accuracy: 0.5530 - val_loss: 0.6561 - val_accuracy: 0.8235\n",
            "Epoch 35/120\n",
            "1/1 [==============================] - 0s 37ms/step - loss: 0.6522 - accuracy: 0.7500 - val_loss: 0.6509 - val_accuracy: 0.7059\n",
            "Epoch 36/120\n",
            "1/1 [==============================] - 0s 40ms/step - loss: 0.6526 - accuracy: 0.7197 - val_loss: 0.6491 - val_accuracy: 0.6765\n",
            "Epoch 37/120\n",
            "1/1 [==============================] - 0s 49ms/step - loss: 0.6533 - accuracy: 0.6591 - val_loss: 0.6469 - val_accuracy: 0.6765\n",
            "Epoch 38/120\n",
            "1/1 [==============================] - 0s 39ms/step - loss: 0.6495 - accuracy: 0.7121 - val_loss: 0.6463 - val_accuracy: 0.7353\n",
            "Epoch 39/120\n",
            "1/1 [==============================] - 0s 34ms/step - loss: 0.6443 - accuracy: 0.7727 - val_loss: 0.6497 - val_accuracy: 0.7353\n",
            "Epoch 40/120\n",
            "1/1 [==============================] - 0s 31ms/step - loss: 0.6425 - accuracy: 0.6667 - val_loss: 0.6527 - val_accuracy: 0.6765\n",
            "Epoch 41/120\n",
            "1/1 [==============================] - 0s 31ms/step - loss: 0.6425 - accuracy: 0.6515 - val_loss: 0.6499 - val_accuracy: 0.7059\n",
            "Epoch 42/120\n",
            "1/1 [==============================] - 0s 30ms/step - loss: 0.6398 - accuracy: 0.6515 - val_loss: 0.6422 - val_accuracy: 0.7353\n",
            "Epoch 43/120\n",
            "1/1 [==============================] - 0s 31ms/step - loss: 0.6351 - accuracy: 0.6818 - val_loss: 0.6352 - val_accuracy: 0.7353\n",
            "Epoch 44/120\n",
            "1/1 [==============================] - 0s 32ms/step - loss: 0.6321 - accuracy: 0.7727 - val_loss: 0.6313 - val_accuracy: 0.7059\n",
            "Epoch 45/120\n",
            "1/1 [==============================] - 0s 31ms/step - loss: 0.6310 - accuracy: 0.7652 - val_loss: 0.6286 - val_accuracy: 0.7059\n",
            "Epoch 46/120\n",
            "1/1 [==============================] - 0s 32ms/step - loss: 0.6284 - accuracy: 0.7576 - val_loss: 0.6267 - val_accuracy: 0.7353\n",
            "Epoch 47/120\n",
            "1/1 [==============================] - 0s 35ms/step - loss: 0.6241 - accuracy: 0.7576 - val_loss: 0.6267 - val_accuracy: 0.7941\n",
            "Epoch 48/120\n",
            "1/1 [==============================] - 0s 40ms/step - loss: 0.6206 - accuracy: 0.8030 - val_loss: 0.6274 - val_accuracy: 0.7353\n",
            "Epoch 49/120\n",
            "1/1 [==============================] - 0s 34ms/step - loss: 0.6185 - accuracy: 0.7197 - val_loss: 0.6252 - val_accuracy: 0.7059\n",
            "Epoch 50/120\n",
            "1/1 [==============================] - 0s 34ms/step - loss: 0.6157 - accuracy: 0.6970 - val_loss: 0.6195 - val_accuracy: 0.8235\n",
            "Epoch 51/120\n",
            "1/1 [==============================] - 0s 33ms/step - loss: 0.6114 - accuracy: 0.7500 - val_loss: 0.6132 - val_accuracy: 0.7647\n",
            "Epoch 52/120\n",
            "1/1 [==============================] - 0s 32ms/step - loss: 0.6075 - accuracy: 0.8030 - val_loss: 0.6086 - val_accuracy: 0.7059\n",
            "Epoch 53/120\n",
            "1/1 [==============================] - 0s 32ms/step - loss: 0.6047 - accuracy: 0.7576 - val_loss: 0.6052 - val_accuracy: 0.7059\n",
            "Epoch 54/120\n",
            "1/1 [==============================] - 0s 31ms/step - loss: 0.6012 - accuracy: 0.7576 - val_loss: 0.6025 - val_accuracy: 0.7353\n",
            "Epoch 55/120\n",
            "1/1 [==============================] - 0s 33ms/step - loss: 0.5968 - accuracy: 0.7727 - val_loss: 0.6009 - val_accuracy: 0.7647\n",
            "Epoch 56/120\n",
            "1/1 [==============================] - 0s 38ms/step - loss: 0.5928 - accuracy: 0.8106 - val_loss: 0.5994 - val_accuracy: 0.7941\n",
            "Epoch 57/120\n",
            "1/1 [==============================] - 0s 33ms/step - loss: 0.5893 - accuracy: 0.8030 - val_loss: 0.5960 - val_accuracy: 0.7941\n",
            "Epoch 58/120\n",
            "1/1 [==============================] - 0s 34ms/step - loss: 0.5854 - accuracy: 0.8030 - val_loss: 0.5906 - val_accuracy: 0.7647\n",
            "Epoch 59/120\n",
            "1/1 [==============================] - 0s 35ms/step - loss: 0.5807 - accuracy: 0.8030 - val_loss: 0.5851 - val_accuracy: 0.7647\n",
            "Epoch 60/120\n",
            "1/1 [==============================] - 0s 37ms/step - loss: 0.5764 - accuracy: 0.8106 - val_loss: 0.5806 - val_accuracy: 0.7353\n",
            "Epoch 61/120\n",
            "1/1 [==============================] - 0s 32ms/step - loss: 0.5724 - accuracy: 0.7879 - val_loss: 0.5768 - val_accuracy: 0.7353\n",
            "Epoch 62/120\n",
            "1/1 [==============================] - 0s 34ms/step - loss: 0.5679 - accuracy: 0.7955 - val_loss: 0.5738 - val_accuracy: 0.7647\n",
            "Epoch 63/120\n",
            "1/1 [==============================] - 0s 40ms/step - loss: 0.5631 - accuracy: 0.8106 - val_loss: 0.5713 - val_accuracy: 0.7647\n",
            "Epoch 64/120\n",
            "1/1 [==============================] - 0s 38ms/step - loss: 0.5586 - accuracy: 0.8182 - val_loss: 0.5682 - val_accuracy: 0.7647\n",
            "Epoch 65/120\n",
            "1/1 [==============================] - 0s 37ms/step - loss: 0.5542 - accuracy: 0.8182 - val_loss: 0.5638 - val_accuracy: 0.7647\n",
            "Epoch 66/120\n",
            "1/1 [==============================] - 0s 31ms/step - loss: 0.5493 - accuracy: 0.8182 - val_loss: 0.5588 - val_accuracy: 0.7647\n",
            "Epoch 67/120\n",
            "1/1 [==============================] - 0s 34ms/step - loss: 0.5444 - accuracy: 0.8106 - val_loss: 0.5540 - val_accuracy: 0.7647\n",
            "Epoch 68/120\n",
            "1/1 [==============================] - 0s 36ms/step - loss: 0.5396 - accuracy: 0.8106 - val_loss: 0.5500 - val_accuracy: 0.7941\n",
            "Epoch 69/120\n",
            "1/1 [==============================] - 0s 33ms/step - loss: 0.5348 - accuracy: 0.8030 - val_loss: 0.5465 - val_accuracy: 0.7647\n",
            "Epoch 70/120\n",
            "1/1 [==============================] - 0s 33ms/step - loss: 0.5298 - accuracy: 0.8106 - val_loss: 0.5435 - val_accuracy: 0.7647\n",
            "Epoch 71/120\n",
            "1/1 [==============================] - 0s 32ms/step - loss: 0.5247 - accuracy: 0.8106 - val_loss: 0.5404 - val_accuracy: 0.7647\n",
            "Epoch 72/120\n",
            "1/1 [==============================] - 0s 34ms/step - loss: 0.5199 - accuracy: 0.8106 - val_loss: 0.5367 - val_accuracy: 0.7647\n",
            "Epoch 73/120\n",
            "1/1 [==============================] - 0s 37ms/step - loss: 0.5149 - accuracy: 0.8106 - val_loss: 0.5324 - val_accuracy: 0.7647\n",
            "Epoch 74/120\n",
            "1/1 [==============================] - 0s 39ms/step - loss: 0.5097 - accuracy: 0.8106 - val_loss: 0.5283 - val_accuracy: 0.7941\n",
            "Epoch 75/120\n",
            "1/1 [==============================] - 0s 35ms/step - loss: 0.5047 - accuracy: 0.8030 - val_loss: 0.5247 - val_accuracy: 0.7941\n",
            "Epoch 76/120\n",
            "1/1 [==============================] - 0s 32ms/step - loss: 0.4997 - accuracy: 0.8106 - val_loss: 0.5216 - val_accuracy: 0.7941\n",
            "Epoch 77/120\n",
            "1/1 [==============================] - 0s 33ms/step - loss: 0.4947 - accuracy: 0.8030 - val_loss: 0.5188 - val_accuracy: 0.7941\n",
            "Epoch 78/120\n",
            "1/1 [==============================] - 0s 33ms/step - loss: 0.4896 - accuracy: 0.8030 - val_loss: 0.5162 - val_accuracy: 0.7941\n",
            "Epoch 79/120\n",
            "1/1 [==============================] - 0s 38ms/step - loss: 0.4847 - accuracy: 0.8106 - val_loss: 0.5132 - val_accuracy: 0.7941\n",
            "Epoch 80/120\n",
            "1/1 [==============================] - 0s 37ms/step - loss: 0.4797 - accuracy: 0.8106 - val_loss: 0.5099 - val_accuracy: 0.7941\n",
            "Epoch 81/120\n",
            "1/1 [==============================] - 0s 43ms/step - loss: 0.4747 - accuracy: 0.8106 - val_loss: 0.5069 - val_accuracy: 0.7941\n",
            "Epoch 82/120\n",
            "1/1 [==============================] - 0s 41ms/step - loss: 0.4698 - accuracy: 0.8182 - val_loss: 0.5042 - val_accuracy: 0.7941\n",
            "Epoch 83/120\n",
            "1/1 [==============================] - 0s 32ms/step - loss: 0.4650 - accuracy: 0.8258 - val_loss: 0.5019 - val_accuracy: 0.7941\n",
            "Epoch 84/120\n",
            "1/1 [==============================] - 0s 32ms/step - loss: 0.4601 - accuracy: 0.8258 - val_loss: 0.5000 - val_accuracy: 0.7941\n",
            "Epoch 85/120\n",
            "1/1 [==============================] - 0s 33ms/step - loss: 0.4554 - accuracy: 0.8182 - val_loss: 0.4981 - val_accuracy: 0.7941\n",
            "Epoch 86/120\n",
            "1/1 [==============================] - 0s 33ms/step - loss: 0.4507 - accuracy: 0.8182 - val_loss: 0.4960 - val_accuracy: 0.7941\n",
            "Epoch 87/120\n",
            "1/1 [==============================] - 0s 41ms/step - loss: 0.4460 - accuracy: 0.8333 - val_loss: 0.4940 - val_accuracy: 0.7941\n",
            "Epoch 88/120\n",
            "1/1 [==============================] - 0s 36ms/step - loss: 0.4414 - accuracy: 0.8409 - val_loss: 0.4921 - val_accuracy: 0.7941\n",
            "Epoch 89/120\n",
            "1/1 [==============================] - 0s 35ms/step - loss: 0.4369 - accuracy: 0.8333 - val_loss: 0.4905 - val_accuracy: 0.7941\n",
            "Epoch 90/120\n",
            "1/1 [==============================] - 0s 37ms/step - loss: 0.4325 - accuracy: 0.8409 - val_loss: 0.4893 - val_accuracy: 0.7941\n",
            "Epoch 91/120\n",
            "1/1 [==============================] - 0s 35ms/step - loss: 0.4281 - accuracy: 0.8409 - val_loss: 0.4883 - val_accuracy: 0.7941\n",
            "Epoch 92/120\n",
            "1/1 [==============================] - 0s 36ms/step - loss: 0.4238 - accuracy: 0.8409 - val_loss: 0.4873 - val_accuracy: 0.7941\n",
            "Epoch 93/120\n",
            "1/1 [==============================] - 0s 34ms/step - loss: 0.4196 - accuracy: 0.8409 - val_loss: 0.4863 - val_accuracy: 0.7941\n",
            "Epoch 94/120\n",
            "1/1 [==============================] - 0s 32ms/step - loss: 0.4155 - accuracy: 0.8409 - val_loss: 0.4853 - val_accuracy: 0.7941\n",
            "Epoch 95/120\n",
            "1/1 [==============================] - 0s 34ms/step - loss: 0.4114 - accuracy: 0.8409 - val_loss: 0.4845 - val_accuracy: 0.7647\n",
            "Epoch 96/120\n",
            "1/1 [==============================] - 0s 32ms/step - loss: 0.4075 - accuracy: 0.8485 - val_loss: 0.4840 - val_accuracy: 0.7647\n",
            "Epoch 97/120\n",
            "1/1 [==============================] - 0s 36ms/step - loss: 0.4036 - accuracy: 0.8485 - val_loss: 0.4837 - val_accuracy: 0.7647\n",
            "Epoch 98/120\n",
            "1/1 [==============================] - 0s 34ms/step - loss: 0.3998 - accuracy: 0.8485 - val_loss: 0.4835 - val_accuracy: 0.7647\n",
            "Epoch 99/120\n",
            "1/1 [==============================] - 0s 32ms/step - loss: 0.3961 - accuracy: 0.8485 - val_loss: 0.4833 - val_accuracy: 0.7647\n",
            "Epoch 100/120\n",
            "1/1 [==============================] - 0s 32ms/step - loss: 0.3925 - accuracy: 0.8485 - val_loss: 0.4831 - val_accuracy: 0.7647\n",
            "Epoch 101/120\n",
            "1/1 [==============================] - 0s 32ms/step - loss: 0.3889 - accuracy: 0.8485 - val_loss: 0.4829 - val_accuracy: 0.7647\n",
            "Epoch 102/120\n",
            "1/1 [==============================] - 0s 33ms/step - loss: 0.3855 - accuracy: 0.8485 - val_loss: 0.4830 - val_accuracy: 0.7647\n",
            "Epoch 103/120\n",
            "1/1 [==============================] - 0s 32ms/step - loss: 0.3821 - accuracy: 0.8485 - val_loss: 0.4832 - val_accuracy: 0.7647\n",
            "Epoch 104/120\n",
            "1/1 [==============================] - 0s 39ms/step - loss: 0.3789 - accuracy: 0.8485 - val_loss: 0.4834 - val_accuracy: 0.7647\n",
            "Epoch 105/120\n",
            "1/1 [==============================] - 0s 33ms/step - loss: 0.3757 - accuracy: 0.8561 - val_loss: 0.4837 - val_accuracy: 0.7647\n",
            "Epoch 106/120\n",
            "1/1 [==============================] - 0s 38ms/step - loss: 0.3726 - accuracy: 0.8561 - val_loss: 0.4839 - val_accuracy: 0.7647\n",
            "Epoch 107/120\n",
            "1/1 [==============================] - 0s 35ms/step - loss: 0.3695 - accuracy: 0.8561 - val_loss: 0.4841 - val_accuracy: 0.7647\n",
            "Epoch 108/120\n",
            "1/1 [==============================] - 0s 32ms/step - loss: 0.3666 - accuracy: 0.8636 - val_loss: 0.4844 - val_accuracy: 0.7647\n",
            "Epoch 109/120\n",
            "1/1 [==============================] - 0s 31ms/step - loss: 0.3637 - accuracy: 0.8636 - val_loss: 0.4848 - val_accuracy: 0.7647\n",
            "Epoch 110/120\n",
            "1/1 [==============================] - 0s 32ms/step - loss: 0.3609 - accuracy: 0.8636 - val_loss: 0.4853 - val_accuracy: 0.7647\n",
            "Epoch 111/120\n",
            "1/1 [==============================] - 0s 35ms/step - loss: 0.3581 - accuracy: 0.8636 - val_loss: 0.4857 - val_accuracy: 0.7647\n",
            "Epoch 112/120\n",
            "1/1 [==============================] - 0s 43ms/step - loss: 0.3554 - accuracy: 0.8636 - val_loss: 0.4860 - val_accuracy: 0.7941\n",
            "Epoch 113/120\n",
            "1/1 [==============================] - 0s 34ms/step - loss: 0.3528 - accuracy: 0.8636 - val_loss: 0.4863 - val_accuracy: 0.7941\n",
            "Epoch 114/120\n",
            "1/1 [==============================] - 0s 33ms/step - loss: 0.3502 - accuracy: 0.8712 - val_loss: 0.4867 - val_accuracy: 0.7941\n",
            "Epoch 115/120\n",
            "1/1 [==============================] - 0s 32ms/step - loss: 0.3477 - accuracy: 0.8712 - val_loss: 0.4870 - val_accuracy: 0.7941\n",
            "Epoch 116/120\n",
            "1/1 [==============================] - 0s 35ms/step - loss: 0.3452 - accuracy: 0.8712 - val_loss: 0.4874 - val_accuracy: 0.8235\n",
            "Epoch 117/120\n",
            "1/1 [==============================] - 0s 37ms/step - loss: 0.3428 - accuracy: 0.8636 - val_loss: 0.4878 - val_accuracy: 0.8235\n",
            "Epoch 118/120\n",
            "1/1 [==============================] - 0s 37ms/step - loss: 0.3404 - accuracy: 0.8636 - val_loss: 0.4881 - val_accuracy: 0.8235\n",
            "Epoch 119/120\n",
            "1/1 [==============================] - 0s 37ms/step - loss: 0.3381 - accuracy: 0.8636 - val_loss: 0.4883 - val_accuracy: 0.8235\n",
            "Epoch 120/120\n",
            "1/1 [==============================] - 0s 36ms/step - loss: 0.3358 - accuracy: 0.8636 - val_loss: 0.4886 - val_accuracy: 0.8529\n"
          ],
          "name": "stdout"
        }
      ]
    },
    {
      "cell_type": "code",
      "metadata": {
        "colab": {
          "base_uri": "https://localhost:8080/",
          "height": 313
        },
        "id": "UgMzxG-BlYvJ",
        "outputId": "5df81059-6265-4c83-86f8-289fa247d48a"
      },
      "source": [
        "plt.plot(history.history['accuracy'])\n",
        "plt.plot(history.history['val_accuracy'])\n",
        "plt.title('Accuracy')\n",
        "plt.ylabel('accuracy')\n",
        "plt.xlabel('epoch')\n",
        "plt.legend(['train', 'validation'], loc='lower right')\n"
      ],
      "execution_count": null,
      "outputs": [
        {
          "output_type": "execute_result",
          "data": {
            "text/plain": [
              "<matplotlib.legend.Legend at 0x7f369a431750>"
            ]
          },
          "metadata": {
            "tags": []
          },
          "execution_count": 50
        },
        {
          "output_type": "display_data",
          "data": {
            "image/png": "[encoded data removed]",
            "text/plain": [
              "<Figure size 432x288 with 1 Axes>"
            ]
          },
          "metadata": {
            "tags": [],
            "needs_background": "light"
          }
        }
      ]
    },
    {
      "cell_type": "code",
      "metadata": {
        "colab": {
          "base_uri": "https://localhost:8080/",
          "height": 313
        },
        "id": "M6cexG4olYy2",
        "outputId": "f1cbcf1c-c12b-434e-87c5-1ca65276648c"
      },
      "source": [
        "plt.plot(history.history['loss'])\n",
        "plt.plot(history.history['val_loss'])\n",
        "plt.title('Loss')\n",
        "plt.ylabel('loss')\n",
        "plt.xlabel('epoch')\n",
        "plt.legend(['train', 'validation'], loc = 'upper right')"
      ],
      "execution_count": null,
      "outputs": [
        {
          "output_type": "execute_result",
          "data": {
            "text/plain": [
              "<matplotlib.legend.Legend at 0x7f369a557990>"
            ]
          },
          "metadata": {
            "tags": []
          },
          "execution_count": 51
        },
        {
          "output_type": "display_data",
          "data": {
            "image/png": "[encoded data removed]",
            "text/plain": [
              "<Figure size 432x288 with 1 Axes>"
            ]
          },
          "metadata": {
            "tags": [],
            "needs_background": "light"
          }
        }
      ]
    },
    {
      "cell_type": "code",
      "metadata": {
        "colab": {
          "base_uri": "https://localhost:8080/"
        },
        "id": "Dy3c448DlY2W",
        "outputId": "ae5c71dd-7b6c-43a8-ac17-a9ebead6fce7"
      },
      "source": [
        "Y_pred = model.predict(X_test)\n",
        "y_pred = np.argmax(Y_pred, axis = 1)\n",
        "[test_loss, test_acc] = model.evaluate(X_test, Y_test)\n",
        "print(\"Test Loss\", test_loss)\n",
        "print(\"Test Accuracy\", test_acc)"
      ],
      "execution_count": null,
      "outputs": [
        {
          "output_type": "stream",
          "text": [
            "WARNING:tensorflow:6 out of the last 11 calls to <function Model.make_predict_function.<locals>.predict_function at 0x7f36ae22ba70> triggered tf.function retracing. Tracing is expensive and the excessive number of tracings could be due to (1) creating @tf.function repeatedly in a loop, (2) passing tensors with different shapes, (3) passing Python objects instead of tensors. For (1), please define your @tf.function outside of the loop. For (2), @tf.function has experimental_relax_shapes=True option that relaxes argument shapes that can avoid unnecessary retracing. For (3), please refer to https://www.tensorflow.org/guide/function#controlling_retracing and https://www.tensorflow.org/api_docs/python/tf/function for  more details.\n",
            "2/2 [==============================] - 0s 7ms/step - loss: 0.5029 - accuracy: 0.7619\n",
            "Test Loss 0.5029429197311401\n",
            "Test Accuracy 0.761904776096344\n"
          ],
          "name": "stdout"
        }
      ]
    },
    {
      "cell_type": "code",
      "metadata": {
        "colab": {
          "base_uri": "https://localhost:8080/"
        },
        "id": "gO6Y7JaElnlF",
        "outputId": "4bfbc8a6-3c51-4e9c-ab87-57e00ad23dc4"
      },
      "source": [
        "class_names = [0, 1]\n",
        "confusion_mtx = confusion_matrix(y_test, y_pred)\n",
        "print(\"confusion matrix=\\n\", confusion_mtx)"
      ],
      "execution_count": null,
      "outputs": [
        {
          "output_type": "stream",
          "text": [
            "confusion matrix=\n",
            " [[21  6]\n",
            " [ 4 11]]\n"
          ],
          "name": "stdout"
        }
      ]
    },
    {
      "cell_type": "code",
      "metadata": {
        "colab": {
          "base_uri": "https://localhost:8080/"
        },
        "id": "rjIfPonKlnqg",
        "outputId": "35c0957f-d315-4297-8df8-24a406b70713"
      },
      "source": [
        "#30 epoch\n",
        "model = Sequential()\n",
        "model.add(Dense(200, activation = 'relu', input_shape = (60,)))\n",
        "model.add(Dense(450, activation = 'relu'))\n",
        "model.add(Dense(400, activation = 'relu'))\n",
        "model.add(Dense(100, activation = 'relu'))\n",
        "model.add(Dense(2, activation = 'softmax'))\n",
        "model.summary()\n",
        "model.compile(loss = 'categorical_crossentropy', optimizer = 'adam', metrics = ['accuracy'])\n",
        "history = model.fit(X_train, Y_train, epochs = 30, batch_size = 32, validation_split = 0.2)"
      ],
      "execution_count": null,
      "outputs": [
        {
          "output_type": "stream",
          "text": [
            "Model: \"sequential\"\n",
            "_________________________________________________________________\n",
            "Layer (type)                 Output Shape              Param #   \n",
            "=================================================================\n",
            "dense (Dense)                (None, 200)               12200     \n",
            "_________________________________________________________________\n",
            "dense_1 (Dense)              (None, 450)               90450     \n",
            "_________________________________________________________________\n",
            "dense_2 (Dense)              (None, 400)               180400    \n",
            "_________________________________________________________________\n",
            "dense_3 (Dense)              (None, 100)               40100     \n",
            "_________________________________________________________________\n",
            "dense_4 (Dense)              (None, 2)                 202       \n",
            "=================================================================\n",
            "Total params: 323,352\n",
            "Trainable params: 323,352\n",
            "Non-trainable params: 0\n",
            "_________________________________________________________________\n",
            "Epoch 1/30\n",
            "5/5 [==============================] - 4s 122ms/step - loss: 0.6710 - accuracy: 0.6233 - val_loss: 0.6401 - val_accuracy: 0.6176\n",
            "Epoch 2/30\n",
            "5/5 [==============================] - 0s 11ms/step - loss: 0.6073 - accuracy: 0.6634 - val_loss: 0.5521 - val_accuracy: 0.7647\n",
            "Epoch 3/30\n",
            "5/5 [==============================] - 0s 10ms/step - loss: 0.5365 - accuracy: 0.7382 - val_loss: 0.5557 - val_accuracy: 0.6765\n",
            "Epoch 4/30\n",
            "5/5 [==============================] - 0s 10ms/step - loss: 0.4553 - accuracy: 0.8144 - val_loss: 0.5485 - val_accuracy: 0.7059\n",
            "Epoch 5/30\n",
            "5/5 [==============================] - 0s 11ms/step - loss: 0.4894 - accuracy: 0.7380 - val_loss: 0.5481 - val_accuracy: 0.7059\n",
            "Epoch 6/30\n",
            "5/5 [==============================] - 0s 10ms/step - loss: 0.3560 - accuracy: 0.8545 - val_loss: 0.5085 - val_accuracy: 0.7353\n",
            "Epoch 7/30\n",
            "5/5 [==============================] - 0s 11ms/step - loss: 0.3723 - accuracy: 0.8292 - val_loss: 0.5978 - val_accuracy: 0.7353\n",
            "Epoch 8/30\n",
            "5/5 [==============================] - 0s 10ms/step - loss: 0.3049 - accuracy: 0.8285 - val_loss: 0.4858 - val_accuracy: 0.7647\n",
            "Epoch 9/30\n",
            "5/5 [==============================] - 0s 11ms/step - loss: 0.3052 - accuracy: 0.8290 - val_loss: 0.4513 - val_accuracy: 0.7353\n",
            "Epoch 10/30\n",
            "5/5 [==============================] - 0s 10ms/step - loss: 0.4322 - accuracy: 0.7710 - val_loss: 0.4881 - val_accuracy: 0.7647\n",
            "Epoch 11/30\n",
            "5/5 [==============================] - 0s 10ms/step - loss: 0.3596 - accuracy: 0.8379 - val_loss: 0.5524 - val_accuracy: 0.7941\n",
            "Epoch 12/30\n",
            "5/5 [==============================] - 0s 11ms/step - loss: 0.2832 - accuracy: 0.8773 - val_loss: 0.5256 - val_accuracy: 0.6471\n",
            "Epoch 13/30\n",
            "5/5 [==============================] - 0s 12ms/step - loss: 0.3694 - accuracy: 0.8384 - val_loss: 0.3961 - val_accuracy: 0.8529\n",
            "Epoch 14/30\n",
            "5/5 [==============================] - 0s 10ms/step - loss: 0.2195 - accuracy: 0.9178 - val_loss: 0.4443 - val_accuracy: 0.7941\n",
            "Epoch 15/30\n",
            "5/5 [==============================] - 0s 10ms/step - loss: 0.1683 - accuracy: 0.9811 - val_loss: 0.4300 - val_accuracy: 0.7941\n",
            "Epoch 16/30\n",
            "5/5 [==============================] - 0s 10ms/step - loss: 0.1367 - accuracy: 0.9305 - val_loss: 0.5752 - val_accuracy: 0.7647\n",
            "Epoch 17/30\n",
            "5/5 [==============================] - 0s 10ms/step - loss: 0.1328 - accuracy: 0.9524 - val_loss: 0.4300 - val_accuracy: 0.8824\n",
            "Epoch 18/30\n",
            "5/5 [==============================] - 0s 9ms/step - loss: 0.0887 - accuracy: 0.9703 - val_loss: 0.4364 - val_accuracy: 0.8529\n",
            "Epoch 19/30\n",
            "5/5 [==============================] - 0s 10ms/step - loss: 0.0485 - accuracy: 1.0000 - val_loss: 0.4604 - val_accuracy: 0.8824\n",
            "Epoch 20/30\n",
            "5/5 [==============================] - 0s 10ms/step - loss: 0.0538 - accuracy: 0.9811 - val_loss: 0.4235 - val_accuracy: 0.8824\n",
            "Epoch 21/30\n",
            "5/5 [==============================] - 0s 10ms/step - loss: 0.0292 - accuracy: 0.9889 - val_loss: 0.6641 - val_accuracy: 0.7941\n",
            "Epoch 22/30\n",
            "5/5 [==============================] - 0s 10ms/step - loss: 0.0229 - accuracy: 1.0000 - val_loss: 0.4627 - val_accuracy: 0.8235\n",
            "Epoch 23/30\n",
            "5/5 [==============================] - 0s 12ms/step - loss: 0.0250 - accuracy: 1.0000 - val_loss: 0.5912 - val_accuracy: 0.8235\n",
            "Epoch 24/30\n",
            "5/5 [==============================] - 0s 10ms/step - loss: 0.0106 - accuracy: 1.0000 - val_loss: 0.6701 - val_accuracy: 0.8529\n",
            "Epoch 25/30\n",
            "5/5 [==============================] - 0s 10ms/step - loss: 0.0077 - accuracy: 1.0000 - val_loss: 0.5478 - val_accuracy: 0.8235\n",
            "Epoch 26/30\n",
            "5/5 [==============================] - 0s 10ms/step - loss: 0.0056 - accuracy: 1.0000 - val_loss: 0.6198 - val_accuracy: 0.8235\n",
            "Epoch 27/30\n",
            "5/5 [==============================] - 0s 10ms/step - loss: 0.0031 - accuracy: 1.0000 - val_loss: 0.7113 - val_accuracy: 0.7647\n",
            "Epoch 28/30\n",
            "5/5 [==============================] - 0s 10ms/step - loss: 0.0022 - accuracy: 1.0000 - val_loss: 0.6660 - val_accuracy: 0.8235\n",
            "Epoch 29/30\n",
            "5/5 [==============================] - 0s 10ms/step - loss: 0.0018 - accuracy: 1.0000 - val_loss: 0.6211 - val_accuracy: 0.8235\n",
            "Epoch 30/30\n",
            "5/5 [==============================] - 0s 10ms/step - loss: 0.0012 - accuracy: 1.0000 - val_loss: 0.6121 - val_accuracy: 0.8235\n"
          ],
          "name": "stdout"
        }
      ]
    },
    {
      "cell_type": "code",
      "metadata": {
        "colab": {
          "base_uri": "https://localhost:8080/",
          "height": 313
        },
        "id": "aIoiadFilvWB",
        "outputId": "659065d3-7709-4c53-d6a7-a5ab1dba288e"
      },
      "source": [
        "plt.plot(history.history['accuracy'])\n",
        "plt.plot(history.history['val_accuracy'])\n",
        "plt.title('Accuracy')\n",
        "plt.ylabel('accuracy')\n",
        "plt.xlabel('epoch')\n",
        "plt.legend(['train', 'validation'], loc='lower right')"
      ],
      "execution_count": null,
      "outputs": [
        {
          "output_type": "execute_result",
          "data": {
            "text/plain": [
              "<matplotlib.legend.Legend at 0x7f369e1d6b50>"
            ]
          },
          "metadata": {
            "tags": []
          },
          "execution_count": 55
        },
        {
          "output_type": "display_data",
          "data": {
            "image/png": "[encoded data removed]",
            "text/plain": [
              "<Figure size 432x288 with 1 Axes>"
            ]
          },
          "metadata": {
            "tags": [],
            "needs_background": "light"
          }
        }
      ]
    },
    {
      "cell_type": "code",
      "metadata": {
        "colab": {
          "base_uri": "https://localhost:8080/",
          "height": 313
        },
        "id": "Weq8KUj_lvar",
        "outputId": "8807fc40-29be-43e1-f3ca-4c673373a6f1"
      },
      "source": [
        "plt.plot(history.history['loss'])\n",
        "plt.plot(history.history['val_loss'])\n",
        "plt.title('Loss')\n",
        "plt.ylabel('loss')\n",
        "plt.xlabel('epoch')\n",
        "plt.legend(['train', 'validation'], loc = 'upper right')"
      ],
      "execution_count": null,
      "outputs": [
        {
          "output_type": "execute_result",
          "data": {
            "text/plain": [
              "<matplotlib.legend.Legend at 0x7f369a686790>"
            ]
          },
          "metadata": {
            "tags": []
          },
          "execution_count": 56
        },
        {
          "output_type": "display_data",
          "data": {
            "image/png": "[encoded data removed]",
            "text/plain": [
              "<Figure size 432x288 with 1 Axes>"
            ]
          },
          "metadata": {
            "tags": [],
            "needs_background": "light"
          }
        }
      ]
    },
    {
      "cell_type": "code",
      "metadata": {
        "colab": {
          "base_uri": "https://localhost:8080/"
        },
        "id": "kfQ70dSnGlWt",
        "outputId": "4e8282d8-ea67-431a-f6b3-f65f07d52bdc"
      },
      "source": [
        "Y_pred = model.predict(X_test)\n",
        "y_pred = np.argmax(Y_pred, axis = 1)\n",
        "[test_loss, test_acc] = model.evaluate(X_test, Y_test)\n",
        "print(\"Test Loss\", test_loss)\n",
        "print(\"Test Accuracy\", test_acc)\n",
        "class_names = [0, 1]\n",
        "confusion_mtx = confusion_matrix(y_test, y_pred)\n",
        "print(\"confusion matrix=\\n\", confusion_mtx)"
      ],
      "execution_count": null,
      "outputs": [
        {
          "output_type": "stream",
          "text": [
            "2/2 [==============================] - 0s 6ms/step - loss: 0.4542 - accuracy: 0.9286\n",
            "Test Loss 0.45417895913124084\n",
            "Test Accuracy 0.9285714030265808\n",
            "confusion matrix=\n",
            " [[24  3]\n",
            " [ 0 15]]\n"
          ],
          "name": "stdout"
        }
      ]
    },
    {
      "cell_type": "code",
      "metadata": {
        "colab": {
          "base_uri": "https://localhost:8080/"
        },
        "id": "Dmv2tKp7lve1",
        "outputId": "dc5801a5-c6da-48e8-9911-652d9606e6b1"
      },
      "source": [
        "# 6 layer\n",
        "model = Sequential()\n",
        "model.add(Dense(200, activation = 'relu', input_shape = (60,)))\n",
        "model.add(Dense(500, activation = 'relu'))\n",
        "model.add(Dense(800, activation = 'relu'))\n",
        "model.add(Dense(900, activation = 'relu'))\n",
        "model.add(Dense(300, activation = 'relu'))\n",
        "model.add(Dense(100, activation = 'relu'))\n",
        "model.add(Dense(2, activation = 'softmax'))\n",
        "model.summary()\n",
        "model.compile(loss = 'categorical_crossentropy', optimizer = 'adam', metrics = ['accuracy'])\n",
        "history = model.fit(X_train, Y_train, epochs = 20, batch_size = 32, validation_split = 0.2)"
      ],
      "execution_count": null,
      "outputs": [
        {
          "output_type": "stream",
          "text": [
            "Model: \"sequential_8\"\n",
            "_________________________________________________________________\n",
            "Layer (type)                 Output Shape              Param #   \n",
            "=================================================================\n",
            "dense_26 (Dense)             (None, 200)               12200     \n",
            "_________________________________________________________________\n",
            "dense_27 (Dense)             (None, 500)               100500    \n",
            "_________________________________________________________________\n",
            "dense_28 (Dense)             (None, 800)               400800    \n",
            "_________________________________________________________________\n",
            "dense_29 (Dense)             (None, 900)               720900    \n",
            "_________________________________________________________________\n",
            "dense_30 (Dense)             (None, 300)               270300    \n",
            "_________________________________________________________________\n",
            "dense_31 (Dense)             (None, 100)               30100     \n",
            "_________________________________________________________________\n",
            "dense_32 (Dense)             (None, 2)                 202       \n",
            "=================================================================\n",
            "Total params: 1,535,002\n",
            "Trainable params: 1,535,002\n",
            "Non-trainable params: 0\n",
            "_________________________________________________________________\n",
            "Epoch 1/20\n",
            "5/5 [==============================] - 1s 65ms/step - loss: 0.6937 - accuracy: 0.5906 - val_loss: 0.7221 - val_accuracy: 0.5294\n",
            "Epoch 2/20\n",
            "5/5 [==============================] - 0s 11ms/step - loss: 0.7213 - accuracy: 0.4928 - val_loss: 0.6221 - val_accuracy: 0.6765\n",
            "Epoch 3/20\n",
            "5/5 [==============================] - 0s 10ms/step - loss: 0.5799 - accuracy: 0.7503 - val_loss: 0.5219 - val_accuracy: 0.7353\n",
            "Epoch 4/20\n",
            "5/5 [==============================] - 0s 10ms/step - loss: 0.4366 - accuracy: 0.7600 - val_loss: 0.5745 - val_accuracy: 0.7059\n",
            "Epoch 5/20\n",
            "5/5 [==============================] - 0s 10ms/step - loss: 0.2875 - accuracy: 0.8736 - val_loss: 1.2681 - val_accuracy: 0.7059\n",
            "Epoch 6/20\n",
            "5/5 [==============================] - 0s 10ms/step - loss: 1.0658 - accuracy: 0.7033 - val_loss: 0.8002 - val_accuracy: 0.6765\n",
            "Epoch 7/20\n",
            "5/5 [==============================] - 0s 13ms/step - loss: 0.4186 - accuracy: 0.8095 - val_loss: 0.5045 - val_accuracy: 0.7353\n",
            "Epoch 8/20\n",
            "5/5 [==============================] - 0s 10ms/step - loss: 0.3789 - accuracy: 0.8339 - val_loss: 0.5075 - val_accuracy: 0.7353\n",
            "Epoch 9/20\n",
            "5/5 [==============================] - 0s 11ms/step - loss: 0.2963 - accuracy: 0.8853 - val_loss: 0.5116 - val_accuracy: 0.8529\n",
            "Epoch 10/20\n",
            "5/5 [==============================] - 0s 11ms/step - loss: 0.2168 - accuracy: 0.9044 - val_loss: 0.6334 - val_accuracy: 0.7647\n",
            "Epoch 11/20\n",
            "5/5 [==============================] - 0s 10ms/step - loss: 0.2304 - accuracy: 0.8696 - val_loss: 0.6631 - val_accuracy: 0.7059\n",
            "Epoch 12/20\n",
            "5/5 [==============================] - 0s 12ms/step - loss: 0.1572 - accuracy: 0.9100 - val_loss: 0.6053 - val_accuracy: 0.7647\n",
            "Epoch 13/20\n",
            "5/5 [==============================] - 0s 11ms/step - loss: 0.1799 - accuracy: 0.9246 - val_loss: 0.5479 - val_accuracy: 0.7647\n",
            "Epoch 14/20\n",
            "5/5 [==============================] - 0s 11ms/step - loss: 0.3431 - accuracy: 0.8144 - val_loss: 0.4558 - val_accuracy: 0.7941\n",
            "Epoch 15/20\n",
            "5/5 [==============================] - 0s 10ms/step - loss: 0.2139 - accuracy: 0.9244 - val_loss: 0.9085 - val_accuracy: 0.7353\n",
            "Epoch 16/20\n",
            "5/5 [==============================] - 0s 10ms/step - loss: 0.2690 - accuracy: 0.8568 - val_loss: 0.5893 - val_accuracy: 0.7647\n",
            "Epoch 17/20\n",
            "5/5 [==============================] - 0s 12ms/step - loss: 0.1121 - accuracy: 0.9416 - val_loss: 0.7207 - val_accuracy: 0.8235\n",
            "Epoch 18/20\n",
            "5/5 [==============================] - 0s 11ms/step - loss: 0.0886 - accuracy: 0.9368 - val_loss: 0.9467 - val_accuracy: 0.7941\n",
            "Epoch 19/20\n",
            "5/5 [==============================] - 0s 11ms/step - loss: 0.0475 - accuracy: 0.9893 - val_loss: 1.0975 - val_accuracy: 0.7647\n",
            "Epoch 20/20\n",
            "5/5 [==============================] - 0s 10ms/step - loss: 0.2433 - accuracy: 0.9061 - val_loss: 0.5564 - val_accuracy: 0.8824\n"
          ],
          "name": "stdout"
        }
      ]
    },
    {
      "cell_type": "code",
      "metadata": {
        "colab": {
          "base_uri": "https://localhost:8080/",
          "height": 313
        },
        "id": "c_tUOIvwlvhz",
        "outputId": "550f56e7-c3d0-4ac4-9179-cd6f36fa4856"
      },
      "source": [
        "plt.plot(history.history['accuracy'])\n",
        "plt.plot(history.history['val_accuracy'])\n",
        "plt.title('Accuracy')\n",
        "plt.ylabel('accuracy')\n",
        "plt.xlabel('epoch')\n",
        "plt.legend(['train', 'validation'], loc='lower right')"
      ],
      "execution_count": null,
      "outputs": [
        {
          "output_type": "execute_result",
          "data": {
            "text/plain": [
              "<matplotlib.legend.Legend at 0x7f369e1dda10>"
            ]
          },
          "metadata": {
            "tags": []
          },
          "execution_count": 58
        },
        {
          "output_type": "display_data",
          "data": {
            "image/png": "[encoded data removed]",
            "text/plain": [
              "<Figure size 432x288 with 1 Axes>"
            ]
          },
          "metadata": {
            "tags": [],
            "needs_background": "light"
          }
        }
      ]
    },
    {
      "cell_type": "code",
      "metadata": {
        "colab": {
          "base_uri": "https://localhost:8080/",
          "height": 313
        },
        "id": "7JWXOu8BlvlP",
        "outputId": "7b8e9879-2402-4ec4-94eb-df7172ce86e9"
      },
      "source": [
        "plt.plot(history.history['loss'])\n",
        "plt.plot(history.history['val_loss'])\n",
        "plt.title('Loss')\n",
        "plt.ylabel('loss')\n",
        "plt.xlabel('epoch')\n",
        "plt.legend(['train', 'validation'], loc = 'upper right')"
      ],
      "execution_count": null,
      "outputs": [
        {
          "output_type": "execute_result",
          "data": {
            "text/plain": [
              "<matplotlib.legend.Legend at 0x7f369a710450>"
            ]
          },
          "metadata": {
            "tags": []
          },
          "execution_count": 59
        },
        {
          "output_type": "display_data",
          "data": {
            "image/png": "[encoded data removed]",
            "text/plain": [
              "<Figure size 432x288 with 1 Axes>"
            ]
          },
          "metadata": {
            "tags": [],
            "needs_background": "light"
          }
        }
      ]
    },
    {
      "cell_type": "code",
      "metadata": {
        "colab": {
          "base_uri": "https://localhost:8080/"
        },
        "id": "sLaIrAFblvoM",
        "outputId": "a16fdb44-2871-468d-b779-86c6345d4299"
      },
      "source": [
        "Y_pred = model.predict(X_test)\n",
        "y_pred = np.argmax(Y_pred, axis = 1)\n",
        "[test_loss, test_acc] = model.evaluate(X_test, Y_test)\n",
        "print(\"Test Loss\", test_loss)\n",
        "print(\"Test Accuracy\", test_acc)"
      ],
      "execution_count": null,
      "outputs": [
        {
          "output_type": "stream",
          "text": [
            "WARNING:tensorflow:6 out of the last 11 calls to <function Model.make_predict_function.<locals>.predict_function at 0x7f369e175200> triggered tf.function retracing. Tracing is expensive and the excessive number of tracings could be due to (1) creating @tf.function repeatedly in a loop, (2) passing tensors with different shapes, (3) passing Python objects instead of tensors. For (1), please define your @tf.function outside of the loop. For (2), @tf.function has experimental_relax_shapes=True option that relaxes argument shapes that can avoid unnecessary retracing. For (3), please refer to https://www.tensorflow.org/guide/function#controlling_retracing and https://www.tensorflow.org/api_docs/python/tf/function for  more details.\n",
            "2/2 [==============================] - 0s 6ms/step - loss: 0.7685 - accuracy: 0.8333\n",
            "Test Loss 0.7685147523880005\n",
            "Test Accuracy 0.8333333134651184\n"
          ],
          "name": "stdout"
        }
      ]
    },
    {
      "cell_type": "code",
      "metadata": {
        "colab": {
          "base_uri": "https://localhost:8080/"
        },
        "id": "S55qJAxQlvrP",
        "outputId": "8c64c49e-b5a1-431f-a911-3bb36aa9b016"
      },
      "source": [
        "class_names = [0, 1]\n",
        "confusion_mtx = confusion_matrix(y_test, y_pred)\n",
        "print(\"confusion matrix=\\n\", confusion_mtx)"
      ],
      "execution_count": null,
      "outputs": [
        {
          "output_type": "stream",
          "text": [
            "confusion matrix=\n",
            " [[20  7]\n",
            " [ 0 15]]\n"
          ],
          "name": "stdout"
        }
      ]
    },
    {
      "cell_type": "code",
      "metadata": {
        "colab": {
          "base_uri": "https://localhost:8080/"
        },
        "id": "hOSiDgyelvuV",
        "outputId": "3c3179ce-5ac8-47e9-b1ed-9282dc110f42"
      },
      "source": [
        "#laye haye kamtar\n",
        "model = Sequential()\n",
        "model.add(Dense(512, activation = 'relu', input_shape = (60,)))\n",
        "model.add(Dense(2, activation = 'softmax'))\n",
        "model.summary()\n",
        "model.compile(loss = 'categorical_crossentropy', optimizer = 'adam', metrics = ['accuracy'])\n",
        "history = model.fit(X_train, Y_train, epochs = 30, batch_size = 32, validation_split = 0.2)"
      ],
      "execution_count": null,
      "outputs": [
        {
          "output_type": "stream",
          "text": [
            "Model: \"sequential_9\"\n",
            "_________________________________________________________________\n",
            "Layer (type)                 Output Shape              Param #   \n",
            "=================================================================\n",
            "dense_33 (Dense)             (None, 512)               31232     \n",
            "_________________________________________________________________\n",
            "dense_34 (Dense)             (None, 2)                 1026      \n",
            "=================================================================\n",
            "Total params: 32,258\n",
            "Trainable params: 32,258\n",
            "Non-trainable params: 0\n",
            "_________________________________________________________________\n",
            "Epoch 1/30\n",
            "5/5 [==============================] - 0s 55ms/step - loss: 0.6910 - accuracy: 0.4991 - val_loss: 0.6458 - val_accuracy: 0.5882\n",
            "Epoch 2/30\n",
            "5/5 [==============================] - 0s 11ms/step - loss: 0.6286 - accuracy: 0.6566 - val_loss: 0.5982 - val_accuracy: 0.9118\n",
            "Epoch 3/30\n",
            "5/5 [==============================] - 0s 9ms/step - loss: 0.5911 - accuracy: 0.6651 - val_loss: 0.5871 - val_accuracy: 0.6765\n",
            "Epoch 4/30\n",
            "5/5 [==============================] - 0s 10ms/step - loss: 0.5359 - accuracy: 0.7150 - val_loss: 0.5604 - val_accuracy: 0.7941\n",
            "Epoch 5/30\n",
            "5/5 [==============================] - 0s 10ms/step - loss: 0.5153 - accuracy: 0.7442 - val_loss: 0.5590 - val_accuracy: 0.7353\n",
            "Epoch 6/30\n",
            "5/5 [==============================] - 0s 9ms/step - loss: 0.4924 - accuracy: 0.7376 - val_loss: 0.5445 - val_accuracy: 0.7353\n",
            "Epoch 7/30\n",
            "5/5 [==============================] - 0s 9ms/step - loss: 0.4774 - accuracy: 0.8160 - val_loss: 0.5412 - val_accuracy: 0.7059\n",
            "Epoch 8/30\n",
            "5/5 [==============================] - 0s 9ms/step - loss: 0.4925 - accuracy: 0.8302 - val_loss: 0.5376 - val_accuracy: 0.7059\n",
            "Epoch 9/30\n",
            "5/5 [==============================] - 0s 9ms/step - loss: 0.4709 - accuracy: 0.7762 - val_loss: 0.5412 - val_accuracy: 0.7353\n",
            "Epoch 10/30\n",
            "5/5 [==============================] - 0s 9ms/step - loss: 0.4335 - accuracy: 0.7607 - val_loss: 0.5138 - val_accuracy: 0.7059\n",
            "Epoch 11/30\n",
            "5/5 [==============================] - 0s 9ms/step - loss: 0.4375 - accuracy: 0.8069 - val_loss: 0.4983 - val_accuracy: 0.7353\n",
            "Epoch 12/30\n",
            "5/5 [==============================] - 0s 9ms/step - loss: 0.4042 - accuracy: 0.8303 - val_loss: 0.4942 - val_accuracy: 0.7059\n",
            "Epoch 13/30\n",
            "5/5 [==============================] - 0s 9ms/step - loss: 0.4173 - accuracy: 0.8507 - val_loss: 0.4932 - val_accuracy: 0.7353\n",
            "Epoch 14/30\n",
            "5/5 [==============================] - 0s 9ms/step - loss: 0.4318 - accuracy: 0.8335 - val_loss: 0.4829 - val_accuracy: 0.7647\n",
            "Epoch 15/30\n",
            "5/5 [==============================] - 0s 9ms/step - loss: 0.3852 - accuracy: 0.8325 - val_loss: 0.4778 - val_accuracy: 0.7647\n",
            "Epoch 16/30\n",
            "5/5 [==============================] - 0s 9ms/step - loss: 0.3582 - accuracy: 0.8515 - val_loss: 0.4744 - val_accuracy: 0.7647\n",
            "Epoch 17/30\n",
            "5/5 [==============================] - 0s 10ms/step - loss: 0.3788 - accuracy: 0.8238 - val_loss: 0.4712 - val_accuracy: 0.8235\n",
            "Epoch 18/30\n",
            "5/5 [==============================] - 0s 10ms/step - loss: 0.3347 - accuracy: 0.8576 - val_loss: 0.4659 - val_accuracy: 0.7941\n",
            "Epoch 19/30\n",
            "5/5 [==============================] - 0s 10ms/step - loss: 0.3510 - accuracy: 0.8841 - val_loss: 0.4638 - val_accuracy: 0.7941\n",
            "Epoch 20/30\n",
            "5/5 [==============================] - 0s 10ms/step - loss: 0.3668 - accuracy: 0.8413 - val_loss: 0.4670 - val_accuracy: 0.8235\n",
            "Epoch 21/30\n",
            "5/5 [==============================] - 0s 10ms/step - loss: 0.3141 - accuracy: 0.8700 - val_loss: 0.4614 - val_accuracy: 0.7941\n",
            "Epoch 22/30\n",
            "5/5 [==============================] - 0s 9ms/step - loss: 0.3521 - accuracy: 0.8526 - val_loss: 0.4594 - val_accuracy: 0.7941\n",
            "Epoch 23/30\n",
            "5/5 [==============================] - 0s 9ms/step - loss: 0.3339 - accuracy: 0.9029 - val_loss: 0.4603 - val_accuracy: 0.7941\n",
            "Epoch 24/30\n",
            "5/5 [==============================] - 0s 9ms/step - loss: 0.3252 - accuracy: 0.8883 - val_loss: 0.4699 - val_accuracy: 0.7941\n",
            "Epoch 25/30\n",
            "5/5 [==============================] - 0s 9ms/step - loss: 0.3159 - accuracy: 0.8724 - val_loss: 0.4761 - val_accuracy: 0.8235\n",
            "Epoch 26/30\n",
            "5/5 [==============================] - 0s 9ms/step - loss: 0.2799 - accuracy: 0.8784 - val_loss: 0.4684 - val_accuracy: 0.7059\n",
            "Epoch 27/30\n",
            "5/5 [==============================] - 0s 9ms/step - loss: 0.3191 - accuracy: 0.8636 - val_loss: 0.4496 - val_accuracy: 0.7941\n",
            "Epoch 28/30\n",
            "5/5 [==============================] - 0s 9ms/step - loss: 0.2849 - accuracy: 0.9171 - val_loss: 0.5159 - val_accuracy: 0.7941\n",
            "Epoch 29/30\n",
            "5/5 [==============================] - 0s 9ms/step - loss: 0.3292 - accuracy: 0.8761 - val_loss: 0.4347 - val_accuracy: 0.7353\n",
            "Epoch 30/30\n",
            "5/5 [==============================] - 0s 10ms/step - loss: 0.2969 - accuracy: 0.8385 - val_loss: 0.4343 - val_accuracy: 0.7353\n"
          ],
          "name": "stdout"
        }
      ]
    },
    {
      "cell_type": "code",
      "metadata": {
        "colab": {
          "base_uri": "https://localhost:8080/",
          "height": 313
        },
        "id": "hueHBol5lv-3",
        "outputId": "51e1165e-084d-4c7f-b10d-b36469755b81"
      },
      "source": [
        "plt.plot(history.history['accuracy'])\n",
        "plt.plot(history.history['val_accuracy'])\n",
        "plt.title('Accuracy')\n",
        "plt.ylabel('accuracy')\n",
        "plt.xlabel('epoch')\n",
        "plt.legend(['train', 'validation'], loc='lower right')"
      ],
      "execution_count": null,
      "outputs": [
        {
          "output_type": "execute_result",
          "data": {
            "text/plain": [
              "<matplotlib.legend.Legend at 0x7f3684f80210>"
            ]
          },
          "metadata": {
            "tags": []
          },
          "execution_count": 63
        },
        {
          "output_type": "display_data",
          "data": {
            "image/png": "[encoded data removed]",
            "text/plain": [
              "<Figure size 432x288 with 1 Axes>"
            ]
          },
          "metadata": {
            "tags": [],
            "needs_background": "light"
          }
        }
      ]
    },
    {
      "cell_type": "code",
      "metadata": {
        "colab": {
          "base_uri": "https://localhost:8080/",
          "height": 313
        },
        "id": "Z-4qexcalwDd",
        "outputId": "d0896325-6dc7-416e-8347-b5e1826d1f54"
      },
      "source": [
        "plt.plot(history.history['loss'])\n",
        "plt.plot(history.history['val_loss'])\n",
        "plt.title('Loss')\n",
        "plt.ylabel('loss')\n",
        "plt.xlabel('epoch')\n",
        "plt.legend(['train', 'validation'], loc = 'upper right')"
      ],
      "execution_count": null,
      "outputs": [
        {
          "output_type": "execute_result",
          "data": {
            "text/plain": [
              "<matplotlib.legend.Legend at 0x7f3684f7d3d0>"
            ]
          },
          "metadata": {
            "tags": []
          },
          "execution_count": 64
        },
        {
          "output_type": "display_data",
          "data": {
            "image/png": "[encoded data removed]",
            "text/plain": [
              "<Figure size 432x288 with 1 Axes>"
            ]
          },
          "metadata": {
            "tags": [],
            "needs_background": "light"
          }
        }
      ]
    },
    {
      "cell_type": "code",
      "metadata": {
        "colab": {
          "base_uri": "https://localhost:8080/"
        },
        "id": "k2gHD6iSlwGw",
        "outputId": "2abcf96c-ef23-4228-e688-aa88df3bb149"
      },
      "source": [
        "Y_pred = model.predict(X_test)\n",
        "y_pred = np.argmax(Y_pred, axis = 1)\n",
        "[test_loss, test_acc] = model.evaluate(X_test, Y_test)\n",
        "print(\"Test Loss\", test_loss)\n",
        "print(\"Test Accuracy\", test_acc)"
      ],
      "execution_count": null,
      "outputs": [
        {
          "output_type": "stream",
          "text": [
            "WARNING:tensorflow:6 out of the last 11 calls to <function Model.make_predict_function.<locals>.predict_function at 0x7f36836539e0> triggered tf.function retracing. Tracing is expensive and the excessive number of tracings could be due to (1) creating @tf.function repeatedly in a loop, (2) passing tensors with different shapes, (3) passing Python objects instead of tensors. For (1), please define your @tf.function outside of the loop. For (2), @tf.function has experimental_relax_shapes=True option that relaxes argument shapes that can avoid unnecessary retracing. For (3), please refer to https://www.tensorflow.org/guide/function#controlling_retracing and https://www.tensorflow.org/api_docs/python/tf/function for  more details.\n",
            "2/2 [==============================] - 0s 5ms/step - loss: 0.4759 - accuracy: 0.7857\n",
            "Test Loss 0.4758601486682892\n",
            "Test Accuracy 0.7857142686843872\n"
          ],
          "name": "stdout"
        }
      ]
    },
    {
      "cell_type": "code",
      "metadata": {
        "colab": {
          "base_uri": "https://localhost:8080/"
        },
        "id": "Gw9Q-eXvlwJ3",
        "outputId": "e3b51b90-cde1-402c-e77b-200d75195a24"
      },
      "source": [
        "class_names = [0, 1]\n",
        "confusion_mtx = confusion_matrix(y_test, y_pred)\n",
        "print(\"confusion matrix=\\n\", confusion_mtx)"
      ],
      "execution_count": null,
      "outputs": [
        {
          "output_type": "stream",
          "text": [
            "confusion matrix=\n",
            " [[19  8]\n",
            " [ 1 14]]\n"
          ],
          "name": "stdout"
        }
      ]
    },
    {
      "cell_type": "code",
      "metadata": {
        "colab": {
          "base_uri": "https://localhost:8080/"
        },
        "id": "aEu1IYYNlnuG",
        "outputId": "7014a3f8-ed24-412c-bc59-2ad719c9d9f4"
      },
      "source": [
        "#fewer neurons\n",
        "model = Sequential()\n",
        "model.add(Dense(200, activation = 'relu', input_shape = (60,)))\n",
        "model.add(Dense(300, activation = 'relu'))\n",
        "model.add(Dense(2, activation = 'softmax'))\n",
        "model.summary()\n",
        "model.compile(loss = 'categorical_crossentropy', optimizer = 'adam', metrics = ['accuracy'])\n",
        "history = model.fit(X_train, Y_train, epochs = 30, batch_size = 32, validation_split = 0.2)"
      ],
      "execution_count": null,
      "outputs": [
        {
          "output_type": "stream",
          "text": [
            "Model: \"sequential_10\"\n",
            "_________________________________________________________________\n",
            "Layer (type)                 Output Shape              Param #   \n",
            "=================================================================\n",
            "dense_35 (Dense)             (None, 200)               12200     \n",
            "_________________________________________________________________\n",
            "dense_36 (Dense)             (None, 300)               60300     \n",
            "_________________________________________________________________\n",
            "dense_37 (Dense)             (None, 2)                 602       \n",
            "=================================================================\n",
            "Total params: 73,102\n",
            "Trainable params: 73,102\n",
            "Non-trainable params: 0\n",
            "_________________________________________________________________\n",
            "Epoch 1/30\n",
            "5/5 [==============================] - 1s 54ms/step - loss: 0.6798 - accuracy: 0.5538 - val_loss: 0.6330 - val_accuracy: 0.6471\n",
            "Epoch 2/30\n",
            "5/5 [==============================] - 0s 10ms/step - loss: 0.6088 - accuracy: 0.6821 - val_loss: 0.5910 - val_accuracy: 0.7353\n",
            "Epoch 3/30\n",
            "5/5 [==============================] - 0s 9ms/step - loss: 0.5505 - accuracy: 0.7690 - val_loss: 0.5545 - val_accuracy: 0.7647\n",
            "Epoch 4/30\n",
            "5/5 [==============================] - 0s 9ms/step - loss: 0.5438 - accuracy: 0.7438 - val_loss: 0.5141 - val_accuracy: 0.8235\n",
            "Epoch 5/30\n",
            "5/5 [==============================] - 0s 9ms/step - loss: 0.4676 - accuracy: 0.8177 - val_loss: 0.5610 - val_accuracy: 0.7059\n",
            "Epoch 6/30\n",
            "5/5 [==============================] - 0s 12ms/step - loss: 0.4681 - accuracy: 0.7009 - val_loss: 0.4770 - val_accuracy: 0.7647\n",
            "Epoch 7/30\n",
            "5/5 [==============================] - 0s 10ms/step - loss: 0.4317 - accuracy: 0.8235 - val_loss: 0.4651 - val_accuracy: 0.7647\n",
            "Epoch 8/30\n",
            "5/5 [==============================] - 0s 9ms/step - loss: 0.4031 - accuracy: 0.8490 - val_loss: 0.4603 - val_accuracy: 0.8235\n",
            "Epoch 9/30\n",
            "5/5 [==============================] - 0s 9ms/step - loss: 0.3520 - accuracy: 0.8589 - val_loss: 0.4637 - val_accuracy: 0.7941\n",
            "Epoch 10/30\n",
            "5/5 [==============================] - 0s 10ms/step - loss: 0.3283 - accuracy: 0.8721 - val_loss: 0.4683 - val_accuracy: 0.7647\n",
            "Epoch 11/30\n",
            "5/5 [==============================] - 0s 11ms/step - loss: 0.3410 - accuracy: 0.8639 - val_loss: 0.5087 - val_accuracy: 0.7647\n",
            "Epoch 12/30\n",
            "5/5 [==============================] - 0s 10ms/step - loss: 0.3097 - accuracy: 0.8829 - val_loss: 0.4998 - val_accuracy: 0.7059\n",
            "Epoch 13/30\n",
            "5/5 [==============================] - 0s 10ms/step - loss: 0.2675 - accuracy: 0.8795 - val_loss: 0.4758 - val_accuracy: 0.7647\n",
            "Epoch 14/30\n",
            "5/5 [==============================] - 0s 10ms/step - loss: 0.2731 - accuracy: 0.9138 - val_loss: 0.4654 - val_accuracy: 0.7647\n",
            "Epoch 15/30\n",
            "5/5 [==============================] - 0s 10ms/step - loss: 0.2556 - accuracy: 0.8992 - val_loss: 0.4611 - val_accuracy: 0.7353\n",
            "Epoch 16/30\n",
            "5/5 [==============================] - 0s 10ms/step - loss: 0.2596 - accuracy: 0.8966 - val_loss: 0.4367 - val_accuracy: 0.8235\n",
            "Epoch 17/30\n",
            "5/5 [==============================] - 0s 9ms/step - loss: 0.2401 - accuracy: 0.9034 - val_loss: 0.4341 - val_accuracy: 0.8235\n",
            "Epoch 18/30\n",
            "5/5 [==============================] - 0s 9ms/step - loss: 0.2268 - accuracy: 0.9021 - val_loss: 0.4319 - val_accuracy: 0.7941\n",
            "Epoch 19/30\n",
            "5/5 [==============================] - 0s 11ms/step - loss: 0.2295 - accuracy: 0.8961 - val_loss: 0.5218 - val_accuracy: 0.7941\n",
            "Epoch 20/30\n",
            "5/5 [==============================] - 0s 10ms/step - loss: 0.2503 - accuracy: 0.8992 - val_loss: 0.4552 - val_accuracy: 0.7647\n",
            "Epoch 21/30\n",
            "5/5 [==============================] - 0s 10ms/step - loss: 0.2207 - accuracy: 0.8994 - val_loss: 0.4579 - val_accuracy: 0.7353\n",
            "Epoch 22/30\n",
            "5/5 [==============================] - 0s 9ms/step - loss: 0.1678 - accuracy: 0.9553 - val_loss: 0.4712 - val_accuracy: 0.7941\n",
            "Epoch 23/30\n",
            "5/5 [==============================] - 0s 9ms/step - loss: 0.1533 - accuracy: 0.9653 - val_loss: 0.4355 - val_accuracy: 0.7941\n",
            "Epoch 24/30\n",
            "5/5 [==============================] - 0s 9ms/step - loss: 0.1621 - accuracy: 0.9652 - val_loss: 0.4169 - val_accuracy: 0.8235\n",
            "Epoch 25/30\n",
            "5/5 [==============================] - 0s 11ms/step - loss: 0.1633 - accuracy: 0.9212 - val_loss: 0.4149 - val_accuracy: 0.7941\n",
            "Epoch 26/30\n",
            "5/5 [==============================] - 0s 9ms/step - loss: 0.1608 - accuracy: 0.9506 - val_loss: 0.4693 - val_accuracy: 0.7941\n",
            "Epoch 27/30\n",
            "5/5 [==============================] - 0s 10ms/step - loss: 0.1635 - accuracy: 0.9329 - val_loss: 0.3980 - val_accuracy: 0.7941\n",
            "Epoch 28/30\n",
            "5/5 [==============================] - 0s 10ms/step - loss: 0.1436 - accuracy: 0.9472 - val_loss: 0.4009 - val_accuracy: 0.8529\n",
            "Epoch 29/30\n",
            "5/5 [==============================] - 0s 9ms/step - loss: 0.1273 - accuracy: 0.9532 - val_loss: 0.3961 - val_accuracy: 0.8235\n",
            "Epoch 30/30\n",
            "5/5 [==============================] - 0s 9ms/step - loss: 0.1065 - accuracy: 0.9824 - val_loss: 0.5065 - val_accuracy: 0.7647\n"
          ],
          "name": "stdout"
        }
      ]
    },
    {
      "cell_type": "code",
      "metadata": {
        "colab": {
          "base_uri": "https://localhost:8080/",
          "height": 313
        },
        "id": "xip7YdBJlnw4",
        "outputId": "87f53a5f-b8bf-4d28-f0a4-8c12200a41c6"
      },
      "source": [
        "plt.plot(history.history['accuracy'])\n",
        "plt.plot(history.history['val_accuracy'])\n",
        "plt.title('Accuracy')\n",
        "plt.ylabel('accuracy')\n",
        "plt.xlabel('epoch')\n",
        "plt.legend(['train', 'validation'], loc='lower right')"
      ],
      "execution_count": null,
      "outputs": [
        {
          "output_type": "execute_result",
          "data": {
            "text/plain": [
              "<matplotlib.legend.Legend at 0x7f3683646710>"
            ]
          },
          "metadata": {
            "tags": []
          },
          "execution_count": 68
        },
        {
          "output_type": "display_data",
          "data": {
            "image/png": "[encoded data removed]",
            "text/plain": [
              "<Figure size 432x288 with 1 Axes>"
            ]
          },
          "metadata": {
            "tags": [],
            "needs_background": "light"
          }
        }
      ]
    },
    {
      "cell_type": "code",
      "metadata": {
        "colab": {
          "base_uri": "https://localhost:8080/",
          "height": 313
        },
        "id": "z8GERqNplnzo",
        "outputId": "e3fbd113-499f-4899-84ac-5e318a57331a"
      },
      "source": [
        "plt.plot(history.history['loss'])\n",
        "plt.plot(history.history['val_loss'])\n",
        "plt.title('Loss')\n",
        "plt.ylabel('loss')\n",
        "plt.xlabel('epoch')\n",
        "plt.legend(['train', 'validation'], loc = 'upper right')"
      ],
      "execution_count": null,
      "outputs": [
        {
          "output_type": "execute_result",
          "data": {
            "text/plain": [
              "<matplotlib.legend.Legend at 0x7f3682c54190>"
            ]
          },
          "metadata": {
            "tags": []
          },
          "execution_count": 69
        },
        {
          "output_type": "display_data",
          "data": {
            "image/png": "[encoded data removed]",
            "text/plain": [
              "<Figure size 432x288 with 1 Axes>"
            ]
          },
          "metadata": {
            "tags": [],
            "needs_background": "light"
          }
        }
      ]
    },
    {
      "cell_type": "code",
      "metadata": {
        "colab": {
          "base_uri": "https://localhost:8080/"
        },
        "id": "jWndxjNemzUp",
        "outputId": "97aa08be-94d2-40cf-ba84-d2799a180efc"
      },
      "source": [
        "Y_pred = model.predict(X_test)\n",
        "y_pred = np.argmax(Y_pred, axis = 1)\n",
        "[test_loss, test_acc] = model.evaluate(X_test, Y_test)\n",
        "print(\"Test Loss\", test_loss)\n",
        "print(\"Test Accuracy\", test_acc)"
      ],
      "execution_count": null,
      "outputs": [
        {
          "output_type": "stream",
          "text": [
            "WARNING:tensorflow:6 out of the last 11 calls to <function Model.make_predict_function.<locals>.predict_function at 0x7f3682bd2200> triggered tf.function retracing. Tracing is expensive and the excessive number of tracings could be due to (1) creating @tf.function repeatedly in a loop, (2) passing tensors with different shapes, (3) passing Python objects instead of tensors. For (1), please define your @tf.function outside of the loop. For (2), @tf.function has experimental_relax_shapes=True option that relaxes argument shapes that can avoid unnecessary retracing. For (3), please refer to https://www.tensorflow.org/guide/function#controlling_retracing and https://www.tensorflow.org/api_docs/python/tf/function for  more details.\n",
            "2/2 [==============================] - 0s 5ms/step - loss: 0.3254 - accuracy: 0.8333\n",
            "Test Loss 0.32543444633483887\n",
            "Test Accuracy 0.8333333134651184\n"
          ],
          "name": "stdout"
        }
      ]
    },
    {
      "cell_type": "code",
      "metadata": {
        "colab": {
          "base_uri": "https://localhost:8080/"
        },
        "id": "eG8XtwkjmzZp",
        "outputId": "75216954-af07-47b9-d889-b8b769b84d0e"
      },
      "source": [
        "class_names = [0, 1]\n",
        "confusion_mtx = confusion_matrix(y_test, y_pred)\n",
        "print(\"confusion matrix=\\n\", confusion_mtx)"
      ],
      "execution_count": null,
      "outputs": [
        {
          "output_type": "stream",
          "text": [
            "confusion matrix=\n",
            " [[25  2]\n",
            " [ 5 10]]\n"
          ],
          "name": "stdout"
        }
      ]
    },
    {
      "cell_type": "code",
      "metadata": {
        "id": "jEE8DH4tmzeQ"
      },
      "source": [
        ""
      ],
      "execution_count": null,
      "outputs": []
    }
  ]
}